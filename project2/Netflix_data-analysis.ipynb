{
 "cells": [
  {
   "cell_type": "markdown",
   "metadata": {},
   "source": [
    "# Section 1: Dataset #\n",
    "\n",
    "**The full Netflix title dataset:**\n",
    "\n",
    "Netflix is a global streaming service with a large variety of movies and TV shows available for users. This dataset lists all international titles that Netflix offers, along with their genres, type of media (movie/TV show), average IMDb rating, the number of votes, and the countries that it is available. This dataset is primarily based on the IMDb information of each title; for context, IMDb (Internet Movie Database) is a website where people can vote and rate movies, TV shows, and other forms of media.\n",
    "\n",
    "List of the dataset's variables:\n",
    "\n",
    "*title*: The name of the movie/TV show\n",
    "\n",
    "*type*: Specifies if the title is a movie or a TV show (tv)\n",
    "\n",
    "*releaseYear*: The year the title was released\n",
    "\n",
    "*imdbId*: The unique code that identifies the title on IMDb.com\n",
    "\n",
    "*imdbAverageRating*: The average rating of the title given by user votes\n",
    "\n",
    "*imdbNumVotes*: The number of people that rated the title\n",
    "\n",
    "*availableCountries*: Lists the countries which the title is available for streaming on Netflix.com\n",
    "\n",
    "**Why I chose this dataset**\n",
    "\n",
    "I chose this dataset because I have spent *countless* hours browsing the different titles on Netflix, searching for something to watch. I often have to cross-check with movie rating websites such as Letterboxd and IMDb. This dataset is meaningful to me because it contains everything I search for in one place- from title, to genre, to overall ratings.\n",
    "I found this dataset on *Kaggle.com* (credits to @octopusteam!). I knew I wanted to analyze a dataset on a media-related topic, such as video games or movies. Before deciding on it, I checked its download count and usability rating, and as I looked more into it, I found the information presented credible and reliable.\n",
    "\n",
    "**What I want to discover**\n",
    "\n",
    "I plan to analyze a variety of different aspects in this dataset. First, I'd like to look for general trends between IMDb ratings and user votes/release year. Then, I'd like to find what genres are most common or have the highest ratings; as well as what periods of time had the best rated movies. "
   ]
  },
  {
   "cell_type": "markdown",
   "metadata": {},
   "source": [
    "**Loading my dataset**"
   ]
  },
  {
   "cell_type": "code",
   "execution_count": 1,
   "metadata": {},
   "outputs": [
    {
     "data": {
      "text/html": [
       "<div>\n",
       "<style scoped>\n",
       "    .dataframe tbody tr th:only-of-type {\n",
       "        vertical-align: middle;\n",
       "    }\n",
       "\n",
       "    .dataframe tbody tr th {\n",
       "        vertical-align: top;\n",
       "    }\n",
       "\n",
       "    .dataframe thead th {\n",
       "        text-align: right;\n",
       "    }\n",
       "</style>\n",
       "<table border=\"1\" class=\"dataframe\">\n",
       "  <thead>\n",
       "    <tr style=\"text-align: right;\">\n",
       "      <th></th>\n",
       "      <th>title</th>\n",
       "      <th>type</th>\n",
       "      <th>genres</th>\n",
       "      <th>releaseYear</th>\n",
       "      <th>imdbId</th>\n",
       "      <th>imdbAverageRating</th>\n",
       "      <th>imdbNumVotes</th>\n",
       "      <th>availableCountries</th>\n",
       "    </tr>\n",
       "  </thead>\n",
       "  <tbody>\n",
       "    <tr>\n",
       "      <th>0</th>\n",
       "      <td>Forrest Gump</td>\n",
       "      <td>movie</td>\n",
       "      <td>Drama, Romance</td>\n",
       "      <td>1994.0</td>\n",
       "      <td>tt0109830</td>\n",
       "      <td>8.8</td>\n",
       "      <td>2319813.0</td>\n",
       "      <td>MX</td>\n",
       "    </tr>\n",
       "    <tr>\n",
       "      <th>1</th>\n",
       "      <td>The Fifth Element</td>\n",
       "      <td>movie</td>\n",
       "      <td>Action, Adventure, Sci-Fi</td>\n",
       "      <td>1997.0</td>\n",
       "      <td>tt0119116</td>\n",
       "      <td>7.6</td>\n",
       "      <td>517488.0</td>\n",
       "      <td>AT, CH, DE</td>\n",
       "    </tr>\n",
       "    <tr>\n",
       "      <th>2</th>\n",
       "      <td>Kill Bill: Vol. 1</td>\n",
       "      <td>movie</td>\n",
       "      <td>Action, Crime, Thriller</td>\n",
       "      <td>2003.0</td>\n",
       "      <td>tt0266697</td>\n",
       "      <td>8.2</td>\n",
       "      <td>1222943.0</td>\n",
       "      <td>AE, AL, AO, AT, AU, AZ, BG, BH, BY, CA, CI, CM...</td>\n",
       "    </tr>\n",
       "    <tr>\n",
       "      <th>3</th>\n",
       "      <td>Jarhead</td>\n",
       "      <td>movie</td>\n",
       "      <td>Biography, Drama, War</td>\n",
       "      <td>2005.0</td>\n",
       "      <td>tt0418763</td>\n",
       "      <td>7.0</td>\n",
       "      <td>211759.0</td>\n",
       "      <td>AD, AE, AG, AL, AO, AT, AZ, BA, BG, BH, BM, BR...</td>\n",
       "    </tr>\n",
       "    <tr>\n",
       "      <th>4</th>\n",
       "      <td>Unforgiven</td>\n",
       "      <td>movie</td>\n",
       "      <td>Drama, Western</td>\n",
       "      <td>1992.0</td>\n",
       "      <td>tt0105695</td>\n",
       "      <td>8.2</td>\n",
       "      <td>444283.0</td>\n",
       "      <td>AU, BA, BG, CZ, HR, HU, MD, ME, MK, NZ, PL, RO...</td>\n",
       "    </tr>\n",
       "    <tr>\n",
       "      <th>...</th>\n",
       "      <td>...</td>\n",
       "      <td>...</td>\n",
       "      <td>...</td>\n",
       "      <td>...</td>\n",
       "      <td>...</td>\n",
       "      <td>...</td>\n",
       "      <td>...</td>\n",
       "      <td>...</td>\n",
       "    </tr>\n",
       "    <tr>\n",
       "      <th>20134</th>\n",
       "      <td>NaN</td>\n",
       "      <td>tv</td>\n",
       "      <td>NaN</td>\n",
       "      <td>2024.0</td>\n",
       "      <td>NaN</td>\n",
       "      <td>NaN</td>\n",
       "      <td>NaN</td>\n",
       "      <td>AL, AZ, BA, BG, BY, CY, EE, FR, GF, HU, IT, LT...</td>\n",
       "    </tr>\n",
       "    <tr>\n",
       "      <th>20135</th>\n",
       "      <td>NaN</td>\n",
       "      <td>tv</td>\n",
       "      <td>Drama</td>\n",
       "      <td>2024.0</td>\n",
       "      <td>NaN</td>\n",
       "      <td>NaN</td>\n",
       "      <td>NaN</td>\n",
       "      <td>AO, CI, CM, CV, GH, GQ, KE, MG, ML, MU, MZ, NE...</td>\n",
       "    </tr>\n",
       "    <tr>\n",
       "      <th>20136</th>\n",
       "      <td>NaN</td>\n",
       "      <td>tv</td>\n",
       "      <td>Animation, Action &amp; Adventure</td>\n",
       "      <td>2016.0</td>\n",
       "      <td>NaN</td>\n",
       "      <td>NaN</td>\n",
       "      <td>NaN</td>\n",
       "      <td>FJ, HK, ID, IN, JP, KR, MU, MY, PH, PK, SG, TH...</td>\n",
       "    </tr>\n",
       "    <tr>\n",
       "      <th>20137</th>\n",
       "      <td>NaN</td>\n",
       "      <td>tv</td>\n",
       "      <td>NaN</td>\n",
       "      <td>NaN</td>\n",
       "      <td>NaN</td>\n",
       "      <td>NaN</td>\n",
       "      <td>NaN</td>\n",
       "      <td>FJ, HK, ID, IN, JP, KR, MU, MY, PH, PK, SG, TH...</td>\n",
       "    </tr>\n",
       "    <tr>\n",
       "      <th>20138</th>\n",
       "      <td>Blippi's Ultimate Bounce House Challenges</td>\n",
       "      <td>tv</td>\n",
       "      <td>NaN</td>\n",
       "      <td>2024.0</td>\n",
       "      <td>tt33769880</td>\n",
       "      <td>NaN</td>\n",
       "      <td>NaN</td>\n",
       "      <td>AG, AL, AO, AU, AZ, BA, BB, BG, BM, BS, BY, BZ...</td>\n",
       "    </tr>\n",
       "  </tbody>\n",
       "</table>\n",
       "<p>20139 rows × 8 columns</p>\n",
       "</div>"
      ],
      "text/plain": [
       "                                           title   type  \\\n",
       "0                                   Forrest Gump  movie   \n",
       "1                              The Fifth Element  movie   \n",
       "2                              Kill Bill: Vol. 1  movie   \n",
       "3                                        Jarhead  movie   \n",
       "4                                     Unforgiven  movie   \n",
       "...                                          ...    ...   \n",
       "20134                                        NaN     tv   \n",
       "20135                                        NaN     tv   \n",
       "20136                                        NaN     tv   \n",
       "20137                                        NaN     tv   \n",
       "20138  Blippi's Ultimate Bounce House Challenges     tv   \n",
       "\n",
       "                              genres  releaseYear      imdbId  \\\n",
       "0                     Drama, Romance       1994.0   tt0109830   \n",
       "1          Action, Adventure, Sci-Fi       1997.0   tt0119116   \n",
       "2            Action, Crime, Thriller       2003.0   tt0266697   \n",
       "3              Biography, Drama, War       2005.0   tt0418763   \n",
       "4                     Drama, Western       1992.0   tt0105695   \n",
       "...                              ...          ...         ...   \n",
       "20134                            NaN       2024.0         NaN   \n",
       "20135                          Drama       2024.0         NaN   \n",
       "20136  Animation, Action & Adventure       2016.0         NaN   \n",
       "20137                            NaN          NaN         NaN   \n",
       "20138                            NaN       2024.0  tt33769880   \n",
       "\n",
       "       imdbAverageRating  imdbNumVotes  \\\n",
       "0                    8.8     2319813.0   \n",
       "1                    7.6      517488.0   \n",
       "2                    8.2     1222943.0   \n",
       "3                    7.0      211759.0   \n",
       "4                    8.2      444283.0   \n",
       "...                  ...           ...   \n",
       "20134                NaN           NaN   \n",
       "20135                NaN           NaN   \n",
       "20136                NaN           NaN   \n",
       "20137                NaN           NaN   \n",
       "20138                NaN           NaN   \n",
       "\n",
       "                                      availableCountries  \n",
       "0                                                     MX  \n",
       "1                                             AT, CH, DE  \n",
       "2      AE, AL, AO, AT, AU, AZ, BG, BH, BY, CA, CI, CM...  \n",
       "3      AD, AE, AG, AL, AO, AT, AZ, BA, BG, BH, BM, BR...  \n",
       "4      AU, BA, BG, CZ, HR, HU, MD, ME, MK, NZ, PL, RO...  \n",
       "...                                                  ...  \n",
       "20134  AL, AZ, BA, BG, BY, CY, EE, FR, GF, HU, IT, LT...  \n",
       "20135  AO, CI, CM, CV, GH, GQ, KE, MG, ML, MU, MZ, NE...  \n",
       "20136  FJ, HK, ID, IN, JP, KR, MU, MY, PH, PK, SG, TH...  \n",
       "20137  FJ, HK, ID, IN, JP, KR, MU, MY, PH, PK, SG, TH...  \n",
       "20138  AG, AL, AO, AU, AZ, BA, BB, BG, BM, BS, BY, BZ...  \n",
       "\n",
       "[20139 rows x 8 columns]"
      ]
     },
     "execution_count": 1,
     "metadata": {},
     "output_type": "execute_result"
    }
   ],
   "source": [
    "import pandas as pd\n",
    "\n",
    "df = pd.read_csv(\"fullnetflix.csv\")\n",
    "df"
   ]
  },
  {
   "cell_type": "markdown",
   "metadata": {},
   "source": [
    "**Dataset characteristics**"
   ]
  },
  {
   "cell_type": "code",
   "execution_count": 2,
   "metadata": {},
   "outputs": [
    {
     "name": "stdout",
     "output_type": "stream",
     "text": [
      "Number of movies/TV shows: 20139\n"
     ]
    }
   ],
   "source": [
    "print(\"Number of movies/TV shows:\", len(df))"
   ]
  },
  {
   "cell_type": "code",
   "execution_count": 3,
   "metadata": {},
   "outputs": [
    {
     "name": "stdout",
     "output_type": "stream",
     "text": [
      "My column names: \n",
      " ['title', 'type', 'genres', 'releaseYear', 'imdbId', 'imdbAverageRating', 'imdbNumVotes', 'availableCountries']\n"
     ]
    }
   ],
   "source": [
    "print(\"My column names: \\n\" ,df.columns.tolist())"
   ]
  },
  {
   "cell_type": "code",
   "execution_count": 4,
   "metadata": {},
   "outputs": [
    {
     "data": {
      "text/html": [
       "<div>\n",
       "<style scoped>\n",
       "    .dataframe tbody tr th:only-of-type {\n",
       "        vertical-align: middle;\n",
       "    }\n",
       "\n",
       "    .dataframe tbody tr th {\n",
       "        vertical-align: top;\n",
       "    }\n",
       "\n",
       "    .dataframe thead th {\n",
       "        text-align: right;\n",
       "    }\n",
       "</style>\n",
       "<table border=\"1\" class=\"dataframe\">\n",
       "  <thead>\n",
       "    <tr style=\"text-align: right;\">\n",
       "      <th></th>\n",
       "      <th>title</th>\n",
       "      <th>type</th>\n",
       "      <th>genres</th>\n",
       "      <th>releaseYear</th>\n",
       "      <th>imdbId</th>\n",
       "      <th>imdbAverageRating</th>\n",
       "      <th>imdbNumVotes</th>\n",
       "      <th>availableCountries</th>\n",
       "    </tr>\n",
       "  </thead>\n",
       "  <tbody>\n",
       "    <tr>\n",
       "      <th>3819</th>\n",
       "      <td>Hollywoo</td>\n",
       "      <td>movie</td>\n",
       "      <td>Comedy</td>\n",
       "      <td>2011.0</td>\n",
       "      <td>tt1730697</td>\n",
       "      <td>5.1</td>\n",
       "      <td>2014.0</td>\n",
       "      <td>BG, CY, EE, FR, GF, GR, HR, IS, LI, LT, LV, MC...</td>\n",
       "    </tr>\n",
       "    <tr>\n",
       "      <th>12100</th>\n",
       "      <td>Namaste Wahala</td>\n",
       "      <td>movie</td>\n",
       "      <td>Drama, Romance</td>\n",
       "      <td>2021.0</td>\n",
       "      <td>tt12423052</td>\n",
       "      <td>4.9</td>\n",
       "      <td>1648.0</td>\n",
       "      <td>AD, AE, AG, AL, AO, AR, AT, AU, AZ, BA, BB, BE...</td>\n",
       "    </tr>\n",
       "    <tr>\n",
       "      <th>11420</th>\n",
       "      <td>No Man of God</td>\n",
       "      <td>movie</td>\n",
       "      <td>Biography, Crime, Drama</td>\n",
       "      <td>2021.0</td>\n",
       "      <td>tt13507778</td>\n",
       "      <td>6.4</td>\n",
       "      <td>9486.0</td>\n",
       "      <td>AG, AR, BB, BO, BR, BS, BZ, CL, CO, CR, CU, DO...</td>\n",
       "    </tr>\n",
       "    <tr>\n",
       "      <th>17682</th>\n",
       "      <td>Vampire in the Garden</td>\n",
       "      <td>tv</td>\n",
       "      <td>Action, Adventure, Animation</td>\n",
       "      <td>2022.0</td>\n",
       "      <td>tt10011314</td>\n",
       "      <td>6.7</td>\n",
       "      <td>1887.0</td>\n",
       "      <td>AD, AE, AG, AL, AO, AR, AT, AU, AZ, BA, BB, BE...</td>\n",
       "    </tr>\n",
       "    <tr>\n",
       "      <th>5959</th>\n",
       "      <td>So It's You</td>\n",
       "      <td>movie</td>\n",
       "      <td>Comedy, Romance</td>\n",
       "      <td>2014.0</td>\n",
       "      <td>tt3715768</td>\n",
       "      <td>7.0</td>\n",
       "      <td>49.0</td>\n",
       "      <td>PH</td>\n",
       "    </tr>\n",
       "    <tr>\n",
       "      <th>16104</th>\n",
       "      <td>Unsolved Mysteries</td>\n",
       "      <td>tv</td>\n",
       "      <td>Crime, Documentary, Mystery</td>\n",
       "      <td>2020.0</td>\n",
       "      <td>tt9642938</td>\n",
       "      <td>7.3</td>\n",
       "      <td>13365.0</td>\n",
       "      <td>AD, AE, AG, AL, AO, AR, AT, AU, AZ, BA, BB, BE...</td>\n",
       "    </tr>\n",
       "    <tr>\n",
       "      <th>7272</th>\n",
       "      <td>Puzzle</td>\n",
       "      <td>movie</td>\n",
       "      <td>Drama, Romance</td>\n",
       "      <td>2013.0</td>\n",
       "      <td>tt2076307</td>\n",
       "      <td>6.0</td>\n",
       "      <td>188.0</td>\n",
       "      <td>AT, BE, BG, BM, CY, CZ, DE, EE, ES, FR, GB, GF...</td>\n",
       "    </tr>\n",
       "    <tr>\n",
       "      <th>10371</th>\n",
       "      <td>Pipeline</td>\n",
       "      <td>movie</td>\n",
       "      <td>Action, Crime</td>\n",
       "      <td>2021.0</td>\n",
       "      <td>tt14716932</td>\n",
       "      <td>6.1</td>\n",
       "      <td>1003.0</td>\n",
       "      <td>KR</td>\n",
       "    </tr>\n",
       "    <tr>\n",
       "      <th>9177</th>\n",
       "      <td>Child's Play</td>\n",
       "      <td>movie</td>\n",
       "      <td>Drama, Horror, Sci-Fi</td>\n",
       "      <td>2019.0</td>\n",
       "      <td>tt8663516</td>\n",
       "      <td>5.7</td>\n",
       "      <td>57782.0</td>\n",
       "      <td>DZ, ID</td>\n",
       "    </tr>\n",
       "    <tr>\n",
       "      <th>13208</th>\n",
       "      <td>Boogie Nights</td>\n",
       "      <td>movie</td>\n",
       "      <td>Comedy, Drama, Fantasy</td>\n",
       "      <td>2022.0</td>\n",
       "      <td>tt22054008</td>\n",
       "      <td>4.9</td>\n",
       "      <td>53.0</td>\n",
       "      <td>KR</td>\n",
       "    </tr>\n",
       "  </tbody>\n",
       "</table>\n",
       "</div>"
      ],
      "text/plain": [
       "                       title   type                        genres  \\\n",
       "3819                Hollywoo  movie                        Comedy   \n",
       "12100         Namaste Wahala  movie                Drama, Romance   \n",
       "11420          No Man of God  movie       Biography, Crime, Drama   \n",
       "17682  Vampire in the Garden     tv  Action, Adventure, Animation   \n",
       "5959             So It's You  movie               Comedy, Romance   \n",
       "16104     Unsolved Mysteries     tv   Crime, Documentary, Mystery   \n",
       "7272                  Puzzle  movie                Drama, Romance   \n",
       "10371               Pipeline  movie                 Action, Crime   \n",
       "9177            Child's Play  movie         Drama, Horror, Sci-Fi   \n",
       "13208          Boogie Nights  movie        Comedy, Drama, Fantasy   \n",
       "\n",
       "       releaseYear      imdbId  imdbAverageRating  imdbNumVotes  \\\n",
       "3819        2011.0   tt1730697                5.1        2014.0   \n",
       "12100       2021.0  tt12423052                4.9        1648.0   \n",
       "11420       2021.0  tt13507778                6.4        9486.0   \n",
       "17682       2022.0  tt10011314                6.7        1887.0   \n",
       "5959        2014.0   tt3715768                7.0          49.0   \n",
       "16104       2020.0   tt9642938                7.3       13365.0   \n",
       "7272        2013.0   tt2076307                6.0         188.0   \n",
       "10371       2021.0  tt14716932                6.1        1003.0   \n",
       "9177        2019.0   tt8663516                5.7       57782.0   \n",
       "13208       2022.0  tt22054008                4.9          53.0   \n",
       "\n",
       "                                      availableCountries  \n",
       "3819   BG, CY, EE, FR, GF, GR, HR, IS, LI, LT, LV, MC...  \n",
       "12100  AD, AE, AG, AL, AO, AR, AT, AU, AZ, BA, BB, BE...  \n",
       "11420  AG, AR, BB, BO, BR, BS, BZ, CL, CO, CR, CU, DO...  \n",
       "17682  AD, AE, AG, AL, AO, AR, AT, AU, AZ, BA, BB, BE...  \n",
       "5959                                                  PH  \n",
       "16104  AD, AE, AG, AL, AO, AR, AT, AU, AZ, BA, BB, BE...  \n",
       "7272   AT, BE, BG, BM, CY, CZ, DE, EE, ES, FR, GB, GF...  \n",
       "10371                                                 KR  \n",
       "9177                                              DZ, ID  \n",
       "13208                                                 KR  "
      ]
     },
     "execution_count": 4,
     "metadata": {},
     "output_type": "execute_result"
    }
   ],
   "source": [
    "df.sample(10)"
   ]
  },
  {
   "cell_type": "code",
   "execution_count": 5,
   "metadata": {},
   "outputs": [
    {
     "name": "stdout",
     "output_type": "stream",
     "text": [
      "Number of movies: 15484\n"
     ]
    }
   ],
   "source": [
    "df_movies = df[df.type == \"movie\"]\n",
    "print(\"Number of movies:\", len(df_movies))"
   ]
  },
  {
   "cell_type": "code",
   "execution_count": 6,
   "metadata": {},
   "outputs": [
    {
     "name": "stdout",
     "output_type": "stream",
     "text": [
      "Number of TV shows: 4655\n"
     ]
    }
   ],
   "source": [
    "df_tv = df[df.type == \"tv\"]\n",
    "print(\"Number of TV shows:\", len(df_tv))"
   ]
  },
  {
   "cell_type": "code",
   "execution_count": 7,
   "metadata": {},
   "outputs": [
    {
     "name": "stdout",
     "output_type": "stream",
     "text": [
      "The dataset spans from movies released in year 1913.0 to year 2025.0\n"
     ]
    }
   ],
   "source": [
    "print(\"The dataset spans from movies released in year\", df.releaseYear.min(), \"to year\", df.releaseYear.max())"
   ]
  },
  {
   "cell_type": "markdown",
   "metadata": {},
   "source": [
    "# Section 2: Exploratory Data Analysis #\n",
    "\n",
    "To gain a better understanding of my dataset, I will analyze the **center** and **spread** of my data distribution. More specifically, what value do variables average around. Based on this, I'll have a better understanding of the trends of user ratings for Netflix titles.\n",
    "\n",
    "\n",
    "Before I dive in, since Netflix only shows me  media available in my specific country, I will filter my dataset so that I'm only analyzing the movies/TV shows streaming in the U.S.\n"
   ]
  },
  {
   "cell_type": "code",
   "execution_count": 8,
   "metadata": {},
   "outputs": [
    {
     "data": {
      "text/html": [
       "<div>\n",
       "<style scoped>\n",
       "    .dataframe tbody tr th:only-of-type {\n",
       "        vertical-align: middle;\n",
       "    }\n",
       "\n",
       "    .dataframe tbody tr th {\n",
       "        vertical-align: top;\n",
       "    }\n",
       "\n",
       "    .dataframe thead th {\n",
       "        text-align: right;\n",
       "    }\n",
       "</style>\n",
       "<table border=\"1\" class=\"dataframe\">\n",
       "  <thead>\n",
       "    <tr style=\"text-align: right;\">\n",
       "      <th></th>\n",
       "      <th>title</th>\n",
       "      <th>type</th>\n",
       "      <th>genres</th>\n",
       "      <th>releaseYear</th>\n",
       "      <th>imdbId</th>\n",
       "      <th>imdbAverageRating</th>\n",
       "      <th>imdbNumVotes</th>\n",
       "      <th>availableCountries</th>\n",
       "    </tr>\n",
       "  </thead>\n",
       "  <tbody>\n",
       "    <tr>\n",
       "      <th>3</th>\n",
       "      <td>Jarhead</td>\n",
       "      <td>movie</td>\n",
       "      <td>Biography, Drama, War</td>\n",
       "      <td>2005.0</td>\n",
       "      <td>tt0418763</td>\n",
       "      <td>7.0</td>\n",
       "      <td>211759.0</td>\n",
       "      <td>AD, AE, AG, AL, AO, AT, AZ, BA, BG, BH, BM, BR...</td>\n",
       "    </tr>\n",
       "    <tr>\n",
       "      <th>5</th>\n",
       "      <td>Eternal Sunshine of the Spotless Mind</td>\n",
       "      <td>movie</td>\n",
       "      <td>Drama, Romance, Sci-Fi</td>\n",
       "      <td>2004.0</td>\n",
       "      <td>tt0338013</td>\n",
       "      <td>8.3</td>\n",
       "      <td>1105763.0</td>\n",
       "      <td>AD, AE, AG, AL, AO, AR, AU, AZ, BA, BB, BE, BG...</td>\n",
       "    </tr>\n",
       "    <tr>\n",
       "      <th>10</th>\n",
       "      <td>8 Mile</td>\n",
       "      <td>movie</td>\n",
       "      <td>Drama, Music</td>\n",
       "      <td>2002.0</td>\n",
       "      <td>tt0298203</td>\n",
       "      <td>7.2</td>\n",
       "      <td>330706.0</td>\n",
       "      <td>AD, AE, AG, AL, AO, AR, AT, AU, AZ, BA, BB, BE...</td>\n",
       "    </tr>\n",
       "    <tr>\n",
       "      <th>12</th>\n",
       "      <td>Million Dollar Baby</td>\n",
       "      <td>movie</td>\n",
       "      <td>Drama, Sport</td>\n",
       "      <td>2004.0</td>\n",
       "      <td>tt0405159</td>\n",
       "      <td>8.1</td>\n",
       "      <td>733241.0</td>\n",
       "      <td>IT, SM, US</td>\n",
       "    </tr>\n",
       "    <tr>\n",
       "      <th>19</th>\n",
       "      <td>Hero</td>\n",
       "      <td>movie</td>\n",
       "      <td>Action, Adventure, Drama</td>\n",
       "      <td>2002.0</td>\n",
       "      <td>tt0299977</td>\n",
       "      <td>7.9</td>\n",
       "      <td>189246.0</td>\n",
       "      <td>HK, KR, US</td>\n",
       "    </tr>\n",
       "    <tr>\n",
       "      <th>...</th>\n",
       "      <td>...</td>\n",
       "      <td>...</td>\n",
       "      <td>...</td>\n",
       "      <td>...</td>\n",
       "      <td>...</td>\n",
       "      <td>...</td>\n",
       "      <td>...</td>\n",
       "      <td>...</td>\n",
       "    </tr>\n",
       "    <tr>\n",
       "      <th>20127</th>\n",
       "      <td>Don't Come Home</td>\n",
       "      <td>tv</td>\n",
       "      <td>Drama, Horror, Mystery</td>\n",
       "      <td>2024.0</td>\n",
       "      <td>tt31158589</td>\n",
       "      <td>7.3</td>\n",
       "      <td>1791.0</td>\n",
       "      <td>AD, AE, AG, AL, AO, AR, AT, AU, AZ, BA, BB, BE...</td>\n",
       "    </tr>\n",
       "    <tr>\n",
       "      <th>20128</th>\n",
       "      <td>NaN</td>\n",
       "      <td>tv</td>\n",
       "      <td>NaN</td>\n",
       "      <td>2016.0</td>\n",
       "      <td>NaN</td>\n",
       "      <td>NaN</td>\n",
       "      <td>NaN</td>\n",
       "      <td>AD, AE, AG, AL, AO, AR, AT, AU, AZ, BA, BB, BE...</td>\n",
       "    </tr>\n",
       "    <tr>\n",
       "      <th>20129</th>\n",
       "      <td>NaN</td>\n",
       "      <td>tv</td>\n",
       "      <td>NaN</td>\n",
       "      <td>NaN</td>\n",
       "      <td>NaN</td>\n",
       "      <td>NaN</td>\n",
       "      <td>NaN</td>\n",
       "      <td>AG, AO, AR, AU, BB, BM, BO, BS, BZ, CA, CI, CL...</td>\n",
       "    </tr>\n",
       "    <tr>\n",
       "      <th>20132</th>\n",
       "      <td>NaN</td>\n",
       "      <td>tv</td>\n",
       "      <td>Animation, Action &amp; Adventure, Family</td>\n",
       "      <td>2024.0</td>\n",
       "      <td>NaN</td>\n",
       "      <td>NaN</td>\n",
       "      <td>NaN</td>\n",
       "      <td>AD, AE, AG, AL, AO, AR, AT, AU, BA, BB, BE, BG...</td>\n",
       "    </tr>\n",
       "    <tr>\n",
       "      <th>20138</th>\n",
       "      <td>Blippi's Ultimate Bounce House Challenges</td>\n",
       "      <td>tv</td>\n",
       "      <td>NaN</td>\n",
       "      <td>2024.0</td>\n",
       "      <td>tt33769880</td>\n",
       "      <td>NaN</td>\n",
       "      <td>NaN</td>\n",
       "      <td>AG, AL, AO, AU, AZ, BA, BB, BG, BM, BS, BY, BZ...</td>\n",
       "    </tr>\n",
       "  </tbody>\n",
       "</table>\n",
       "<p>7166 rows × 8 columns</p>\n",
       "</div>"
      ],
      "text/plain": [
       "                                           title   type  \\\n",
       "3                                        Jarhead  movie   \n",
       "5          Eternal Sunshine of the Spotless Mind  movie   \n",
       "10                                        8 Mile  movie   \n",
       "12                           Million Dollar Baby  movie   \n",
       "19                                          Hero  movie   \n",
       "...                                          ...    ...   \n",
       "20127                            Don't Come Home     tv   \n",
       "20128                                        NaN     tv   \n",
       "20129                                        NaN     tv   \n",
       "20132                                        NaN     tv   \n",
       "20138  Blippi's Ultimate Bounce House Challenges     tv   \n",
       "\n",
       "                                      genres  releaseYear      imdbId  \\\n",
       "3                      Biography, Drama, War       2005.0   tt0418763   \n",
       "5                     Drama, Romance, Sci-Fi       2004.0   tt0338013   \n",
       "10                              Drama, Music       2002.0   tt0298203   \n",
       "12                              Drama, Sport       2004.0   tt0405159   \n",
       "19                  Action, Adventure, Drama       2002.0   tt0299977   \n",
       "...                                      ...          ...         ...   \n",
       "20127                 Drama, Horror, Mystery       2024.0  tt31158589   \n",
       "20128                                    NaN       2016.0         NaN   \n",
       "20129                                    NaN          NaN         NaN   \n",
       "20132  Animation, Action & Adventure, Family       2024.0         NaN   \n",
       "20138                                    NaN       2024.0  tt33769880   \n",
       "\n",
       "       imdbAverageRating  imdbNumVotes  \\\n",
       "3                    7.0      211759.0   \n",
       "5                    8.3     1105763.0   \n",
       "10                   7.2      330706.0   \n",
       "12                   8.1      733241.0   \n",
       "19                   7.9      189246.0   \n",
       "...                  ...           ...   \n",
       "20127                7.3        1791.0   \n",
       "20128                NaN           NaN   \n",
       "20129                NaN           NaN   \n",
       "20132                NaN           NaN   \n",
       "20138                NaN           NaN   \n",
       "\n",
       "                                      availableCountries  \n",
       "3      AD, AE, AG, AL, AO, AT, AZ, BA, BG, BH, BM, BR...  \n",
       "5      AD, AE, AG, AL, AO, AR, AU, AZ, BA, BB, BE, BG...  \n",
       "10     AD, AE, AG, AL, AO, AR, AT, AU, AZ, BA, BB, BE...  \n",
       "12                                            IT, SM, US  \n",
       "19                                            HK, KR, US  \n",
       "...                                                  ...  \n",
       "20127  AD, AE, AG, AL, AO, AR, AT, AU, AZ, BA, BB, BE...  \n",
       "20128  AD, AE, AG, AL, AO, AR, AT, AU, AZ, BA, BB, BE...  \n",
       "20129  AG, AO, AR, AU, BB, BM, BO, BS, BZ, CA, CI, CL...  \n",
       "20132  AD, AE, AG, AL, AO, AR, AT, AU, BA, BB, BE, BG...  \n",
       "20138  AG, AL, AO, AU, AZ, BA, BB, BG, BM, BS, BY, BZ...  \n",
       "\n",
       "[7166 rows x 8 columns]"
      ]
     },
     "execution_count": 8,
     "metadata": {},
     "output_type": "execute_result"
    }
   ],
   "source": [
    "df_US = df[df.availableCountries.str.contains(\"US\")]\n",
    "df_US"
   ]
  },
  {
   "cell_type": "markdown",
   "metadata": {},
   "source": [
    "Now, I can see that quite a few entries contain \"NaN\" instead of actual data. Since this may impact my statistical analysis, I will create a new dataset containing rows only with all present information. \n",
    "Then, I will proceed to analyze this new filtered dataset."
   ]
  },
  {
   "cell_type": "code",
   "execution_count": 9,
   "metadata": {},
   "outputs": [
    {
     "data": {
      "text/html": [
       "<div>\n",
       "<style scoped>\n",
       "    .dataframe tbody tr th:only-of-type {\n",
       "        vertical-align: middle;\n",
       "    }\n",
       "\n",
       "    .dataframe tbody tr th {\n",
       "        vertical-align: top;\n",
       "    }\n",
       "\n",
       "    .dataframe thead th {\n",
       "        text-align: right;\n",
       "    }\n",
       "</style>\n",
       "<table border=\"1\" class=\"dataframe\">\n",
       "  <thead>\n",
       "    <tr style=\"text-align: right;\">\n",
       "      <th></th>\n",
       "      <th>title</th>\n",
       "      <th>type</th>\n",
       "      <th>genres</th>\n",
       "      <th>releaseYear</th>\n",
       "      <th>imdbId</th>\n",
       "      <th>imdbAverageRating</th>\n",
       "      <th>imdbNumVotes</th>\n",
       "      <th>availableCountries</th>\n",
       "    </tr>\n",
       "  </thead>\n",
       "  <tbody>\n",
       "    <tr>\n",
       "      <th>3</th>\n",
       "      <td>Jarhead</td>\n",
       "      <td>movie</td>\n",
       "      <td>Biography, Drama, War</td>\n",
       "      <td>2005.0</td>\n",
       "      <td>tt0418763</td>\n",
       "      <td>7.0</td>\n",
       "      <td>211759.0</td>\n",
       "      <td>AD, AE, AG, AL, AO, AT, AZ, BA, BG, BH, BM, BR...</td>\n",
       "    </tr>\n",
       "    <tr>\n",
       "      <th>5</th>\n",
       "      <td>Eternal Sunshine of the Spotless Mind</td>\n",
       "      <td>movie</td>\n",
       "      <td>Drama, Romance, Sci-Fi</td>\n",
       "      <td>2004.0</td>\n",
       "      <td>tt0338013</td>\n",
       "      <td>8.3</td>\n",
       "      <td>1105763.0</td>\n",
       "      <td>AD, AE, AG, AL, AO, AR, AU, AZ, BA, BB, BE, BG...</td>\n",
       "    </tr>\n",
       "    <tr>\n",
       "      <th>10</th>\n",
       "      <td>8 Mile</td>\n",
       "      <td>movie</td>\n",
       "      <td>Drama, Music</td>\n",
       "      <td>2002.0</td>\n",
       "      <td>tt0298203</td>\n",
       "      <td>7.2</td>\n",
       "      <td>330706.0</td>\n",
       "      <td>AD, AE, AG, AL, AO, AR, AT, AU, AZ, BA, BB, BE...</td>\n",
       "    </tr>\n",
       "    <tr>\n",
       "      <th>12</th>\n",
       "      <td>Million Dollar Baby</td>\n",
       "      <td>movie</td>\n",
       "      <td>Drama, Sport</td>\n",
       "      <td>2004.0</td>\n",
       "      <td>tt0405159</td>\n",
       "      <td>8.1</td>\n",
       "      <td>733241.0</td>\n",
       "      <td>IT, SM, US</td>\n",
       "    </tr>\n",
       "    <tr>\n",
       "      <th>19</th>\n",
       "      <td>Hero</td>\n",
       "      <td>movie</td>\n",
       "      <td>Action, Adventure, Drama</td>\n",
       "      <td>2002.0</td>\n",
       "      <td>tt0299977</td>\n",
       "      <td>7.9</td>\n",
       "      <td>189246.0</td>\n",
       "      <td>HK, KR, US</td>\n",
       "    </tr>\n",
       "    <tr>\n",
       "      <th>...</th>\n",
       "      <td>...</td>\n",
       "      <td>...</td>\n",
       "      <td>...</td>\n",
       "      <td>...</td>\n",
       "      <td>...</td>\n",
       "      <td>...</td>\n",
       "      <td>...</td>\n",
       "      <td>...</td>\n",
       "    </tr>\n",
       "    <tr>\n",
       "      <th>20119</th>\n",
       "      <td>Making It in Marbella</td>\n",
       "      <td>tv</td>\n",
       "      <td>Reality-TV</td>\n",
       "      <td>2024.0</td>\n",
       "      <td>tt31828643</td>\n",
       "      <td>4.5</td>\n",
       "      <td>160.0</td>\n",
       "      <td>AD, AE, AG, AL, AO, AR, AT, AU, AZ, BA, BB, BE...</td>\n",
       "    </tr>\n",
       "    <tr>\n",
       "      <th>20121</th>\n",
       "      <td>This Is the Zodiac Speaking</td>\n",
       "      <td>tv</td>\n",
       "      <td>Crime, Documentary</td>\n",
       "      <td>2024.0</td>\n",
       "      <td>tt33480540</td>\n",
       "      <td>7.2</td>\n",
       "      <td>4392.0</td>\n",
       "      <td>AD, AE, AG, AL, AO, AR, AT, AU, AZ, BA, BB, BE...</td>\n",
       "    </tr>\n",
       "    <tr>\n",
       "      <th>20122</th>\n",
       "      <td>The Manhattan Alien Abduction</td>\n",
       "      <td>tv</td>\n",
       "      <td>Documentary</td>\n",
       "      <td>2024.0</td>\n",
       "      <td>tt33506347</td>\n",
       "      <td>5.3</td>\n",
       "      <td>1133.0</td>\n",
       "      <td>AD, AE, AG, AL, AO, AR, AT, AU, AZ, BA, BB, BE...</td>\n",
       "    </tr>\n",
       "    <tr>\n",
       "      <th>20124</th>\n",
       "      <td>Children of the Church Steps</td>\n",
       "      <td>tv</td>\n",
       "      <td>Drama, History, Thriller</td>\n",
       "      <td>2024.0</td>\n",
       "      <td>tt22459584</td>\n",
       "      <td>6.6</td>\n",
       "      <td>247.0</td>\n",
       "      <td>AD, AE, AG, AL, AO, AR, AT, AU, AZ, BA, BB, BE...</td>\n",
       "    </tr>\n",
       "    <tr>\n",
       "      <th>20127</th>\n",
       "      <td>Don't Come Home</td>\n",
       "      <td>tv</td>\n",
       "      <td>Drama, Horror, Mystery</td>\n",
       "      <td>2024.0</td>\n",
       "      <td>tt31158589</td>\n",
       "      <td>7.3</td>\n",
       "      <td>1791.0</td>\n",
       "      <td>AD, AE, AG, AL, AO, AR, AT, AU, AZ, BA, BB, BE...</td>\n",
       "    </tr>\n",
       "  </tbody>\n",
       "</table>\n",
       "<p>6867 rows × 8 columns</p>\n",
       "</div>"
      ],
      "text/plain": [
       "                                       title   type                    genres  \\\n",
       "3                                    Jarhead  movie     Biography, Drama, War   \n",
       "5      Eternal Sunshine of the Spotless Mind  movie    Drama, Romance, Sci-Fi   \n",
       "10                                    8 Mile  movie              Drama, Music   \n",
       "12                       Million Dollar Baby  movie              Drama, Sport   \n",
       "19                                      Hero  movie  Action, Adventure, Drama   \n",
       "...                                      ...    ...                       ...   \n",
       "20119                  Making It in Marbella     tv                Reality-TV   \n",
       "20121            This Is the Zodiac Speaking     tv        Crime, Documentary   \n",
       "20122          The Manhattan Alien Abduction     tv               Documentary   \n",
       "20124           Children of the Church Steps     tv  Drama, History, Thriller   \n",
       "20127                        Don't Come Home     tv    Drama, Horror, Mystery   \n",
       "\n",
       "       releaseYear      imdbId  imdbAverageRating  imdbNumVotes  \\\n",
       "3           2005.0   tt0418763                7.0      211759.0   \n",
       "5           2004.0   tt0338013                8.3     1105763.0   \n",
       "10          2002.0   tt0298203                7.2      330706.0   \n",
       "12          2004.0   tt0405159                8.1      733241.0   \n",
       "19          2002.0   tt0299977                7.9      189246.0   \n",
       "...            ...         ...                ...           ...   \n",
       "20119       2024.0  tt31828643                4.5         160.0   \n",
       "20121       2024.0  tt33480540                7.2        4392.0   \n",
       "20122       2024.0  tt33506347                5.3        1133.0   \n",
       "20124       2024.0  tt22459584                6.6         247.0   \n",
       "20127       2024.0  tt31158589                7.3        1791.0   \n",
       "\n",
       "                                      availableCountries  \n",
       "3      AD, AE, AG, AL, AO, AT, AZ, BA, BG, BH, BM, BR...  \n",
       "5      AD, AE, AG, AL, AO, AR, AU, AZ, BA, BB, BE, BG...  \n",
       "10     AD, AE, AG, AL, AO, AR, AT, AU, AZ, BA, BB, BE...  \n",
       "12                                            IT, SM, US  \n",
       "19                                            HK, KR, US  \n",
       "...                                                  ...  \n",
       "20119  AD, AE, AG, AL, AO, AR, AT, AU, AZ, BA, BB, BE...  \n",
       "20121  AD, AE, AG, AL, AO, AR, AT, AU, AZ, BA, BB, BE...  \n",
       "20122  AD, AE, AG, AL, AO, AR, AT, AU, AZ, BA, BB, BE...  \n",
       "20124  AD, AE, AG, AL, AO, AR, AT, AU, AZ, BA, BB, BE...  \n",
       "20127  AD, AE, AG, AL, AO, AR, AT, AU, AZ, BA, BB, BE...  \n",
       "\n",
       "[6867 rows x 8 columns]"
      ]
     },
     "execution_count": 9,
     "metadata": {},
     "output_type": "execute_result"
    }
   ],
   "source": [
    "df_US_new = df_US.dropna()\n",
    "df_US_new"
   ]
  },
  {
   "cell_type": "markdown",
   "metadata": {},
   "source": [
    "Now, to analyze the center of my data:"
   ]
  },
  {
   "cell_type": "code",
   "execution_count": 10,
   "metadata": {},
   "outputs": [
    {
     "name": "stdout",
     "output_type": "stream",
     "text": [
      "The number of titles available on Netflix U.S after filtering: 6867\n"
     ]
    }
   ],
   "source": [
    "print(\"The number of titles available on Netflix U.S after filtering:\", len(df_US_new))"
   ]
  },
  {
   "cell_type": "code",
   "execution_count": 11,
   "metadata": {},
   "outputs": [
    {
     "name": "stdout",
     "output_type": "stream",
     "text": [
      "Number of columns: 8\n"
     ]
    }
   ],
   "source": [
    "print(\"Number of columns:\", len(df.columns))"
   ]
  },
  {
   "cell_type": "markdown",
   "metadata": {},
   "source": [
    "**Size:** \n",
    "\n",
    "The size of my new dataset is 6867 rows by 8 columns"
   ]
  },
  {
   "cell_type": "markdown",
   "metadata": {},
   "source": [
    " **Center:**\n",
    " \n",
    " The IMDb rating system gives a numeric score (out of 10) that represents the popularity of movies and TV shows based on user ratings/votes. A rating higher on the scale out of the 10 represents higher quality media based on viewer input. \n",
    "\n",
    "Based on this, I would like to analyze the center of all average IMDb rating amongst Netflix titles available in the U.S "
   ]
  },
  {
   "cell_type": "code",
   "execution_count": 12,
   "metadata": {},
   "outputs": [
    {
     "data": {
      "text/plain": [
       "np.float64(6.493796417649629)"
      ]
     },
     "execution_count": 12,
     "metadata": {},
     "output_type": "execute_result"
    }
   ],
   "source": [
    "average_rating = df_US_new.imdbAverageRating.mean()\n",
    "average_rating"
   ]
  },
  {
   "cell_type": "code",
   "execution_count": 13,
   "metadata": {},
   "outputs": [
    {
     "data": {
      "text/plain": [
       "np.float64(6.6)"
      ]
     },
     "execution_count": 13,
     "metadata": {},
     "output_type": "execute_result"
    }
   ],
   "source": [
    "median_rating =  df_US_new.imdbAverageRating.median()\n",
    "median_rating"
   ]
  },
  {
   "cell_type": "code",
   "execution_count": 14,
   "metadata": {},
   "outputs": [
    {
     "data": {
      "text/plain": [
       "np.float64(6.77972027972028)"
      ]
     },
     "execution_count": 14,
     "metadata": {},
     "output_type": "execute_result"
    }
   ],
   "source": [
    "df_early = df_US_new[df_US_new.releaseYear < 2000]\n",
    "df_early.imdbAverageRating.mean()"
   ]
  },
  {
   "cell_type": "code",
   "execution_count": 15,
   "metadata": {},
   "outputs": [
    {
     "data": {
      "text/plain": [
       "np.float64(6.487715645449137)"
      ]
     },
     "execution_count": 15,
     "metadata": {},
     "output_type": "execute_result"
    }
   ],
   "source": [
    "df_latest = df_US_new[df_US_new.releaseYear >= 2000]\n",
    "df_latest.imdbAverageRating.mean()"
   ]
  },
  {
   "cell_type": "markdown",
   "metadata": {},
   "source": [
    "**What does the *center* of my data tell me?**\n",
    "\n",
    "I can see that the average IMDb rating for movies/TV shows available in the U.S is a *6.49*, and my median tells me that half of these titles were received a rating above *6.6*.\n",
    "\n",
    "Based on the notion that a 5/10 deems a piece of media as neutrally liked, my data tells me that most titles available in the U.S were moderately liked/popular to viewers. However, I was expecting the center of my data to be closer to a 5. \n",
    "\n",
    "As well, to see if there are any differences in the average of all average ratings based on film century, I partitioned my data into titles made in the 20th century and titles made in the 21st century. The average for the 20th century was a 6.78, and a 6.49 for the 21st century. I don't see that large of a difference in average ratings between century, though there is a 0.3 decrease as the film industry transitioned into the 21st century. I am curious as to what caused this slight decrease, and why the overall average rating is almost exactly the same as the average rating in the 21st century."
   ]
  },
  {
   "cell_type": "markdown",
   "metadata": {},
   "source": [
    "**General Descriptive Statistics:**"
   ]
  },
  {
   "cell_type": "code",
   "execution_count": 16,
   "metadata": {},
   "outputs": [
    {
     "data": {
      "text/html": [
       "<div>\n",
       "<style scoped>\n",
       "    .dataframe tbody tr th:only-of-type {\n",
       "        vertical-align: middle;\n",
       "    }\n",
       "\n",
       "    .dataframe tbody tr th {\n",
       "        vertical-align: top;\n",
       "    }\n",
       "\n",
       "    .dataframe thead th {\n",
       "        text-align: right;\n",
       "    }\n",
       "</style>\n",
       "<table border=\"1\" class=\"dataframe\">\n",
       "  <thead>\n",
       "    <tr style=\"text-align: right;\">\n",
       "      <th></th>\n",
       "      <th>releaseYear</th>\n",
       "      <th>imdbAverageRating</th>\n",
       "      <th>imdbNumVotes</th>\n",
       "    </tr>\n",
       "  </thead>\n",
       "  <tbody>\n",
       "    <tr>\n",
       "      <th>count</th>\n",
       "      <td>6867.000000</td>\n",
       "      <td>6867.000000</td>\n",
       "      <td>6.867000e+03</td>\n",
       "    </tr>\n",
       "    <tr>\n",
       "      <th>mean</th>\n",
       "      <td>2018.644969</td>\n",
       "      <td>6.493796</td>\n",
       "      <td>2.161566e+04</td>\n",
       "    </tr>\n",
       "    <tr>\n",
       "      <th>std</th>\n",
       "      <td>6.230877</td>\n",
       "      <td>1.114874</td>\n",
       "      <td>7.580531e+04</td>\n",
       "    </tr>\n",
       "    <tr>\n",
       "      <th>min</th>\n",
       "      <td>1960.000000</td>\n",
       "      <td>1.200000</td>\n",
       "      <td>6.000000e+00</td>\n",
       "    </tr>\n",
       "    <tr>\n",
       "      <th>25%</th>\n",
       "      <td>2018.000000</td>\n",
       "      <td>5.800000</td>\n",
       "      <td>5.965000e+02</td>\n",
       "    </tr>\n",
       "    <tr>\n",
       "      <th>50%</th>\n",
       "      <td>2020.000000</td>\n",
       "      <td>6.600000</td>\n",
       "      <td>2.403000e+03</td>\n",
       "    </tr>\n",
       "    <tr>\n",
       "      <th>75%</th>\n",
       "      <td>2022.000000</td>\n",
       "      <td>7.300000</td>\n",
       "      <td>1.058200e+04</td>\n",
       "    </tr>\n",
       "    <tr>\n",
       "      <th>max</th>\n",
       "      <td>2024.000000</td>\n",
       "      <td>9.500000</td>\n",
       "      <td>2.233979e+06</td>\n",
       "    </tr>\n",
       "  </tbody>\n",
       "</table>\n",
       "</div>"
      ],
      "text/plain": [
       "       releaseYear  imdbAverageRating  imdbNumVotes\n",
       "count  6867.000000        6867.000000  6.867000e+03\n",
       "mean   2018.644969           6.493796  2.161566e+04\n",
       "std       6.230877           1.114874  7.580531e+04\n",
       "min    1960.000000           1.200000  6.000000e+00\n",
       "25%    2018.000000           5.800000  5.965000e+02\n",
       "50%    2020.000000           6.600000  2.403000e+03\n",
       "75%    2022.000000           7.300000  1.058200e+04\n",
       "max    2024.000000           9.500000  2.233979e+06"
      ]
     },
     "execution_count": 16,
     "metadata": {},
     "output_type": "execute_result"
    }
   ],
   "source": [
    "df_US_new.describe()"
   ]
  },
  {
   "cell_type": "code",
   "execution_count": 17,
   "metadata": {},
   "outputs": [
    {
     "data": {
      "text/plain": [
       "1.5"
      ]
     },
     "execution_count": 17,
     "metadata": {},
     "output_type": "execute_result"
    }
   ],
   "source": [
    "imdbAverageRating_Q1 = 5.8\n",
    "imdbAverageRating_Q3 = 7.3\n",
    "IQR = imdbAverageRating_Q3 - imdbAverageRating_Q1\n",
    "IQR"
   ]
  },
  {
   "cell_type": "markdown",
   "metadata": {},
   "source": [
    "From this, I can see that about 75% of titles on Netflix U.S were released after the year 2018. This tells me that majority of my data is recent. As well, we can see that only 25% of titles received an average IMDb rating of less than 5.8, which tells me that majority of titles were well-liked by viewers. This is consistent with the analysis I did on the center of my dataset.\n",
    "\n",
    "I can also see that there is a wide range of votes based on the standard deviation of 75,805.31. Compared to the mean of 21,615.66 votes per title, this variation is quite large. This indicates that some titles received thousands of votes more than others, which may have a great impact on the average rating and overall spread of my data."
   ]
  },
  {
   "cell_type": "markdown",
   "metadata": {},
   "source": [
    "**Center of Spread:** \n",
    "\n",
    "My lower quartile of average IMDb ratings is a 5.8, with my upper quartile being a 7.3. \n",
    "\n",
    "\n",
    "Interquartile range: My IQR of 1.5 tells me that the average rating for the majority of titles is moderately close together. This hints that there isn't that large of a difference in ratings from title to title. \n",
    "\n",
    "Standard deviation: I can also see that the standard deviation of film ratings is a 1.1, indicating that ratings from viewer-to-viewer per title is pretty consistent. This tells me that most viewers find Netflix movies/tv shows to be mostly the same quality of production- moderately above average."
   ]
  },
  {
   "cell_type": "markdown",
   "metadata": {},
   "source": [
    "## Summary of my data analysis: ##\n",
    "Using my new relevant dataset, only containing movies/TV shows in Netflix U.S and dropping rows with missing data, I am able to see general trends amongst ratings, votes, and release year. The small differences in ratings between my 25% and 75% quartile being a 1.5 tells me that user ratings are pretty consistent from title-to-title, with most titles being moderately well-liked. This tells me that there weren't any titles that received overwhelingly negative nor positive reviews. My standard deviation of 1.1 confirms this, meaning that the my range of variation does not deviate largely from the average rating.\n",
    "\n",
    "Moreover, my large standard deviation for the number of votes column tells me that while ratings are consistent, some titles received thousands of more votes than others. This indicates that more analysis needs to go into understanding the spread of my data. As well, this may cause outliers to be present within my dataset.\n",
    "\n",
    "As well, factoring in that most titles have been released within the last 6 years, I must take into consideration how this may affect the average ratings/number of votes from titles released prior. For example, recency bias may be impacting my data here."
   ]
  },
  {
   "cell_type": "markdown",
   "metadata": {},
   "source": [
    "# Section 3: Exploratory Data Visualization #\n",
    "\n",
    "Based on my **data analysis**, I want to find more information about the spread of my data using visual representations. As well, I'd like to find if there are relationships between average ratings per title and the number of votes they received/ the year it was released. This will tell me if there is any correlation between data points, or if there are factors confounding my data. "
   ]
  },
  {
   "cell_type": "markdown",
   "metadata": {},
   "source": [
    "First, to search for any possible outliers in my average ratings data I will create a **boxplot**:"
   ]
  },
  {
   "cell_type": "code",
   "execution_count": 18,
   "metadata": {},
   "outputs": [
    {
     "data": {
      "text/plain": [
       "Text(0, 0.5, 'IMDb Average Rating')"
      ]
     },
     "execution_count": 18,
     "metadata": {},
     "output_type": "execute_result"
    },
    {
     "data": {
      "image/png": "[encoded data removed]",
      "text/plain": [
       "<Figure size 1500x500 with 1 Axes>"
      ]
     },
     "metadata": {},
     "output_type": "display_data"
    }
   ],
   "source": [
    "import matplotlib.pyplot as plt\n",
    "df_US_new.imdbAverageRating.plot.box(vert=False, figsize=(15,5))\n",
    "plt.title(\"Boxplot of IMDb Average Ratings\", fontsize=18)\n",
    "plt.xlabel(\"Rating Distribution\", fontsize=12)\n",
    "plt.ylabel(\"IMDb Average Rating\", fontsize=12)"
   ]
  },
  {
   "cell_type": "markdown",
   "metadata": {},
   "source": [
    "**Boxplot Analysis:**\n",
    "My interquartile range is consistent with the data I analyzed in **Part 2**. However, I did not expect there to be a handful of outliers on the lower end of my data. I can see that there is more unpredictability within my average ratings than I expected, with the range spanning from about 3.7 to a 9.5. This tells me that there are some titles which indeed perform much better and lower than the average. "
   ]
  },
  {
   "cell_type": "markdown",
   "metadata": {},
   "source": [
    "To better understand the distribution of average ratings per title, I will utilize a **histogram** to demonstrate how frequent these extreme values occurred:"
   ]
  },
  {
   "cell_type": "code",
   "execution_count": 19,
   "metadata": {},
   "outputs": [
    {
     "data": {
      "text/plain": [
       "Text(0, 0.5, 'Frequency')"
      ]
     },
     "execution_count": 19,
     "metadata": {},
     "output_type": "execute_result"
    },
    {
     "data": {
      "image/png": "[encoded data removed]",
      "text/plain": [
       "<Figure size 640x480 with 1 Axes>"
      ]
     },
     "metadata": {},
     "output_type": "display_data"
    }
   ],
   "source": [
    "plt.hist(df_US_new.imdbAverageRating, bins=60, edgecolor = \"black\")\n",
    "plt.title(\"Distribution of IMDb Ratings\", fontsize=18)\n",
    "plt.xlabel(\"IMDb Average Rating\", fontsize=12)\n",
    "plt.ylabel(\"Frequency\", fontsize=12)"
   ]
  },
  {
   "cell_type": "markdown",
   "metadata": {},
   "source": [
    "**Histogram Analysis:** I can see that there are a handful of titles which received a rating on the very low end. However, I can see that most titles did fall in between a 5.8-7.3 average rating, as demonstrated by my boxplot."
   ]
  },
  {
   "cell_type": "markdown",
   "metadata": {},
   "source": [
    "To delve more into the relationships between my variables, I will utilize **scatterplots** to discover if there is any linearity."
   ]
  },
  {
   "cell_type": "code",
   "execution_count": 20,
   "metadata": {},
   "outputs": [
    {
     "data": {
      "text/plain": [
       "Text(0, 0.5, 'IMDb Average Rating')"
      ]
     },
     "execution_count": 20,
     "metadata": {},
     "output_type": "execute_result"
    },
    {
     "data": {
      "image/png": "[encoded data removed]",
      "text/plain": [
       "<Figure size 1200x800 with 1 Axes>"
      ]
     },
     "metadata": {},
     "output_type": "display_data"
    }
   ],
   "source": [
    "plt.figure(figsize=(12, 8))\n",
    "plt.scatter(df_US_new.releaseYear, df_US_new.imdbAverageRating)\n",
    "plt.title(\"IMDb Ratings vs Release Year\", fontsize=16)\n",
    "plt.xlabel(\"Release Year\", fontsize=14)\n",
    "plt.ylabel(\"IMDb Average Rating\", fontsize=14)\n"
   ]
  },
  {
   "cell_type": "code",
   "execution_count": 21,
   "metadata": {},
   "outputs": [
    {
     "data": {
      "text/plain": [
       "Text(0, 0.5, 'Number of Votes')"
      ]
     },
     "execution_count": 21,
     "metadata": {},
     "output_type": "execute_result"
    },
    {
     "data": {
      "image/png": "[encoded data removed]",
      "text/plain": [
       "<Figure size 1600x600 with 1 Axes>"
      ]
     },
     "metadata": {},
     "output_type": "display_data"
    }
   ],
   "source": [
    "plt.figure(figsize=(16, 6))\n",
    "plt.scatter(df_US_new.releaseYear, df_US_new.imdbNumVotes)\n",
    "plt.title(\"Votes vs IMDb Ratings\", fontsize=16)\n",
    "plt.xlabel(\"IMDb Average Rating\", fontsize=14)\n",
    "plt.ylabel(\"Number of Votes\", fontsize=14)"
   ]
  },
  {
   "cell_type": "markdown",
   "metadata": {},
   "source": [
    "**Scatter Plots Analysis**\n",
    "\n",
    "**IMDb Ratings vs Release Year graph:**\n",
    "\n",
    "I do not see any linearity between these two variables, which tells me that the year a title was released has little to no effect on its rating. However, I can see that Netflix has a much larger number of titles that were released in recent years. Because of this, we have a larger range of average ratings as these titles may be more relevant due to their recency. In fact, recency bias may be playing a large role in my data and can be misrepresenting the actual quality of each title.\n",
    "\n",
    "**Number of Votes vs IMDb Ratings graph:**\n",
    "\n",
    "My graph demonstrates to me that titles with higher average ratings have a greater number of votes that factored into it. This hints at the fact that popularity may be affecting my data- titles that gained a lot of popularity and viewer traffic tend to be better-received quality and production wise."
   ]
  },
  {
   "cell_type": "markdown",
   "metadata": {},
   "source": [
    "## Summary of my Data Visualization ##\n",
    "\n",
    "The media that Netflix offers on their platform tends to be consistent in terms of level of quality, with most titles receiving IMDb ratings between 5.8 and 7.3. This can be seen by the narrow interquartile range and low standard deviation in average ratings. While the scatter plot between release year and ratings indicates that there is little to no relationship between the two, the concentration of recent releases in the last six years demonstrates that there may be some recency bias, as newer titles may attract greater attention and viewer engagement. Moreover, titles with higher ratings tend to have significantly more votes, which may suggest that the popularity of a title increases viewer engagement, with viewers being more drawn to well-liked titles. The presence of outliers in the lower end of ratings may have to be further analyzed to determine what may be causing these films to be well-received. Some examples of this may be the fact that Netflix has been focusing their available content to Netflix-originals, whilst getting rid of classics. These new films and tv shows may not be as well-crafted as the classics they previously had available, which may be causing these potential outliers.\n"
   ]
  },
  {
   "cell_type": "markdown",
   "metadata": {},
   "source": [
    "# Section 4 #\n",
    "\n",
    "### My Observations from Exploratory Data Analysis ###\n",
    "\n",
    "Variation of average ratings: I discovered that there is a small variation in average ratings from title-to-title. The majority of Netflix titles have IMDb ratings between 5.8 and 7.3, with few extreme outliers. This indicates that most content is moderately well-liked, with consistent quality movies and TV shows across the platform.\n",
    "\n",
    "Variation in number of votes: There is a large standard deviation in the number of votes, which shows that there is unequal audience engagement, with some titles emmassing a huge amount of votes and others receiving very few. This may be affecting how accurate the ratings reflect the quality of the title for those with few votes.\n",
    "\n",
    "Impact of popularity on ratings: Titles with higher ratings tend to receive significantly more votes, which may indicate a relationship between popularity and the viewer perceived quality of the title.\n",
    "\n",
    "Potential recency bias: About 75% of titles were released within the last six years. In result, some recency bias may be influencing ratings and votes. While the scatterplot analyzing the relationship between average rating and year released shows that rating distributions have been pretty consistent throughout the last century, I believe that recency bias is affecting the amount of votes that newer titles receive. This affects the accurate representation of the quality of each title in terms of viewers' perspective. More recent titles may entice more people to vote, meaning older titles may not be accurately represented by their fewer number of votes. More data visualizations  \n",
    "\n",
    "Low-end outliers: Some titles received significantly lower ratings, some further analysis is needed to understand why these outliers exist.\n",
    "\n",
    "### Ideas for Analysis in Part II ###\n",
    "\n",
    "***What makes a title popular?***\n",
    "\n",
    " I can analyze which factors cause viewers to feel more encouraged to vote/give a higher rating. I can do this by examining relationships between the number of votes and other variables like genre, release year, and ratings.\n",
    "\n",
    "***Are certain genres more likely to attract larger audiences?***\n",
    "\n",
    "I can analyze which genres tend to have higher ratings or more votes. In doing so, I'll find if there are certain audience preferences that make a movie/tv show more likely to be successful.\n",
    "\n",
    "***Is recency bias affecting my data?***\n",
    "\n",
    "Here, I can further explore the differences between the data correlating to newer titles v.s older titles, and see if recent titles tend to be more relevant and well-received than older ones.\n",
    "\n",
    "***Are there any differences in movie vs TV show ratings?***\n",
    "\n",
    "I would like to find if movies tend to have higher or lower ratings as compared to tv shows, and what this may imply about viewers. I can also factor in other variable analysis, such as what genres are more common for movies/tv shows to find if that may be affecting rating distributions.\n"
   ]
  },
  {
   "cell_type": "markdown",
   "metadata": {},
   "source": [
    "# Section 5: Data Science #"
   ]
  },
  {
   "cell_type": "markdown",
   "metadata": {},
   "source": [
    "### Previous observations: ## \n",
    "Previously, I found that the year a title was released had a weak relationship with the rating and number of votes it received. While recent titles did receive more votes/lower ratings, I can conclude that the relationship between release year and ratings/votes wasn't strong enough to make any further predictions regarding popularity.\n",
    "Though I saw that titles with higher ratings may attract more votes, the effect was small; thus, perhaps exploring a different data science question would suit my data more adequately."
   ]
  },
  {
   "cell_type": "markdown",
   "metadata": {},
   "source": [
    "### My exploratory question: ### \n",
    "***Are there any differences between movie vs TV show ratings?*** \n",
    "\n",
    "Based on my past observations, I'd like to shift my focus towards analyzing differences between movie and TV show ratings. I'd like to observe whether TV shows *or* movies gain more popularity. \n",
    "\n",
    "***My Data Science Technique***: I will utilize hypothesis testing to determine whether there is a statistically significant difference between the ratings of movies and TV shows. \n",
    "\n",
    "I believe that **TV shows receive higher average ratings than movies because they are typically associated with dedicated fandoms and engaged communities**.\n",
    "\n",
    "**Method:** To determine if this is true, I will perform a **one-sided two-sample z-test** since two-sample z-tests compare two samples to each other (tv show vs movie samples, which are both *independent variables*).\n",
    "In order to reach a conclusion for my hypothesis test, I must find whether the p-value is less than the significance level of 5%. Luckily, we have libraries available in **Python** that can help me with this (in particular, the *statsmodel library*)\n"
   ]
  },
  {
   "cell_type": "markdown",
   "metadata": {},
   "source": [
    "### Defining my Hypotheses\n",
    "\n",
    "**Null Hypothesis:** The average ratings for TV shows is less than or equal to the average ratings for movies.\n",
    "\n",
    "$H_0$: $\\mu_{tv} \\leq  \\mu_{movie}$\n",
    "\n",
    "**Alternative Hypothesis:** The average ratings of TV shows are less than the average ratings for movies.\n",
    "\n",
    "$H_a$: $\\mu_{tv} > \\mu_{movie}$\n"
   ]
  },
  {
   "cell_type": "code",
   "execution_count": 22,
   "metadata": {},
   "outputs": [],
   "source": [
    "## Importing the function for a z test from the statsmodel library:\n",
    "from statsmodels.stats.weightstats import ztest"
   ]
  },
  {
   "cell_type": "markdown",
   "metadata": {},
   "source": [
    "Now that I've defined my *null* and *alternative* hypotheses, I'd like to filter my dataframe containing only the two variables I'd like to analyze: the *type* of title it is (movie or TV show), and the *IMDb average rating* of each title. In section 2, I already dropped any rows with missing data. Now, I may proceed:"
   ]
  },
  {
   "cell_type": "code",
   "execution_count": 23,
   "metadata": {},
   "outputs": [
    {
     "data": {
      "text/html": [
       "<div>\n",
       "<style scoped>\n",
       "    .dataframe tbody tr th:only-of-type {\n",
       "        vertical-align: middle;\n",
       "    }\n",
       "\n",
       "    .dataframe tbody tr th {\n",
       "        vertical-align: top;\n",
       "    }\n",
       "\n",
       "    .dataframe thead th {\n",
       "        text-align: right;\n",
       "    }\n",
       "</style>\n",
       "<table border=\"1\" class=\"dataframe\">\n",
       "  <thead>\n",
       "    <tr style=\"text-align: right;\">\n",
       "      <th></th>\n",
       "      <th>type</th>\n",
       "      <th>imdbAverageRating</th>\n",
       "    </tr>\n",
       "  </thead>\n",
       "  <tbody>\n",
       "    <tr>\n",
       "      <th>3</th>\n",
       "      <td>movie</td>\n",
       "      <td>7.0</td>\n",
       "    </tr>\n",
       "    <tr>\n",
       "      <th>5</th>\n",
       "      <td>movie</td>\n",
       "      <td>8.3</td>\n",
       "    </tr>\n",
       "    <tr>\n",
       "      <th>10</th>\n",
       "      <td>movie</td>\n",
       "      <td>7.2</td>\n",
       "    </tr>\n",
       "    <tr>\n",
       "      <th>12</th>\n",
       "      <td>movie</td>\n",
       "      <td>8.1</td>\n",
       "    </tr>\n",
       "    <tr>\n",
       "      <th>19</th>\n",
       "      <td>movie</td>\n",
       "      <td>7.9</td>\n",
       "    </tr>\n",
       "    <tr>\n",
       "      <th>...</th>\n",
       "      <td>...</td>\n",
       "      <td>...</td>\n",
       "    </tr>\n",
       "    <tr>\n",
       "      <th>20119</th>\n",
       "      <td>tv</td>\n",
       "      <td>4.5</td>\n",
       "    </tr>\n",
       "    <tr>\n",
       "      <th>20121</th>\n",
       "      <td>tv</td>\n",
       "      <td>7.2</td>\n",
       "    </tr>\n",
       "    <tr>\n",
       "      <th>20122</th>\n",
       "      <td>tv</td>\n",
       "      <td>5.3</td>\n",
       "    </tr>\n",
       "    <tr>\n",
       "      <th>20124</th>\n",
       "      <td>tv</td>\n",
       "      <td>6.6</td>\n",
       "    </tr>\n",
       "    <tr>\n",
       "      <th>20127</th>\n",
       "      <td>tv</td>\n",
       "      <td>7.3</td>\n",
       "    </tr>\n",
       "  </tbody>\n",
       "</table>\n",
       "<p>6867 rows × 2 columns</p>\n",
       "</div>"
      ],
      "text/plain": [
       "        type  imdbAverageRating\n",
       "3      movie                7.0\n",
       "5      movie                8.3\n",
       "10     movie                7.2\n",
       "12     movie                8.1\n",
       "19     movie                7.9\n",
       "...      ...                ...\n",
       "20119     tv                4.5\n",
       "20121     tv                7.2\n",
       "20122     tv                5.3\n",
       "20124     tv                6.6\n",
       "20127     tv                7.3\n",
       "\n",
       "[6867 rows x 2 columns]"
      ]
     },
     "execution_count": 23,
     "metadata": {},
     "output_type": "execute_result"
    }
   ],
   "source": [
    "df_2columns = df_US_new[[\"type\", \"imdbAverageRating\"]]\n",
    "df_2columns"
   ]
  },
  {
   "cell_type": "markdown",
   "metadata": {},
   "source": [
    "**Creating my two subpopulations:**\n",
    "\n",
    "I've filtered my dataset for only data relevant to my hypothesis test, and now I'll prepare my data so that I can conduct a z-test. \n",
    "\n",
    "For this, I will separate my data based on my two *type* categories: titles that are labeled **movies** and titles that are labeled **tv shows**."
   ]
  },
  {
   "cell_type": "code",
   "execution_count": 24,
   "metadata": {},
   "outputs": [
    {
     "data": {
      "text/html": [
       "<div>\n",
       "<style scoped>\n",
       "    .dataframe tbody tr th:only-of-type {\n",
       "        vertical-align: middle;\n",
       "    }\n",
       "\n",
       "    .dataframe tbody tr th {\n",
       "        vertical-align: top;\n",
       "    }\n",
       "\n",
       "    .dataframe thead th {\n",
       "        text-align: right;\n",
       "    }\n",
       "</style>\n",
       "<table border=\"1\" class=\"dataframe\">\n",
       "  <thead>\n",
       "    <tr style=\"text-align: right;\">\n",
       "      <th></th>\n",
       "      <th>type</th>\n",
       "      <th>imdbAverageRating</th>\n",
       "    </tr>\n",
       "  </thead>\n",
       "  <tbody>\n",
       "    <tr>\n",
       "      <th>3</th>\n",
       "      <td>movie</td>\n",
       "      <td>7.0</td>\n",
       "    </tr>\n",
       "    <tr>\n",
       "      <th>5</th>\n",
       "      <td>movie</td>\n",
       "      <td>8.3</td>\n",
       "    </tr>\n",
       "    <tr>\n",
       "      <th>10</th>\n",
       "      <td>movie</td>\n",
       "      <td>7.2</td>\n",
       "    </tr>\n",
       "    <tr>\n",
       "      <th>12</th>\n",
       "      <td>movie</td>\n",
       "      <td>8.1</td>\n",
       "    </tr>\n",
       "    <tr>\n",
       "      <th>19</th>\n",
       "      <td>movie</td>\n",
       "      <td>7.9</td>\n",
       "    </tr>\n",
       "    <tr>\n",
       "      <th>...</th>\n",
       "      <td>...</td>\n",
       "      <td>...</td>\n",
       "    </tr>\n",
       "    <tr>\n",
       "      <th>15446</th>\n",
       "      <td>movie</td>\n",
       "      <td>7.9</td>\n",
       "    </tr>\n",
       "    <tr>\n",
       "      <th>15451</th>\n",
       "      <td>movie</td>\n",
       "      <td>6.7</td>\n",
       "    </tr>\n",
       "    <tr>\n",
       "      <th>15456</th>\n",
       "      <td>movie</td>\n",
       "      <td>3.7</td>\n",
       "    </tr>\n",
       "    <tr>\n",
       "      <th>15457</th>\n",
       "      <td>movie</td>\n",
       "      <td>6.9</td>\n",
       "    </tr>\n",
       "    <tr>\n",
       "      <th>15476</th>\n",
       "      <td>movie</td>\n",
       "      <td>6.5</td>\n",
       "    </tr>\n",
       "  </tbody>\n",
       "</table>\n",
       "<p>4179 rows × 2 columns</p>\n",
       "</div>"
      ],
      "text/plain": [
       "        type  imdbAverageRating\n",
       "3      movie                7.0\n",
       "5      movie                8.3\n",
       "10     movie                7.2\n",
       "12     movie                8.1\n",
       "19     movie                7.9\n",
       "...      ...                ...\n",
       "15446  movie                7.9\n",
       "15451  movie                6.7\n",
       "15456  movie                3.7\n",
       "15457  movie                6.9\n",
       "15476  movie                6.5\n",
       "\n",
       "[4179 rows x 2 columns]"
      ]
     },
     "execution_count": 24,
     "metadata": {},
     "output_type": "execute_result"
    }
   ],
   "source": [
    "df_movie = df_2columns[df_2columns.type == \"movie\"]\n",
    "df_movie"
   ]
  },
  {
   "cell_type": "code",
   "execution_count": 25,
   "metadata": {},
   "outputs": [
    {
     "data": {
      "text/html": [
       "<div>\n",
       "<style scoped>\n",
       "    .dataframe tbody tr th:only-of-type {\n",
       "        vertical-align: middle;\n",
       "    }\n",
       "\n",
       "    .dataframe tbody tr th {\n",
       "        vertical-align: top;\n",
       "    }\n",
       "\n",
       "    .dataframe thead th {\n",
       "        text-align: right;\n",
       "    }\n",
       "</style>\n",
       "<table border=\"1\" class=\"dataframe\">\n",
       "  <thead>\n",
       "    <tr style=\"text-align: right;\">\n",
       "      <th></th>\n",
       "      <th>type</th>\n",
       "      <th>imdbAverageRating</th>\n",
       "    </tr>\n",
       "  </thead>\n",
       "  <tbody>\n",
       "    <tr>\n",
       "      <th>15485</th>\n",
       "      <td>tv</td>\n",
       "      <td>7.3</td>\n",
       "    </tr>\n",
       "    <tr>\n",
       "      <th>15487</th>\n",
       "      <td>tv</td>\n",
       "      <td>7.5</td>\n",
       "    </tr>\n",
       "    <tr>\n",
       "      <th>15488</th>\n",
       "      <td>tv</td>\n",
       "      <td>6.9</td>\n",
       "    </tr>\n",
       "    <tr>\n",
       "      <th>15489</th>\n",
       "      <td>tv</td>\n",
       "      <td>9.3</td>\n",
       "    </tr>\n",
       "    <tr>\n",
       "      <th>15493</th>\n",
       "      <td>tv</td>\n",
       "      <td>8.9</td>\n",
       "    </tr>\n",
       "    <tr>\n",
       "      <th>...</th>\n",
       "      <td>...</td>\n",
       "      <td>...</td>\n",
       "    </tr>\n",
       "    <tr>\n",
       "      <th>20119</th>\n",
       "      <td>tv</td>\n",
       "      <td>4.5</td>\n",
       "    </tr>\n",
       "    <tr>\n",
       "      <th>20121</th>\n",
       "      <td>tv</td>\n",
       "      <td>7.2</td>\n",
       "    </tr>\n",
       "    <tr>\n",
       "      <th>20122</th>\n",
       "      <td>tv</td>\n",
       "      <td>5.3</td>\n",
       "    </tr>\n",
       "    <tr>\n",
       "      <th>20124</th>\n",
       "      <td>tv</td>\n",
       "      <td>6.6</td>\n",
       "    </tr>\n",
       "    <tr>\n",
       "      <th>20127</th>\n",
       "      <td>tv</td>\n",
       "      <td>7.3</td>\n",
       "    </tr>\n",
       "  </tbody>\n",
       "</table>\n",
       "<p>2688 rows × 2 columns</p>\n",
       "</div>"
      ],
      "text/plain": [
       "      type  imdbAverageRating\n",
       "15485   tv                7.3\n",
       "15487   tv                7.5\n",
       "15488   tv                6.9\n",
       "15489   tv                9.3\n",
       "15493   tv                8.9\n",
       "...    ...                ...\n",
       "20119   tv                4.5\n",
       "20121   tv                7.2\n",
       "20122   tv                5.3\n",
       "20124   tv                6.6\n",
       "20127   tv                7.3\n",
       "\n",
       "[2688 rows x 2 columns]"
      ]
     },
     "execution_count": 25,
     "metadata": {},
     "output_type": "execute_result"
    }
   ],
   "source": [
    "df_tv = df_2columns[df_2columns.type == \"tv\"]\n",
    "df_tv"
   ]
  },
  {
   "cell_type": "markdown",
   "metadata": {},
   "source": [
    "### Conducting the z-test\n",
    "I've filtered my dataframe for my two desired sample, and now I can proceed to utilize my imported *ztest* from the *statsmodel library* to conduct my 2-sample z-test. Since I am testing the relationship between TV shows to movies, and finding if average ratings for TV shows are larger **I will set 'alternative' to larger**."
   ]
  },
  {
   "cell_type": "code",
   "execution_count": 26,
   "metadata": {},
   "outputs": [
    {
     "name": "stdout",
     "output_type": "stream",
     "text": [
      "Test statistic: 27.68454156640383\n",
      "P-value: 5.359370934834154e-169\n"
     ]
    }
   ],
   "source": [
    "tv_movie_results = ztest(df_tv[\"imdbAverageRating\"], df_movie[\"imdbAverageRating\"], alternative='larger')\n",
    "z_statistic, p_value = tv_movie_results\n",
    "\n",
    "print(\"Test statistic:\", z_statistic)\n",
    "print(\"P-value:\", p_value)"
   ]
  },
  {
   "cell_type": "markdown",
   "metadata": {},
   "source": [
    "##### Just to double check that these calculations are accurate, I will conduct my z-test manually using the formula:\n",
    "\n",
    "$$Z = \\frac{\\left| (\\bar{X}_1 - \\bar{X}_2)-0 \\right|}{\\sqrt{\\frac{s_1^2}{n_1} + \\frac{s_2^2}{n_2}}}\n"
   ]
  },
  {
   "cell_type": "code",
   "execution_count": 27,
   "metadata": {},
   "outputs": [],
   "source": [
    "from scipy.stats import norm"
   ]
  },
  {
   "cell_type": "markdown",
   "metadata": {},
   "source": [
    "##### 1: Finding my means ($\\bar{X}_1$ & $\\bar{X}_2$) and standard deviation values ($s_1$ and $s_2$) for tv sample and movie sample:"
   ]
  },
  {
   "cell_type": "code",
   "execution_count": 28,
   "metadata": {},
   "outputs": [],
   "source": [
    "x_bar_1 = df_tv[\"imdbAverageRating\"].mean()\n",
    "s_1 = df_tv[\"imdbAverageRating\"].std()\n",
    "\n",
    "x_bar_2 = df_movie[\"imdbAverageRating\"].mean()\n",
    "s_2 = df_movie[\"imdbAverageRating\"].std()\n"
   ]
  },
  {
   "cell_type": "markdown",
   "metadata": {},
   "source": [
    "##### 2: Finding my sample size, n:"
   ]
  },
  {
   "cell_type": "code",
   "execution_count": 29,
   "metadata": {},
   "outputs": [],
   "source": [
    "n_1 = len(df_tv[\"imdbAverageRating\"])\n",
    "n_2 = len(df_movie[\"imdbAverageRating\"])"
   ]
  },
  {
   "cell_type": "markdown",
   "metadata": {},
   "source": [
    "##### 3: Calculating standard error (denominator):"
   ]
  },
  {
   "cell_type": "code",
   "execution_count": 30,
   "metadata": {},
   "outputs": [],
   "source": [
    "se = ((s_1**2 / n_1) + (s_2**2 / n_2))**0.5"
   ]
  },
  {
   "cell_type": "markdown",
   "metadata": {},
   "source": [
    "##### 4: Calculating test statistic (z-score) and my two-tailed p-value:"
   ]
  },
  {
   "cell_type": "code",
   "execution_count": 31,
   "metadata": {},
   "outputs": [
    {
     "name": "stdout",
     "output_type": "stream",
     "text": [
      "Test statistic: 27.943085061527597\n",
      "P-value: 0.0\n"
     ]
    }
   ],
   "source": [
    "z_score = (x_bar_1 - x_bar_2) / se\n",
    "\n",
    "p_value_two_tailed = 2 * (1 - norm.cdf(abs(z_score)))\n",
    "print(\"Test statistic:\", z_score)\n",
    "print(\"P-value:\", p_value_two_tailed)"
   ]
  },
  {
   "cell_type": "markdown",
   "metadata": {},
   "source": [
    "## Analysis:\n",
    "After confirming my z-test results using the statsmodel library with my manual calculations, I can see that in fact my test statistic is incredibly large and that I have a p-value of 0.\n",
    "\n",
    "Since my calculated p-value ($5.36e-169$) is essentially equal to $0$, it falls far below my significance level of $0.05$. Thus, I have sufficient evidence to reject my null hypothesis that average ratings for TV shows are less than or equal to movies. The difference in average ratings is **statistically significant**, and I can conclude with overwhelming evidence that TV shows have  higher average IMDb ratings than movies. These results resonate with my reasoning that TV shows are better well-received due to the commitment they require and the fandoms they inspire.\n",
    "\n",
    "To determine whether my results are reasonable in regards to my data, I must take into account some secondary **Data Visualizations** for further interpretation; this time, in regards to rating distributions between movies and tv-shows."
   ]
  },
  {
   "cell_type": "markdown",
   "metadata": {},
   "source": [
    "# Section 6: A Different Data Visualization\n",
    "Previously, I created data visualizations representing relationships between IMDb average ratings, number of votes, and release year. These graphs helped me understand the spread, variation, and outliers within my numeric data. Now that I have a better understanding about the patterns within my dataset, I've further explored how the **type** of media the title falls under impacts its popularity upon IMDb users. In *Section 5*, I found that TV shows are better received than movies in terms of IMDb user ratings. While my hypothesis test proved this, it is still necessary utilize some **data visualizations** to help further assess the validity and context of my results.\n",
    "\n",
    "In *Section 3*, my analysis was focused on a **box plot** and **scatterplots**. Now, I will utilize a **histogram** to analyze the distribution of my movie/TV show samples. I hope to see if there is visual proof that there's a **significant** difference between average movie and tv show ratings.\n"
   ]
  },
  {
   "cell_type": "markdown",
   "metadata": {},
   "source": [
    "##### Plot 6.1: Histogram demonstrating the distribution of IMDb average ratings between TV shows and movies. \n",
    "\n",
    "*For my reference: https://seaborn.pydata.org/generated/seaborn.histplot.html*"
   ]
  },
  {
   "cell_type": "code",
   "execution_count": 32,
   "metadata": {},
   "outputs": [
    {
     "data": {
      "image/png": "[encoded data removed]",
      "text/plain": [
       "<Figure size 640x480 with 1 Axes>"
      ]
     },
     "metadata": {},
     "output_type": "display_data"
    }
   ],
   "source": [
    "import seaborn as sns\n",
    "\n",
    "sns.histplot(df_tv[\"imdbAverageRating\"], bins=30, kde=True, label=\"TV Shows\", color=\"blue\",)\n",
    "sns.histplot(df_movie[\"imdbAverageRating\"], bins=30, kde=True, label=\"Movies\", color=\"red\",)\n",
    "\n",
    "plt.title(\"Distribution of IMDb Average Ratings: TV Shows vs. Movies\")\n",
    "plt.xlabel(\"IMDb Average Ratings\")\n",
    "plt.ylabel(\"Frequency\")\n",
    "plt.legend()\n",
    "plt.show()"
   ]
  },
  {
   "cell_type": "markdown",
   "metadata": {},
   "source": [
    "##### Plot 6.2: Bar plot demonstrating the mean average rating for TV shows vs movies. \n",
    "*To visualize how much larger mean ratings were for TV shows as compared to movies.*\n",
    "\n",
    "*https://seaborn.pydata.org/generated/seaborn.barplot.html*\n"
   ]
  },
  {
   "cell_type": "code",
   "execution_count": 33,
   "metadata": {},
   "outputs": [
    {
     "data": {
      "image/png": "[encoded data removed]",
      "text/plain": [
       "<Figure size 640x480 with 1 Axes>"
      ]
     },
     "metadata": {},
     "output_type": "display_data"
    }
   ],
   "source": [
    "means = [df_tv[\"imdbAverageRating\"].mean(), df_movie[\"imdbAverageRating\"].mean()]\n",
    "\n",
    "plt.bar([\"TV Shows\", \"Movies\"], means, color=[\"blue\", \"red\"])\n",
    "plt.title(\"Mean IMDb Ratings for TV Shows and Movies\")\n",
    "plt.ylabel(\"Mean IMDb Rating\")\n",
    "plt.ylim(0,10)\n",
    "plt.show()\n"
   ]
  },
  {
   "cell_type": "markdown",
   "metadata": {},
   "source": [
    "## Analysis:\n",
    "##### Plot 6.1: Histogram\n",
    "\n",
    "I included a kde line in my histogram to better emphasize where majority of my data per type falls around. As visually demonstrated, TV shows do indeed receive higher average ratings than movies do, with the mean falling at around a rating of 7. As well, I can see that TV shows have a slightly higher peak in the 7-8 rating range, whereas majority of movies fall in around the 5-6 range. Though in my opinion, this difference isn't as drastic as my hypothesis test made it seem to be, in terms of ratings it makes sense that a 1-2 star average rating decrease for movies may be deemed dramatic. In the media industry, a 7/10 as compared to a 6/10 makes a big difference. A 6 is deemed \"not that great,\" but a 7 is deemed 'relatively good' (based on my experience with other film-fanatics). For those who aren't film-fanatics, one may think about this difference as getting a *'D'* on an exam as compared to a *'C'*- one is considered 'passing' and the other isn't.\n",
    "\n",
    "I also see that TV shows have fewer lower ratings (below 5) compared to movies, which have a higher frequency of low ratings. This may be due to the fact that there are almost double the amount of movies as compared to TV shows, and thus ratings for movies average out at around a 5-6. Moreover, as discussed in Part I, Netflix has been focusing on their platform being centered around 'Netflix originals,' which have been mostly TV shows that gain a lot of popularity due to their recency; here, **recency bias** may be at play. \n",
    "##### Plot 6.2 Bar Plot\n",
    "\n",
    "I utilized this bar plot to better visualize the difference in the means of IMDb average ratings between TV shows and movies.\n",
    "I observed that the mean rating for TV shows is noticeably higher (around 7) than that for movies (around 6.1). Though the difference may seem small visually, as discussed prior, this difference dictates whether a movie is 'passing' in the media industry or not. As well, this difference supports the results I found in my hypothesis test where there was significant statistical evidence of a noticable difference in the average ratings.\n"
   ]
  },
  {
   "cell_type": "markdown",
   "metadata": {},
   "source": [
    "# Section 7: Overall Summary\n",
    "\n",
    "For this project, I analyzed the *Netflix dataset* including IMDb ratings to find trends in how titles are rated, as well as to test patterns in popularity depending on the **type** of media a title was categorized. In this, I discovered that TV shows receive higher average ratings than movies, which I found in my hypothesis test where my **p-value was almost equal to $0$**. Through my exploratory data analysis, I observed several other patterns in my data. I found a *small variation* in IMDb ratings, with most ratings falling between **$5.8$ to $7.3$,** showing there's consistent quality in Netflix titles. Moreover, I saw a *large standard deviation* in the number of votes (**$75,805.31$**), which showed me that there's unequal audience engagement due to recent titles receiving more votes. Additionally, there appears to be a relationship between popularity and ratings, as titles with higher ratings tend to have more votes. I also noted potential recency bias, as the majority of titles were released within the last six years, which could affect both ratings and the number of votes these titles receive.\n",
    "\n",
    "To support my findings, I used a variety of data visualizations- including a *box plot* to understand the spread of ratings, *scatterplots* to visualize relationships between my numeric variables, and a *histogram* to understand differences between TV show and movie average ratings. These visualizations were consistent with my exploratory data analysis and hypothesis testing. I found that the average IMDb rating across all titles was a **$6.49$**, with the average ratings for TV shows falling around a **$7$** and movies around a **$6.1$**. This demonstrated to me that the large amount of movies Netflix has available are bringing down the quality of the platform as a whole. These results show the importance of analyzing IMDb ratings to understand viewer preferences for streaming platforms. By finding that TV shows are rated higher on average than movies, this project shows why Netflix may be focusing on producing original series. As well, exploring viewer engagement patterns and recency bias demonstrates how factors such as title release year and popularity can influence the perceived quality of a title by the viewer. Overall, my analysis throughout this project has gave me a better understanding of how streaming platforms like Netflix curate their content to meet viewer preferences.\n"
   ]
  }
 ],
 "metadata": {
  "kernelspec": {
   "display_name": "Python 3",
   "language": "python",
   "name": "python3"
  },
  "language_info": {
   "codemirror_mode": {
    "name": "ipython",
    "version": 3
   },
   "file_extension": ".py",
   "mimetype": "text/x-python",
   "name": "python",
   "nbconvert_exporter": "python",
   "pygments_lexer": "ipython3",
   "version": "3.9.6"
  }
 },
 "nbformat": 4,
 "nbformat_minor": 2
}

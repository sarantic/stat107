{
 "cells": [
  {
   "attachments": {},
   "cell_type": "markdown",
   "metadata": {},
   "source": [
    "# Lab: Hypothesis Tests 📔❔\n",
    "In this lab, you will conduct hypothesis tests on the Hello Dataset! \n",
    "\n",
    "A few tips to remember:\n",
    "\n",
    "- **You are not alone on your journey in learning programming!**  You have your lab TA, your CAs, your lab group, and the professors (Prof. Wade and Prof. Karle), who are all here to help you out!\n",
    "- If you find yourself stuck for more than a few minutes, ask a neighbor or course staff for help!  When you are giving help to your neighbor, explain the **idea and approach** to the problem without sharing the answer itself so they can have the same **<i>ah-hah</i>** moment!\n",
    "- We are here to help you!  Don't feel embarrassed or shy to ask us for help!\n",
    "\n",
    "Let's get started!"
   ]
  },
  {
   "cell_type": "code",
   "execution_count": 28,
   "metadata": {},
   "outputs": [],
   "source": [
    "# Meet your CAs and TA if you haven't already!\n",
    "# ...first name is enough, we'll know who they are! :)\n",
    "ta_name = \"Eric Wayman\"\n",
    "ca1_name = \"\"\n",
    "ca2_name = \"\"\n",
    "ca3_name = \"\"\n",
    "\n",
    "# Say hello to each other!\n",
    "# - Groups of 3 are ideal :)\n",
    "# - However, groups of 2 or 4 are fine too!\n",
    "\n",
    "# QOTD to ask your group: What is your favorite Thanksgiving dinner food?\n",
    "partner1_name = \"Gabby Escutia\"\n",
    "partner1_netid = \"\"\n",
    "partner1_favfood = \"Mashed Potatoes\"\n",
    "\n",
    "partner2_name = \"Melissa Brito\"\n",
    "partner2_netid = \"\"\n",
    "partner2_favfood = \"Pumpkin Pie\"\n",
    "\n",
    "partner3_name = \"\"\n",
    "partner3_netid = \"\"\n",
    "partner3_favfood = \"\""
   ]
  },
  {
   "cell_type": "markdown",
   "metadata": {},
   "source": [
    "<hr style=\"color: #DD3403;\">"
   ]
  },
  {
   "attachments": {},
   "cell_type": "markdown",
   "metadata": {},
   "source": [
    "# Part 1: Sleep\n",
    "Remember the Hello Survey you took towards the beginning of the semester? Well, we are bringing it back! We're going to conduct hypothesis tests using **your Hello Dataset**. Specifically, we will answer this question: \n",
    "\n",
    "> **Do UIUC students get significantly different sleep compared to the average American?**\n",
    "\n",
    "First, as always, we must import the Hello Dataset. \n",
    "\n",
    "The \"Hello Dataset\" is available here:\n",
    "```\n",
    "https://waf.cs.illinois.edu/discovery/hello-fa24.csv\n",
    "```\n",
    "\n",
    "Use Python to load this dataset into a DataFrame called `df_hello`:"
   ]
  },
  {
   "cell_type": "code",
   "execution_count": 29,
   "metadata": {},
   "outputs": [
    {
     "data": {
      "text/html": [
       "<div>\n",
       "<style scoped>\n",
       "    .dataframe tbody tr th:only-of-type {\n",
       "        vertical-align: middle;\n",
       "    }\n",
       "\n",
       "    .dataframe tbody tr th {\n",
       "        vertical-align: top;\n",
       "    }\n",
       "\n",
       "    .dataframe thead th {\n",
       "        text-align: right;\n",
       "    }\n",
       "</style>\n",
       "<table border=\"1\" class=\"dataframe\">\n",
       "  <thead>\n",
       "    <tr style=\"text-align: right;\">\n",
       "      <th></th>\n",
       "      <th>Name</th>\n",
       "      <th>Lab</th>\n",
       "      <th>When flipping a coin, heads or tails?</th>\n",
       "      <th>Is this your first year at UIUC?</th>\n",
       "      <th>Is your favorite ice cream flavor chocolate or vanilla?</th>\n",
       "      <th>Do you like morning or night?</th>\n",
       "      <th>Do you prefer even or odd numbers?</th>\n",
       "      <th>Do you have a pet?</th>\n",
       "      <th>Do you prefer summer or winter?</th>\n",
       "      <th>Are you a business major?</th>\n",
       "      <th>...</th>\n",
       "      <th>Besides the US, what country would you like to live in?</th>\n",
       "      <th>What is your favorite color?</th>\n",
       "      <th>Favorite way to spend your free time?</th>\n",
       "      <th>What genre of music do you like the most?</th>\n",
       "      <th>If you were an animal, which would you be? / What is your spirit animal?</th>\n",
       "      <th>What do you think is the hardest major at UIUC?</th>\n",
       "      <th>Who is your favorite music artist?</th>\n",
       "      <th>What's your favorite social media app?</th>\n",
       "      <th>What is your favorite game to play (either video game or IRL)?</th>\n",
       "      <th>Where is your dream vacation spot?</th>\n",
       "    </tr>\n",
       "  </thead>\n",
       "  <tbody>\n",
       "    <tr>\n",
       "      <th>0</th>\n",
       "      <td>Prof. Karle</td>\n",
       "      <td>AL1, AL2</td>\n",
       "      <td>Heads</td>\n",
       "      <td>Not First Year</td>\n",
       "      <td>Chocolate</td>\n",
       "      <td>Night</td>\n",
       "      <td>Even</td>\n",
       "      <td>No</td>\n",
       "      <td>Summer</td>\n",
       "      <td>No</td>\n",
       "      <td>...</td>\n",
       "      <td>The Maldives</td>\n",
       "      <td>pink</td>\n",
       "      <td>water skiing!</td>\n",
       "      <td>pop</td>\n",
       "      <td>sloth</td>\n",
       "      <td>Computer Science</td>\n",
       "      <td>Taylor Swift</td>\n",
       "      <td>Instagram</td>\n",
       "      <td>volleyball</td>\n",
       "      <td>The Maldives</td>\n",
       "    </tr>\n",
       "    <tr>\n",
       "      <th>1</th>\n",
       "      <td>Prof. Wade</td>\n",
       "      <td>AL1, AL2</td>\n",
       "      <td>Tails</td>\n",
       "      <td>Not First Year</td>\n",
       "      <td>Vanilla</td>\n",
       "      <td>Night</td>\n",
       "      <td>Odd</td>\n",
       "      <td>Yes</td>\n",
       "      <td>Winter</td>\n",
       "      <td>No</td>\n",
       "      <td>...</td>\n",
       "      <td>Sweden</td>\n",
       "      <td>Purple</td>\n",
       "      <td>Programming</td>\n",
       "      <td>Pop</td>\n",
       "      <td>Fox</td>\n",
       "      <td>Computer Science</td>\n",
       "      <td>Taylor Swift</td>\n",
       "      <td>YouTube</td>\n",
       "      <td>Factorio</td>\n",
       "      <td>Acadia</td>\n",
       "    </tr>\n",
       "    <tr>\n",
       "      <th>2</th>\n",
       "      <td>Angelina</td>\n",
       "      <td>Y13</td>\n",
       "      <td>Tails</td>\n",
       "      <td>First Year at UIUC</td>\n",
       "      <td>Vanilla</td>\n",
       "      <td>Morning</td>\n",
       "      <td>Even</td>\n",
       "      <td>Yes</td>\n",
       "      <td>Summer</td>\n",
       "      <td>No</td>\n",
       "      <td>...</td>\n",
       "      <td>Hong Kong</td>\n",
       "      <td>Pink</td>\n",
       "      <td>Watching shows</td>\n",
       "      <td>r&amp;b</td>\n",
       "      <td>Tiger</td>\n",
       "      <td>Aerospace engineering</td>\n",
       "      <td>Ashley Alisha</td>\n",
       "      <td>Insta</td>\n",
       "      <td>NaN</td>\n",
       "      <td>Southern France</td>\n",
       "    </tr>\n",
       "    <tr>\n",
       "      <th>3</th>\n",
       "      <td>TA Tyler</td>\n",
       "      <td>Y07, Y10, Y20</td>\n",
       "      <td>Tails</td>\n",
       "      <td>Not First Year</td>\n",
       "      <td>Chocolate</td>\n",
       "      <td>Night</td>\n",
       "      <td>Even</td>\n",
       "      <td>No</td>\n",
       "      <td>Winter</td>\n",
       "      <td>No</td>\n",
       "      <td>...</td>\n",
       "      <td>Canada</td>\n",
       "      <td>Orange</td>\n",
       "      <td>Terraria</td>\n",
       "      <td>Pop rock</td>\n",
       "      <td>Bee</td>\n",
       "      <td>Chemical Engineering</td>\n",
       "      <td>Billy Joel</td>\n",
       "      <td>Reddit</td>\n",
       "      <td>Terraria</td>\n",
       "      <td>My apartment</td>\n",
       "    </tr>\n",
       "    <tr>\n",
       "      <th>4</th>\n",
       "      <td>Sneha</td>\n",
       "      <td>Y17</td>\n",
       "      <td>Tails</td>\n",
       "      <td>First Year at UIUC</td>\n",
       "      <td>Vanilla</td>\n",
       "      <td>Night</td>\n",
       "      <td>Even</td>\n",
       "      <td>No</td>\n",
       "      <td>Summer</td>\n",
       "      <td>Yes</td>\n",
       "      <td>...</td>\n",
       "      <td>Canada</td>\n",
       "      <td>Green</td>\n",
       "      <td>Reading or crocheting</td>\n",
       "      <td>Pop Rock</td>\n",
       "      <td>Penguin</td>\n",
       "      <td>Computer Science</td>\n",
       "      <td>Imagine Dragons</td>\n",
       "      <td>Instagram</td>\n",
       "      <td>Beat Saber</td>\n",
       "      <td>Italy</td>\n",
       "    </tr>\n",
       "    <tr>\n",
       "      <th>...</th>\n",
       "      <td>...</td>\n",
       "      <td>...</td>\n",
       "      <td>...</td>\n",
       "      <td>...</td>\n",
       "      <td>...</td>\n",
       "      <td>...</td>\n",
       "      <td>...</td>\n",
       "      <td>...</td>\n",
       "      <td>...</td>\n",
       "      <td>...</td>\n",
       "      <td>...</td>\n",
       "      <td>...</td>\n",
       "      <td>...</td>\n",
       "      <td>...</td>\n",
       "      <td>...</td>\n",
       "      <td>...</td>\n",
       "      <td>...</td>\n",
       "      <td>...</td>\n",
       "      <td>...</td>\n",
       "      <td>...</td>\n",
       "      <td>...</td>\n",
       "    </tr>\n",
       "    <tr>\n",
       "      <th>1089</th>\n",
       "      <td>RuohanLiu</td>\n",
       "      <td>Y25</td>\n",
       "      <td>Tails</td>\n",
       "      <td>Not First Year</td>\n",
       "      <td>Chocolate</td>\n",
       "      <td>Night</td>\n",
       "      <td>Odd</td>\n",
       "      <td>Yes</td>\n",
       "      <td>Winter</td>\n",
       "      <td>No</td>\n",
       "      <td>...</td>\n",
       "      <td>Chian</td>\n",
       "      <td>blue</td>\n",
       "      <td>travel</td>\n",
       "      <td>pop</td>\n",
       "      <td>cat</td>\n",
       "      <td>math</td>\n",
       "      <td>Talyor swift</td>\n",
       "      <td>ins</td>\n",
       "      <td>PUBG</td>\n",
       "      <td>Alaska</td>\n",
       "    </tr>\n",
       "    <tr>\n",
       "      <th>1090</th>\n",
       "      <td>Morgan</td>\n",
       "      <td>Y03</td>\n",
       "      <td>Heads</td>\n",
       "      <td>Not First Year</td>\n",
       "      <td>Vanilla</td>\n",
       "      <td>Night</td>\n",
       "      <td>Odd</td>\n",
       "      <td>No</td>\n",
       "      <td>Summer</td>\n",
       "      <td>No</td>\n",
       "      <td>...</td>\n",
       "      <td>England</td>\n",
       "      <td>Blue</td>\n",
       "      <td>Listening to music while drawing</td>\n",
       "      <td>LoFi</td>\n",
       "      <td>An Eagle</td>\n",
       "      <td>ECE</td>\n",
       "      <td>Smyang Piano</td>\n",
       "      <td>Instagram</td>\n",
       "      <td>Overcooked</td>\n",
       "      <td>NYC during Christmas time</td>\n",
       "    </tr>\n",
       "    <tr>\n",
       "      <th>1091</th>\n",
       "      <td>Auggie</td>\n",
       "      <td>Y08</td>\n",
       "      <td>Heads</td>\n",
       "      <td>Not First Year</td>\n",
       "      <td>Chocolate</td>\n",
       "      <td>Night</td>\n",
       "      <td>Odd</td>\n",
       "      <td>Yes</td>\n",
       "      <td>Summer</td>\n",
       "      <td>No</td>\n",
       "      <td>...</td>\n",
       "      <td>Canada</td>\n",
       "      <td>blue</td>\n",
       "      <td>hangout with friends</td>\n",
       "      <td>Country</td>\n",
       "      <td>Dog</td>\n",
       "      <td>Actuarial Science</td>\n",
       "      <td>Zach Bryan</td>\n",
       "      <td>tik tok</td>\n",
       "      <td>Card games</td>\n",
       "      <td>Mountains</td>\n",
       "    </tr>\n",
       "    <tr>\n",
       "      <th>1092</th>\n",
       "      <td>Rebeca</td>\n",
       "      <td>Y10</td>\n",
       "      <td>Tails</td>\n",
       "      <td>Not First Year</td>\n",
       "      <td>Chocolate</td>\n",
       "      <td>Morning</td>\n",
       "      <td>Even</td>\n",
       "      <td>Yes</td>\n",
       "      <td>Summer</td>\n",
       "      <td>No</td>\n",
       "      <td>...</td>\n",
       "      <td>Costa Rica</td>\n",
       "      <td>Red</td>\n",
       "      <td>Reading or playing music</td>\n",
       "      <td>Indie folk and EDM</td>\n",
       "      <td>Dog</td>\n",
       "      <td>Engineering or computer science</td>\n",
       "      <td>Cosmos Sheldrake</td>\n",
       "      <td>Pintrest</td>\n",
       "      <td>DND</td>\n",
       "      <td>Beach</td>\n",
       "    </tr>\n",
       "    <tr>\n",
       "      <th>1093</th>\n",
       "      <td>Tyler</td>\n",
       "      <td>Y26</td>\n",
       "      <td>Heads</td>\n",
       "      <td>First Year at UIUC</td>\n",
       "      <td>Vanilla</td>\n",
       "      <td>Night</td>\n",
       "      <td>Even</td>\n",
       "      <td>No</td>\n",
       "      <td>Winter</td>\n",
       "      <td>No</td>\n",
       "      <td>...</td>\n",
       "      <td>China</td>\n",
       "      <td>Blue</td>\n",
       "      <td>video games</td>\n",
       "      <td>Metal</td>\n",
       "      <td>jaguar</td>\n",
       "      <td>CS</td>\n",
       "      <td>Bullet for My Valentine</td>\n",
       "      <td>Bilibili</td>\n",
       "      <td>Honor of Kings</td>\n",
       "      <td>Japan</td>\n",
       "    </tr>\n",
       "  </tbody>\n",
       "</table>\n",
       "<p>1094 rows × 150 columns</p>\n",
       "</div>"
      ],
      "text/plain": [
       "             Name            Lab When flipping a coin, heads or tails?  \\\n",
       "0     Prof. Karle       AL1, AL2                                 Heads   \n",
       "1      Prof. Wade       AL1, AL2                                 Tails   \n",
       "2        Angelina            Y13                                 Tails   \n",
       "3        TA Tyler  Y07, Y10, Y20                                 Tails   \n",
       "4          Sneha             Y17                                 Tails   \n",
       "...           ...            ...                                   ...   \n",
       "1089    RuohanLiu            Y25                                 Tails   \n",
       "1090       Morgan            Y03                                 Heads   \n",
       "1091       Auggie            Y08                                 Heads   \n",
       "1092       Rebeca            Y10                                 Tails   \n",
       "1093        Tyler            Y26                                 Heads   \n",
       "\n",
       "     Is this your first year at UIUC?  \\\n",
       "0                      Not First Year   \n",
       "1                      Not First Year   \n",
       "2                  First Year at UIUC   \n",
       "3                      Not First Year   \n",
       "4                  First Year at UIUC   \n",
       "...                               ...   \n",
       "1089                   Not First Year   \n",
       "1090                   Not First Year   \n",
       "1091                   Not First Year   \n",
       "1092                   Not First Year   \n",
       "1093               First Year at UIUC   \n",
       "\n",
       "     Is your favorite ice cream flavor chocolate or vanilla?  \\\n",
       "0                                             Chocolate        \n",
       "1                                               Vanilla        \n",
       "2                                               Vanilla        \n",
       "3                                             Chocolate        \n",
       "4                                               Vanilla        \n",
       "...                                                 ...        \n",
       "1089                                          Chocolate        \n",
       "1090                                            Vanilla        \n",
       "1091                                          Chocolate        \n",
       "1092                                          Chocolate        \n",
       "1093                                            Vanilla        \n",
       "\n",
       "     Do you like morning or night?  Do you prefer even or odd numbers?  \\\n",
       "0                             Night                               Even   \n",
       "1                             Night                                Odd   \n",
       "2                           Morning                               Even   \n",
       "3                             Night                               Even   \n",
       "4                             Night                               Even   \n",
       "...                             ...                                ...   \n",
       "1089                          Night                                Odd   \n",
       "1090                          Night                                Odd   \n",
       "1091                          Night                                Odd   \n",
       "1092                        Morning                               Even   \n",
       "1093                          Night                               Even   \n",
       "\n",
       "     Do you have a pet? Do you prefer summer or winter?  \\\n",
       "0                    No                          Summer   \n",
       "1                   Yes                          Winter   \n",
       "2                   Yes                          Summer   \n",
       "3                    No                          Winter   \n",
       "4                    No                          Summer   \n",
       "...                 ...                             ...   \n",
       "1089                Yes                          Winter   \n",
       "1090                 No                          Summer   \n",
       "1091                Yes                          Summer   \n",
       "1092                Yes                          Summer   \n",
       "1093                 No                          Winter   \n",
       "\n",
       "     Are you a business major?  ...  \\\n",
       "0                           No  ...   \n",
       "1                           No  ...   \n",
       "2                           No  ...   \n",
       "3                           No  ...   \n",
       "4                          Yes  ...   \n",
       "...                        ...  ...   \n",
       "1089                        No  ...   \n",
       "1090                        No  ...   \n",
       "1091                        No  ...   \n",
       "1092                        No  ...   \n",
       "1093                        No  ...   \n",
       "\n",
       "     Besides the US, what country would you like to live in?  \\\n",
       "0                                          The Maldives        \n",
       "1                                                Sweden        \n",
       "2                                            Hong Kong         \n",
       "3                                                Canada        \n",
       "4                                                Canada        \n",
       "...                                                 ...        \n",
       "1089                                              Chian        \n",
       "1090                                            England        \n",
       "1091                                             Canada        \n",
       "1092                                         Costa Rica        \n",
       "1093                                              China        \n",
       "\n",
       "     What is your favorite color? Favorite way to spend your free time?  \\\n",
       "0                            pink                         water skiing!   \n",
       "1                          Purple                           Programming   \n",
       "2                            Pink                        Watching shows   \n",
       "3                          Orange                              Terraria   \n",
       "4                           Green                 Reading or crocheting   \n",
       "...                           ...                                   ...   \n",
       "1089                         blue                                travel   \n",
       "1090                         Blue      Listening to music while drawing   \n",
       "1091                         blue                  hangout with friends   \n",
       "1092                          Red              Reading or playing music   \n",
       "1093                         Blue                           video games   \n",
       "\n",
       "     What genre of music do you like the most?  \\\n",
       "0                                          pop   \n",
       "1                                          Pop   \n",
       "2                                          r&b   \n",
       "3                                     Pop rock   \n",
       "4                                     Pop Rock   \n",
       "...                                        ...   \n",
       "1089                                       pop   \n",
       "1090                                      LoFi   \n",
       "1091                                   Country   \n",
       "1092                        Indie folk and EDM   \n",
       "1093                                     Metal   \n",
       "\n",
       "     If you were an animal, which would you be? / What is your spirit animal?  \\\n",
       "0                                                 sloth                         \n",
       "1                                                   Fox                         \n",
       "2                                                 Tiger                         \n",
       "3                                                   Bee                         \n",
       "4                                               Penguin                         \n",
       "...                                                 ...                         \n",
       "1089                                                cat                         \n",
       "1090                                           An Eagle                         \n",
       "1091                                                Dog                         \n",
       "1092                                                Dog                         \n",
       "1093                                             jaguar                         \n",
       "\n",
       "     What do you think is the hardest major at UIUC?  \\\n",
       "0                                   Computer Science   \n",
       "1                                   Computer Science   \n",
       "2                             Aerospace engineering    \n",
       "3                               Chemical Engineering   \n",
       "4                                   Computer Science   \n",
       "...                                              ...   \n",
       "1089                                            math   \n",
       "1090                                             ECE   \n",
       "1091                               Actuarial Science   \n",
       "1092                 Engineering or computer science   \n",
       "1093                                              CS   \n",
       "\n",
       "     Who is your favorite music artist?  \\\n",
       "0                          Taylor Swift   \n",
       "1                          Taylor Swift   \n",
       "2                         Ashley Alisha   \n",
       "3                            Billy Joel   \n",
       "4                       Imagine Dragons   \n",
       "...                                 ...   \n",
       "1089                       Talyor swift   \n",
       "1090                       Smyang Piano   \n",
       "1091                         Zach Bryan   \n",
       "1092                   Cosmos Sheldrake   \n",
       "1093            Bullet for My Valentine   \n",
       "\n",
       "     What's your favorite social media app?  \\\n",
       "0                                 Instagram   \n",
       "1                                   YouTube   \n",
       "2                                     Insta   \n",
       "3                                    Reddit   \n",
       "4                                 Instagram   \n",
       "...                                     ...   \n",
       "1089                                    ins   \n",
       "1090                              Instagram   \n",
       "1091                                tik tok   \n",
       "1092                               Pintrest   \n",
       "1093                               Bilibili   \n",
       "\n",
       "     What is your favorite game to play (either video game or IRL)?  \\\n",
       "0                                            volleyball               \n",
       "1                                              Factorio               \n",
       "2                                                   NaN               \n",
       "3                                              Terraria               \n",
       "4                                            Beat Saber               \n",
       "...                                                 ...               \n",
       "1089                                              PUBG                \n",
       "1090                                         Overcooked               \n",
       "1091                                         Card games               \n",
       "1092                                                DND               \n",
       "1093                                     Honor of Kings               \n",
       "\n",
       "     Where is your dream vacation spot?  \n",
       "0                          The Maldives  \n",
       "1                                Acadia  \n",
       "2                       Southern France  \n",
       "3                          My apartment  \n",
       "4                                 Italy  \n",
       "...                                 ...  \n",
       "1089                             Alaska  \n",
       "1090          NYC during Christmas time  \n",
       "1091                          Mountains  \n",
       "1092                              Beach  \n",
       "1093                              Japan  \n",
       "\n",
       "[1094 rows x 150 columns]"
      ]
     },
     "execution_count": 29,
     "metadata": {},
     "output_type": "execute_result"
    }
   ],
   "source": [
    "import pandas as pd\n",
    "df_hello =  pd.read_csv(\"https://waf.cs.illinois.edu/discovery/hello-fa24.csv\")\n",
    "df_hello"
   ]
  },
  {
   "cell_type": "markdown",
   "metadata": {},
   "source": [
    "### 🔬 Test Case Checkpoint 🔬"
   ]
  },
  {
   "cell_type": "code",
   "execution_count": 30,
   "metadata": {},
   "outputs": [
    {
     "name": "stdout",
     "output_type": "stream",
     "text": [
      "🎉 All tests passed! 🎉\n"
     ]
    }
   ],
   "source": [
    "## == CHECKPOINT TEST CASES ==\n",
    "# - This read-only cell contains test cases for your previous cell.\n",
    "# - If this cell runs without any errors, you PASSED 373all test cases!\n",
    "# - If this cell results in any errors, check your previous cell, make changes, and RE-RUN your code and then this cell.\n",
    "assert(\"df_hello\" in vars()), \"Make sure your DataFrame is called `df_hello`.\"\n",
    "assert(\"Are you a business major?\" in df_hello), \"This is not the Hello Dataset you're looking for. Check the URL.\"\n",
    "assert(len(df_hello) == 1094), \"This is not the Hello Dataset you're looking for. Check the URL.\"\n",
    "\n",
    "## == SUCCESS MESSAGE ==\n",
    "# You will only see this message (with the emoji showing) if you passed all test cases:\n",
    "tada = \"\\N{PARTY POPPER}\"\n",
    "print(f\"{tada} All tests passed! {tada}\")"
   ]
  },
  {
   "attachments": {},
   "cell_type": "markdown",
   "metadata": {},
   "source": [
    "## Setting Up The Test\n",
    "In 2013, [Gallup completed their latest survey on sleep](https://news.gallup.com/poll/166553/less-recommended-amount-sleep.aspx) that shows that the average amount of sleep Americans get is **6.8 hours**.  \n",
    "\n",
    "To determine whether UIUC students get significantly more or less sleep than the average American, we will treat the **FALL 2024 students in DISCOVERY** as a **random sample** of the student population at UIUC. Then, we will conduct a **one-sample z-test** to answer our question. \n",
    "\n",
    "Before we begin, we must define our hypotheses. Remember, the average amount of sleep found in Gallup's study is **6.8** hours, and we want to determine if our random sample is **significantly different** from this average. \n",
    "\n",
    "**Q1: Write your null and alternative hypothesis using the cell below.** *Hint: you may find the following symbol useful for the alternative hypothesis: $\\neq$ (double-click on this cell to copy it)*"
   ]
  },
  {
   "cell_type": "markdown",
   "metadata": {},
   "source": [
    "Null hypothesis: \n",
    "\n",
    "The average amount of sleep for UIUC students the average amount of sleep for Americans: $H_0$: $\\mu$ = 6.8.\n",
    "\n",
    "Alternative hypothesis:\n",
    "\n",
    "The average amount of sleep for UIUC students is significantly different from the average amount of sleep for Americans: $H_a$: $\\mu$ $\\neq$ 6.8."
   ]
  },
  {
   "attachments": {},
   "cell_type": "markdown",
   "metadata": {},
   "source": [
    "## Puzzle 1.1: Summary Statistics\n",
    "Now that we've defined our hypotheses, we will need to find some basic **summary statistics** about the **average hours of sleep** of students in DISCOVERY before we conduct our **z-test**. Our `df_hello` contains the average hours of sleep of students in DISCOVERY under the column named \"How many hours do you sleep in a night?\".\n",
    "\n",
    "Assign this column name to a **string variable** named `sleep_question` using the cell below:"
   ]
  },
  {
   "cell_type": "code",
   "execution_count": 31,
   "metadata": {},
   "outputs": [
    {
     "data": {
      "text/plain": [
       "'How many hours do you sleep in a night?'"
      ]
     },
     "execution_count": 31,
     "metadata": {},
     "output_type": "execute_result"
    }
   ],
   "source": [
    "sleep_question = \"How many hours do you sleep in a night?\"\n",
    "sleep_question"
   ]
  },
  {
   "cell_type": "markdown",
   "metadata": {},
   "source": [
    "Now, using `sleep_question` and your `df_hello`, find the **mean hours of sleep** of everyone in DISCOVERY, storing the result in the **variable** `sleep_mean`:"
   ]
  },
  {
   "cell_type": "code",
   "execution_count": 32,
   "metadata": {},
   "outputs": [
    {
     "data": {
      "text/plain": [
       "np.float64(7.220695970695971)"
      ]
     },
     "execution_count": 32,
     "metadata": {},
     "output_type": "execute_result"
    }
   ],
   "source": [
    "sleep_mean = df_hello[sleep_question].mean()\n",
    "sleep_mean"
   ]
  },
  {
   "cell_type": "markdown",
   "metadata": {},
   "source": [
    "Next, find the **standard deviation** of hours of sleep of everyone in DISCOVERY, storing the result in the **variable** `sleep_std`:"
   ]
  },
  {
   "cell_type": "code",
   "execution_count": 33,
   "metadata": {},
   "outputs": [
    {
     "data": {
      "text/plain": [
       "np.float64(1.108384953602899)"
      ]
     },
     "execution_count": 33,
     "metadata": {},
     "output_type": "execute_result"
    }
   ],
   "source": [
    "sleep_std = df_hello[sleep_question].std()\n",
    "sleep_std"
   ]
  },
  {
   "cell_type": "markdown",
   "metadata": {},
   "source": [
    "Finally, find the **sample size** we're using for this z-test, storing the result in the **variable** `sample_size`. \n",
    "\n",
    "There's something a little tricky about the data we have in this column. Some people haven't filled out the answer to this captivating question, causing `NaN` (empty) values to appear. Dealing with **null values** is a **common occurrence** in data science. To exclude empty values when finding the sample size, the `.count()` function will be useful, as it excludes cells with NaN values when counting columns or rows."
   ]
  },
  {
   "cell_type": "code",
   "execution_count": 34,
   "metadata": {},
   "outputs": [
    {
     "data": {
      "text/plain": [
       "np.int64(1092)"
      ]
     },
     "execution_count": 34,
     "metadata": {},
     "output_type": "execute_result"
    }
   ],
   "source": [
    "sample_size = df_hello[sleep_question].count()\n",
    "sample_size"
   ]
  },
  {
   "cell_type": "markdown",
   "metadata": {},
   "source": [
    "### 🔬 Test Case Checkpoint 🔬"
   ]
  },
  {
   "cell_type": "code",
   "execution_count": 35,
   "metadata": {},
   "outputs": [
    {
     "name": "stdout",
     "output_type": "stream",
     "text": [
      "🎉 All tests passed! 🎉\n"
     ]
    }
   ],
   "source": [
    "## == CHECKPOINT TEST CASES ==\n",
    "# - This read-only cell contains test cases for your previous cell.\n",
    "# - If this cell runs without any errors, you PASSED all test cases!\n",
    "# - If this cell results in any errors, check your previous cell, make changes, and RE-RUN your code and then this cell.\n",
    "import math\n",
    "names = ['sleep_question', 'sleep_mean', 'sleep_std', 'sample_size']\n",
    "for name in names:\n",
    "    assert(name in vars()), \"Double check that your variables are named correctly.\"\n",
    "\n",
    "assert(isinstance(sleep_question, str)), \"Make sure your `sleep_question` is a string.\"\n",
    "assert(len(sleep_question) == 39), \"Make sure the `sleep_question` contains the value of the sleep question.\"\n",
    "assert(math.isclose(df_hello[sleep_question].var(), 1.2285172053733004)),\"Double check the column question text you've defined in 'sleep_question'.\" \n",
    "assert(math.isclose(sleep_mean, 7.220695970695971)), \"Your 'sleep_mean' is incorrect.\"\n",
    "assert(math.isclose(sleep_std, 1.108384953602899)), \"Your 'sleep_std' is incorrect.\"\n",
    "assert(sample_size**2 / 8 == 149058), \"Your 'sample_size' is incorrect. Make sure you are excluding empty values when finding the sample size.\"\n",
    "\n",
    "## == SUCCESS MESSAGE ==\n",
    "# You will only see this message (with the emoji showing) if you passed all test cases:\n",
    "tada = \"\\N{PARTY POPPER}\"\n",
    "print(f\"{tada} All tests passed! {tada}\")"
   ]
  },
  {
   "cell_type": "markdown",
   "metadata": {},
   "source": [
    "## Puzzle 1.2: Finding our P-value\n",
    "Now that we've **calculated and stored** the necessary statistics, we can begin calculating the **p-value** and drawing conclusions about our hypotheses. For the purposes of this lab, we will utilize a significance level of $0.05$. \n",
    "\n",
    "Make sure to remember whether we are doing a one-tailed or two-tailed z-test when finding your p-value! "
   ]
  },
  {
   "attachments": {},
   "cell_type": "markdown",
   "metadata": {},
   "source": [
    "\n",
    "Now, calculate the **standard error** of the hours of sleep of DISCOVERY students, storing the result in the **numeric variable** `standard_error`. "
   ]
  },
  {
   "cell_type": "code",
   "execution_count": 36,
   "metadata": {},
   "outputs": [
    {
     "data": {
      "text/plain": [
       "np.float64(0.03354125453581538)"
      ]
     },
     "execution_count": 36,
     "metadata": {},
     "output_type": "execute_result"
    }
   ],
   "source": [
    "standard_error = sleep_std / (sample_size) ** 0.5\n",
    "standard_error"
   ]
  },
  {
   "attachments": {},
   "cell_type": "markdown",
   "metadata": {},
   "source": [
    "Next, **calculate our test statistic** given the `sleep_mean` and `standard_error` found above, storing the result in the **numeric variable** `z_stat`. \n",
    "\n",
    "Remember: $z = \\frac{\\bar X \\text{- EV}}{\\text{SE}}$, where $z$ is the test statistic for a z-test and your EV for this hypothesis test is **6.8** hours of sleep :)"
   ]
  },
  {
   "cell_type": "code",
   "execution_count": 37,
   "metadata": {},
   "outputs": [
    {
     "data": {
      "text/plain": [
       "np.float64(12.542642680426622)"
      ]
     },
     "execution_count": 37,
     "metadata": {},
     "output_type": "execute_result"
    }
   ],
   "source": [
    "z_stat = (sleep_mean - 6.8)/standard_error\n",
    "z_stat"
   ]
  },
  {
   "cell_type": "markdown",
   "metadata": {},
   "source": [
    "Finally, we can calculate our p-value! Find it and store our p-value in the **variable** `p_value`."
   ]
  },
  {
   "cell_type": "code",
   "execution_count": 38,
   "metadata": {},
   "outputs": [
    {
     "data": {
      "text/plain": [
       "np.float64(0.0)"
      ]
     },
     "execution_count": 38,
     "metadata": {},
     "output_type": "execute_result"
    }
   ],
   "source": [
    "from scipy.stats import norm\n",
    "p_value = 1-norm.cdf(z_stat)\n",
    "p_value"
   ]
  },
  {
   "attachments": {},
   "cell_type": "markdown",
   "metadata": {},
   "source": [
    "Remember, the p-value is the probability of getting the data we have in DISCOVERY's `df_hello` or something even more extreme **if the null were true**."
   ]
  },
  {
   "cell_type": "markdown",
   "metadata": {},
   "source": [
    "### 🔬 Test Case Checkpoint 🔬"
   ]
  },
  {
   "cell_type": "code",
   "execution_count": 39,
   "metadata": {},
   "outputs": [
    {
     "name": "stdout",
     "output_type": "stream",
     "text": [
      "🎉 All tests passed! 🎉\n"
     ]
    }
   ],
   "source": [
    "## == CHECKPOINT TEST CASES ==\n",
    "# - This read-only cell contains test cases for your previous cell.\n",
    "# - If this cell runs without any errors, you PASSED all test cases!\n",
    "# - If this cell results in any errors, check your previous cell, make changes, and RE-RUN your code and then this cell.\n",
    "names = ['standard_error', 'z_stat', 'p_value']\n",
    "for name in names:\n",
    "    assert(name in vars()), \"Double check that your variables are named correctly.\"\n",
    "\n",
    "assert(math.isclose(standard_error, 0.03354125453581538)), \"Your 'standard_error' is incorrect.\"\n",
    "assert(math.isclose(z_stat, 12.542642680426622)), \"Your 'z_stat' is incorrect.\"\n",
    "assert(math.isclose(p_value, 4.3620252844514514e-36, abs_tol=1e-08)), \"Your 'p_value' is incorrect. Try and visualize the normal distribution and the areas to the left or right of your z_stat.\"\n",
    "\n",
    "## == SUCCESS MESSAGE ==\n",
    "# You will only see this message (with the emoji showing) if you passed all test cases:\n",
    "tada = \"\\N{PARTY POPPER}\"\n",
    "print(f\"{tada} All tests passed! {tada}\")"
   ]
  },
  {
   "attachments": {},
   "cell_type": "markdown",
   "metadata": {},
   "source": [
    "### Analysis: Interpretation \n",
    "**Q2: We have now calculated the p-value for our hypothesis test. Do we reject the null hypothesis? Explain why or why not. Explain what this means in the context of our original question: Do UIUC students get significantly different sleep compared to the average American?**\n",
    "\n",
    "**Make sure you answer *both* questions.**  Remember, our significance level is $0.05$.\n",
    "\n"
   ]
  },
  {
   "cell_type": "markdown",
   "metadata": {},
   "source": [
    "Our calculated **p-value** $< 0.05$, since it is below our significance level of 0.05, we may reject the null hypothesis. This indicates that we have sufficient evidence that UIUC students do not get signifcantly different sleep compared to the average American."
   ]
  },
  {
   "attachments": {},
   "cell_type": "markdown",
   "metadata": {},
   "source": [
    "## Doing it in Python\n",
    "We had to do a significant amount of calculations by hand to find our p-value. \n",
    "\n",
    "Luckily, Python has a few **libraries** which contain **functions** that allow us to conduct our hypothesis tests without doing the calculations by hand. \n",
    "\n",
    "Before we run these hypothesis test functions, we must **install** and `import` the library they belong to. \n",
    "\n",
    "To install the `statsmodels` library, try running any one of following commands in your **terminal** until successful installation:\n",
    "- `python3 -m pip install statsmodels`\n",
    "- `py -m pip install statsmodels`\n",
    "- `pip install statsmodels`\n",
    "- `pip3 install statsmodels`\n",
    "\n",
    "\n",
    "Then, **run** the following `import` statement:"
   ]
  },
  {
   "cell_type": "code",
   "execution_count": 40,
   "metadata": {},
   "outputs": [],
   "source": [
    "from statsmodels.stats.weightstats import ztest"
   ]
  },
  {
   "attachments": {},
   "cell_type": "markdown",
   "metadata": {},
   "source": [
    "This imports the `weightstats` class from the `statsmodels.stats` library, containing the function we need to perform **z-tests** in Python.\n",
    "\n",
    "The function we will be using is `weightstats.ztest()`. This function will take **three parameters** in the following order:\n",
    "1. A `list` of sampled values, where a `df[\"column\"]` is something that can be read as a list\n",
    "2. The **expected value** of the null hypothesis, specified using `value=`\n",
    "3. The **alternative hypothesis** to the null value (either 'two-sided', 'larger', or 'smaller', specified using `alternative=`)\n",
    "\n",
    "To learn more about **z-test function**, visit: https://www.statsmodels.org/dev/generated/statsmodels.stats.weightstats.ztest.html\n"
   ]
  },
  {
   "attachments": {},
   "cell_type": "markdown",
   "metadata": {},
   "source": [
    "## Puzzle 1.3: z-test in Python\n",
    "Now, let's run the our z-test! Using the cell below, call the `ztest()` function to conduct our z-test and store the results in the variable `sleep_results`.\n",
    "\n",
    "Use your knowledge about our **type of hypothesis test** and the **national sleep average** to fill in the `...`\n",
    "- **IMPORTANT**: When doing the test, you must use `df[\"column\"].dropna()` to make sure to not include any `NaN values` since this z-test function requires that there are no missing values."
   ]
  },
  {
   "cell_type": "code",
   "execution_count": 41,
   "metadata": {},
   "outputs": [
    {
     "data": {
      "text/plain": [
       "(np.float64(12.542642680426622), np.float64(4.362025284451451e-36))"
      ]
     },
     "execution_count": 41,
     "metadata": {},
     "output_type": "execute_result"
    }
   ],
   "source": [
    "sleep_question = df_hello[sleep_question].dropna()\n",
    "sleep_results = ztest(sleep_question, value=6.8, alternative='two-sided')\n",
    "sleep_results"
   ]
  },
  {
   "cell_type": "markdown",
   "metadata": {},
   "source": [
    "If you print `sleep_results`, it should be a pair of **two values** in the form of $(z, p)$ where $z$ is the test statistic and $p$ is the `p-value`. If done correctly, these values should be **almost identical** to what you calculated by hand. "
   ]
  },
  {
   "cell_type": "markdown",
   "metadata": {},
   "source": [
    "### 🔬 Test Case Checkpoint 🔬"
   ]
  },
  {
   "cell_type": "code",
   "execution_count": 42,
   "metadata": {},
   "outputs": [
    {
     "name": "stdout",
     "output_type": "stream",
     "text": [
      "🎉 All tests passed! 🎉\n"
     ]
    }
   ],
   "source": [
    "## == CHECKPOINT TEST CASES ==\n",
    "# - This read-only cell contains test cases for your previous cell.\n",
    "# - If this cell runs without any errors, you PASSED all test cases!\n",
    "# - If this cell results in any errors, check your previous cell, make changes, and RE-RUN your code and then this cell.\n",
    "assert('sleep_results' in vars()), \"Double check your variable name for z-test result. It should be named 'sleep_results'.\"\n",
    "assert(math.isclose(sleep_results[0], 12.542642680426622)), \"The z-stat of your z-test is incorrect.\"\n",
    "assert(math.isclose(sleep_results[1], 4.3620252844514514e-36, abs_tol=1e-36)), \"The p-value of your z-test is incorrect.\"\n",
    "assert(math.isclose(sleep_results[0], z_stat)), \"Your z-stat from sleep_result should be equivalent to the 'z_stat' variable defined earlier.\"\n",
    "assert(math.isclose(sleep_results[1], p_value, abs_tol=1e-35)), \"Your p-value from sleep_result should be equivalent to the 'p-value' variable defined earlier.\"\n",
    "\n",
    "## == SUCCESS MESSAGE ==\n",
    "# You will only see this message (with the emoji showing) if you passed all test cases:\n",
    "tada = \"\\N{PARTY POPPER}\"\n",
    "print(f\"{tada} All tests passed! {tada}\")"
   ]
  },
  {
   "cell_type": "markdown",
   "metadata": {},
   "source": [
    "<hr style=\"color: #DD3403;\">"
   ]
  },
  {
   "attachments": {},
   "cell_type": "markdown",
   "metadata": {},
   "source": [
    "# Part 2: Do Night Owls Get Less Sleep?\n",
    "\n",
    "Let's do a second hypothesis test -- there's a fiery debate among course staff on if morning people or night owls get more sleep!\n",
    "\n",
    "We believe that **night owls stay up very late (but still have to get up early for classes) and will get less sleep than morning people**.\n",
    "\n",
    "To answer, we will perform a **one-sided two-sample z-test**. Two-sample z-tests compare two samples to each other and are very common in statistics!"
   ]
  },
  {
   "cell_type": "markdown",
   "metadata": {},
   "source": [
    "### Defining Our Hypotheses\n",
    "**Q3: Define the null and alternative hypotheses using the cell below.**\n"
   ]
  },
  {
   "cell_type": "markdown",
   "metadata": {},
   "source": [
    "Null hypothesis: Night owls get the same amount of sleep as morning people.\n",
    "\n",
    "$H_0$: $\\mu_{1} = \\mu_{2}$\n",
    "\n",
    "Alternative hypothesis: Night owls get less sleep than morning people.\n",
    "\n",
    "$H_a$: $\\mu_{1} < \\mu_2$"
   ]
  },
  {
   "cell_type": "markdown",
   "metadata": {},
   "source": [
    "## Puzzle 2.1: Find the Columns\n",
    "Now, let's run the our z-test! \n",
    "\n",
    "To make our code **simpler and readable**, in the next cell, create two variables for future column subselection from our `df_hello`:\n",
    "1. A **string variable** named `morning_vs_night_question`, containing the **string**: \"Are you a morning person or a night person?\"\n",
    "2. A **string variable** named `hours_of_sleep_question`, containing the **string**:  \"How many hours do you sleep in a night?\"\n"
   ]
  },
  {
   "cell_type": "code",
   "execution_count": 43,
   "metadata": {},
   "outputs": [],
   "source": [
    "morning_vs_night_question = \"Are you a morning person or a night person?\"\n",
    "hours_of_sleep_question = \"How many hours do you sleep in a night?\""
   ]
  },
  {
   "cell_type": "markdown",
   "metadata": {},
   "source": [
    "## Puzzle 2.2: Create a clean DataFrame\n",
    "\n",
    "To do a two-sample z-test, every observation used **must contain data for BOTH** questions.  To clean up the DataFrame, we will need to do two steps:\n",
    "\n",
    "1. Create a DataFrame that contains ONLY the two columns we're working with, AND\n",
    "2. Drop any observations that have missing values in either column\n",
    "\n",
    "First, create a DataFrame called `df_2columns` containing only the two columns you identified above:\n",
    "\n",
    "*(If you need to refresh your memory on how to select multiple columns from a DataFrame, see our guide: [\"Working With Columns and Series in a DataFrame\", specifically the \"Multiple Columns\" section](https://discovery.cs.illinois.edu/guides/DataFrame-Fundamentals/working-with-columns-and-series-in-dataframes/#Creating-a-DataFrame-With-a-Subset-of-Columns).)*"
   ]
  },
  {
   "cell_type": "code",
   "execution_count": null,
   "metadata": {},
   "outputs": [
    {
     "data": {
      "text/html": [
       "<div>\n",
       "<style scoped>\n",
       "    .dataframe tbody tr th:only-of-type {\n",
       "        vertical-align: middle;\n",
       "    }\n",
       "\n",
       "    .dataframe tbody tr th {\n",
       "        vertical-align: top;\n",
       "    }\n",
       "\n",
       "    .dataframe thead th {\n",
       "        text-align: right;\n",
       "    }\n",
       "</style>\n",
       "<table border=\"1\" class=\"dataframe\">\n",
       "  <thead>\n",
       "    <tr style=\"text-align: right;\">\n",
       "      <th></th>\n",
       "      <th>Are you a morning person or a night person?</th>\n",
       "      <th>How many hours do you sleep in a night?</th>\n",
       "    </tr>\n",
       "  </thead>\n",
       "  <tbody>\n",
       "    <tr>\n",
       "      <th>0</th>\n",
       "      <td>Night</td>\n",
       "      <td>6.0</td>\n",
       "    </tr>\n",
       "    <tr>\n",
       "      <th>1</th>\n",
       "      <td>Night</td>\n",
       "      <td>7.0</td>\n",
       "    </tr>\n",
       "    <tr>\n",
       "      <th>2</th>\n",
       "      <td>Morning</td>\n",
       "      <td>6.0</td>\n",
       "    </tr>\n",
       "    <tr>\n",
       "      <th>3</th>\n",
       "      <td>Night</td>\n",
       "      <td>8.0</td>\n",
       "    </tr>\n",
       "    <tr>\n",
       "      <th>4</th>\n",
       "      <td>Night</td>\n",
       "      <td>7.0</td>\n",
       "    </tr>\n",
       "    <tr>\n",
       "      <th>...</th>\n",
       "      <td>...</td>\n",
       "      <td>...</td>\n",
       "    </tr>\n",
       "    <tr>\n",
       "      <th>1089</th>\n",
       "      <td>Night</td>\n",
       "      <td>7.5</td>\n",
       "    </tr>\n",
       "    <tr>\n",
       "      <th>1090</th>\n",
       "      <td>Night</td>\n",
       "      <td>5.0</td>\n",
       "    </tr>\n",
       "    <tr>\n",
       "      <th>1091</th>\n",
       "      <td>Night</td>\n",
       "      <td>6.0</td>\n",
       "    </tr>\n",
       "    <tr>\n",
       "      <th>1092</th>\n",
       "      <td>Night</td>\n",
       "      <td>7.0</td>\n",
       "    </tr>\n",
       "    <tr>\n",
       "      <th>1093</th>\n",
       "      <td>Night</td>\n",
       "      <td>8.0</td>\n",
       "    </tr>\n",
       "  </tbody>\n",
       "</table>\n",
       "<p>1094 rows × 2 columns</p>\n",
       "</div>"
      ],
      "text/plain": [
       "     Are you a morning person or a night person?  \\\n",
       "0                                          Night   \n",
       "1                                          Night   \n",
       "2                                        Morning   \n",
       "3                                          Night   \n",
       "4                                          Night   \n",
       "...                                          ...   \n",
       "1089                                       Night   \n",
       "1090                                       Night   \n",
       "1091                                       Night   \n",
       "1092                                       Night   \n",
       "1093                                       Night   \n",
       "\n",
       "      How many hours do you sleep in a night?  \n",
       "0                                         6.0  \n",
       "1                                         7.0  \n",
       "2                                         6.0  \n",
       "3                                         8.0  \n",
       "4                                         7.0  \n",
       "...                                       ...  \n",
       "1089                                      7.5  \n",
       "1090                                      5.0  \n",
       "1091                                      6.0  \n",
       "1092                                      7.0  \n",
       "1093                                      8.0  \n",
       "\n",
       "[1094 rows x 2 columns]"
      ]
     },
     "execution_count": 44,
     "metadata": {},
     "output_type": "execute_result"
    }
   ],
   "source": [
    "df_2columns = df_hello[[morning_vs_night_question, hours_of_sleep_question]]\n",
    "df_2columns"
   ]
  },
  {
   "cell_type": "markdown",
   "metadata": {},
   "source": [
    "### Drop the Rows with Missing Data"
   ]
  },
  {
   "cell_type": "markdown",
   "metadata": {},
   "source": [
    "Create a DataFrame called `df_clean`, by taking `df_2columns` and using `.dropna()` to drop all rows with missing data:"
   ]
  },
  {
   "cell_type": "code",
   "execution_count": 49,
   "metadata": {},
   "outputs": [
    {
     "data": {
      "text/html": [
       "<div>\n",
       "<style scoped>\n",
       "    .dataframe tbody tr th:only-of-type {\n",
       "        vertical-align: middle;\n",
       "    }\n",
       "\n",
       "    .dataframe tbody tr th {\n",
       "        vertical-align: top;\n",
       "    }\n",
       "\n",
       "    .dataframe thead th {\n",
       "        text-align: right;\n",
       "    }\n",
       "</style>\n",
       "<table border=\"1\" class=\"dataframe\">\n",
       "  <thead>\n",
       "    <tr style=\"text-align: right;\">\n",
       "      <th></th>\n",
       "      <th>Are you a morning person or a night person?</th>\n",
       "      <th>How many hours do you sleep in a night?</th>\n",
       "    </tr>\n",
       "  </thead>\n",
       "  <tbody>\n",
       "    <tr>\n",
       "      <th>0</th>\n",
       "      <td>Night</td>\n",
       "      <td>6.0</td>\n",
       "    </tr>\n",
       "    <tr>\n",
       "      <th>1</th>\n",
       "      <td>Night</td>\n",
       "      <td>7.0</td>\n",
       "    </tr>\n",
       "    <tr>\n",
       "      <th>2</th>\n",
       "      <td>Morning</td>\n",
       "      <td>6.0</td>\n",
       "    </tr>\n",
       "    <tr>\n",
       "      <th>3</th>\n",
       "      <td>Night</td>\n",
       "      <td>8.0</td>\n",
       "    </tr>\n",
       "    <tr>\n",
       "      <th>4</th>\n",
       "      <td>Night</td>\n",
       "      <td>7.0</td>\n",
       "    </tr>\n",
       "    <tr>\n",
       "      <th>...</th>\n",
       "      <td>...</td>\n",
       "      <td>...</td>\n",
       "    </tr>\n",
       "    <tr>\n",
       "      <th>1089</th>\n",
       "      <td>Night</td>\n",
       "      <td>7.5</td>\n",
       "    </tr>\n",
       "    <tr>\n",
       "      <th>1090</th>\n",
       "      <td>Night</td>\n",
       "      <td>5.0</td>\n",
       "    </tr>\n",
       "    <tr>\n",
       "      <th>1091</th>\n",
       "      <td>Night</td>\n",
       "      <td>6.0</td>\n",
       "    </tr>\n",
       "    <tr>\n",
       "      <th>1092</th>\n",
       "      <td>Night</td>\n",
       "      <td>7.0</td>\n",
       "    </tr>\n",
       "    <tr>\n",
       "      <th>1093</th>\n",
       "      <td>Night</td>\n",
       "      <td>8.0</td>\n",
       "    </tr>\n",
       "  </tbody>\n",
       "</table>\n",
       "<p>1088 rows × 2 columns</p>\n",
       "</div>"
      ],
      "text/plain": [
       "     Are you a morning person or a night person?  \\\n",
       "0                                          Night   \n",
       "1                                          Night   \n",
       "2                                        Morning   \n",
       "3                                          Night   \n",
       "4                                          Night   \n",
       "...                                          ...   \n",
       "1089                                       Night   \n",
       "1090                                       Night   \n",
       "1091                                       Night   \n",
       "1092                                       Night   \n",
       "1093                                       Night   \n",
       "\n",
       "      How many hours do you sleep in a night?  \n",
       "0                                         6.0  \n",
       "1                                         7.0  \n",
       "2                                         6.0  \n",
       "3                                         8.0  \n",
       "4                                         7.0  \n",
       "...                                       ...  \n",
       "1089                                      7.5  \n",
       "1090                                      5.0  \n",
       "1091                                      6.0  \n",
       "1092                                      7.0  \n",
       "1093                                      8.0  \n",
       "\n",
       "[1088 rows x 2 columns]"
      ]
     },
     "execution_count": 49,
     "metadata": {},
     "output_type": "execute_result"
    }
   ],
   "source": [
    "df_clean = df_2columns.dropna()\n",
    "df_clean"
   ]
  },
  {
   "cell_type": "markdown",
   "metadata": {},
   "source": [
    "### 🔬 Test Case Checkpoint 🔬"
   ]
  },
  {
   "cell_type": "code",
   "execution_count": 50,
   "metadata": {},
   "outputs": [
    {
     "name": "stdout",
     "output_type": "stream",
     "text": [
      "🎉 All tests passed! 🎉\n"
     ]
    }
   ],
   "source": [
    "## == CHECKPOINT TEST CASES ==\n",
    "# - This read-only cell contains test cases for your previous cell.\n",
    "# - If this cell runs without any errors, you PASSED all test cases!\n",
    "# - If this cell results in any errors, check your previous cell, make changes, and RE-RUN your code and then this cell.\n",
    "assert('hours_of_sleep_question' in vars()), \"You must define the `hours_of_sleep_question` question.\"\n",
    "assert('morning_vs_night_question' in vars()), \"You must define the `morning_vs_night_question` question.\"\n",
    "assert('df_clean' in vars()), \"Your new DataFrame should be named df_clean.\"\n",
    "\n",
    "assert(hours_of_sleep_question in df_clean), \"Your DataFrame must contain the `hours_of_sleep_question`.\"\n",
    "assert(morning_vs_night_question in df_clean), \"Your DataFrame must contain the `morning_vs_night_question`.\"\n",
    "assert(len(df_clean.columns) == 2), \"Your DataFrame must contain only two columns.\"\n",
    "\n",
    "assert(math.isclose(df_clean[hours_of_sleep_question].std(), 1.1099151718063796)), \"Double check the column question text you've defined in 'hours_of_sleep_question'.\" \n",
    "\n",
    "assert(df_clean[hours_of_sleep_question].isnull().any() == False), \"There are still NaN values in the credits_question column.\"\n",
    "assert(df_clean[morning_vs_night_question].isnull().any() == False), \"There are still NaN values in the happiness_question column.\"\n",
    "\n",
    "assert(len(df_clean) == 1088), \"Your DataFrame should contain exactly 1088 rows after dropping data.\"\n",
    "\n",
    "## == SUCCESS MESSAGE ==\n",
    "# You will only see this message (with the emoji showing) if you passed all test cases:\n",
    "tada = \"\\N{PARTY POPPER}\"\n",
    "print(f\"{tada} All tests passed! {tada}\")"
   ]
  },
  {
   "attachments": {},
   "cell_type": "markdown",
   "metadata": {},
   "source": [
    "## Puzzle 2.3: Creating our Two Subpopulations\n",
    "\n",
    "Now that we have cleaned our columns in `df_clean`, we can continue with our z-test setup. \n",
    "\n",
    "For this, we will consider the cohort of everyone who said they were a **morning person** and everyone who said they were a **night person**.\n",
    "\n",
    "Using your `morning_vs_night_question` variable, create **two** new `DataFrames`: \n",
    "- `df_morning`, containing the rows from `df_clean` with students who are **morning people**.\n",
    "- `df_night`, containing the rows from `df_clean` with students who are **night people**."
   ]
  },
  {
   "cell_type": "code",
   "execution_count": null,
   "metadata": {},
   "outputs": [
    {
     "data": {
      "text/html": [
       "<div>\n",
       "<style scoped>\n",
       "    .dataframe tbody tr th:only-of-type {\n",
       "        vertical-align: middle;\n",
       "    }\n",
       "\n",
       "    .dataframe tbody tr th {\n",
       "        vertical-align: top;\n",
       "    }\n",
       "\n",
       "    .dataframe thead th {\n",
       "        text-align: right;\n",
       "    }\n",
       "</style>\n",
       "<table border=\"1\" class=\"dataframe\">\n",
       "  <thead>\n",
       "    <tr style=\"text-align: right;\">\n",
       "      <th></th>\n",
       "      <th>Are you a morning person or a night person?</th>\n",
       "      <th>How many hours do you sleep in a night?</th>\n",
       "    </tr>\n",
       "  </thead>\n",
       "  <tbody>\n",
       "    <tr>\n",
       "      <th>2</th>\n",
       "      <td>Morning</td>\n",
       "      <td>6.0</td>\n",
       "    </tr>\n",
       "    <tr>\n",
       "      <th>5</th>\n",
       "      <td>Morning</td>\n",
       "      <td>8.0</td>\n",
       "    </tr>\n",
       "    <tr>\n",
       "      <th>6</th>\n",
       "      <td>Morning</td>\n",
       "      <td>8.0</td>\n",
       "    </tr>\n",
       "    <tr>\n",
       "      <th>7</th>\n",
       "      <td>Morning</td>\n",
       "      <td>7.0</td>\n",
       "    </tr>\n",
       "    <tr>\n",
       "      <th>8</th>\n",
       "      <td>Morning</td>\n",
       "      <td>7.0</td>\n",
       "    </tr>\n",
       "    <tr>\n",
       "      <th>...</th>\n",
       "      <td>...</td>\n",
       "      <td>...</td>\n",
       "    </tr>\n",
       "    <tr>\n",
       "      <th>1066</th>\n",
       "      <td>Morning</td>\n",
       "      <td>7.0</td>\n",
       "    </tr>\n",
       "    <tr>\n",
       "      <th>1070</th>\n",
       "      <td>Morning</td>\n",
       "      <td>8.0</td>\n",
       "    </tr>\n",
       "    <tr>\n",
       "      <th>1072</th>\n",
       "      <td>Morning</td>\n",
       "      <td>8.0</td>\n",
       "    </tr>\n",
       "    <tr>\n",
       "      <th>1080</th>\n",
       "      <td>Morning</td>\n",
       "      <td>8.0</td>\n",
       "    </tr>\n",
       "    <tr>\n",
       "      <th>1084</th>\n",
       "      <td>Morning</td>\n",
       "      <td>7.0</td>\n",
       "    </tr>\n",
       "  </tbody>\n",
       "</table>\n",
       "<p>298 rows × 2 columns</p>\n",
       "</div>"
      ],
      "text/plain": [
       "     Are you a morning person or a night person?  \\\n",
       "2                                        Morning   \n",
       "5                                        Morning   \n",
       "6                                        Morning   \n",
       "7                                        Morning   \n",
       "8                                        Morning   \n",
       "...                                          ...   \n",
       "1066                                     Morning   \n",
       "1070                                     Morning   \n",
       "1072                                     Morning   \n",
       "1080                                     Morning   \n",
       "1084                                     Morning   \n",
       "\n",
       "      How many hours do you sleep in a night?  \n",
       "2                                         6.0  \n",
       "5                                         8.0  \n",
       "6                                         8.0  \n",
       "7                                         7.0  \n",
       "8                                         7.0  \n",
       "...                                       ...  \n",
       "1066                                      7.0  \n",
       "1070                                      8.0  \n",
       "1072                                      8.0  \n",
       "1080                                      8.0  \n",
       "1084                                      7.0  \n",
       "\n",
       "[298 rows x 2 columns]"
      ]
     },
     "execution_count": 53,
     "metadata": {},
     "output_type": "execute_result"
    }
   ],
   "source": [
    "df_morning = df_clean[df_clean[morning_vs_night_question] == \"Morning\"]\n",
    "\n",
    "df_morning"
   ]
  },
  {
   "cell_type": "code",
   "execution_count": 54,
   "metadata": {},
   "outputs": [
    {
     "data": {
      "text/html": [
       "<div>\n",
       "<style scoped>\n",
       "    .dataframe tbody tr th:only-of-type {\n",
       "        vertical-align: middle;\n",
       "    }\n",
       "\n",
       "    .dataframe tbody tr th {\n",
       "        vertical-align: top;\n",
       "    }\n",
       "\n",
       "    .dataframe thead th {\n",
       "        text-align: right;\n",
       "    }\n",
       "</style>\n",
       "<table border=\"1\" class=\"dataframe\">\n",
       "  <thead>\n",
       "    <tr style=\"text-align: right;\">\n",
       "      <th></th>\n",
       "      <th>Are you a morning person or a night person?</th>\n",
       "      <th>How many hours do you sleep in a night?</th>\n",
       "    </tr>\n",
       "  </thead>\n",
       "  <tbody>\n",
       "    <tr>\n",
       "      <th>0</th>\n",
       "      <td>Night</td>\n",
       "      <td>6.0</td>\n",
       "    </tr>\n",
       "    <tr>\n",
       "      <th>1</th>\n",
       "      <td>Night</td>\n",
       "      <td>7.0</td>\n",
       "    </tr>\n",
       "    <tr>\n",
       "      <th>3</th>\n",
       "      <td>Night</td>\n",
       "      <td>8.0</td>\n",
       "    </tr>\n",
       "    <tr>\n",
       "      <th>4</th>\n",
       "      <td>Night</td>\n",
       "      <td>7.0</td>\n",
       "    </tr>\n",
       "    <tr>\n",
       "      <th>9</th>\n",
       "      <td>Night</td>\n",
       "      <td>8.0</td>\n",
       "    </tr>\n",
       "    <tr>\n",
       "      <th>...</th>\n",
       "      <td>...</td>\n",
       "      <td>...</td>\n",
       "    </tr>\n",
       "    <tr>\n",
       "      <th>1089</th>\n",
       "      <td>Night</td>\n",
       "      <td>7.5</td>\n",
       "    </tr>\n",
       "    <tr>\n",
       "      <th>1090</th>\n",
       "      <td>Night</td>\n",
       "      <td>5.0</td>\n",
       "    </tr>\n",
       "    <tr>\n",
       "      <th>1091</th>\n",
       "      <td>Night</td>\n",
       "      <td>6.0</td>\n",
       "    </tr>\n",
       "    <tr>\n",
       "      <th>1092</th>\n",
       "      <td>Night</td>\n",
       "      <td>7.0</td>\n",
       "    </tr>\n",
       "    <tr>\n",
       "      <th>1093</th>\n",
       "      <td>Night</td>\n",
       "      <td>8.0</td>\n",
       "    </tr>\n",
       "  </tbody>\n",
       "</table>\n",
       "<p>790 rows × 2 columns</p>\n",
       "</div>"
      ],
      "text/plain": [
       "     Are you a morning person or a night person?  \\\n",
       "0                                          Night   \n",
       "1                                          Night   \n",
       "3                                          Night   \n",
       "4                                          Night   \n",
       "9                                          Night   \n",
       "...                                          ...   \n",
       "1089                                       Night   \n",
       "1090                                       Night   \n",
       "1091                                       Night   \n",
       "1092                                       Night   \n",
       "1093                                       Night   \n",
       "\n",
       "      How many hours do you sleep in a night?  \n",
       "0                                         6.0  \n",
       "1                                         7.0  \n",
       "3                                         8.0  \n",
       "4                                         7.0  \n",
       "9                                         8.0  \n",
       "...                                       ...  \n",
       "1089                                      7.5  \n",
       "1090                                      5.0  \n",
       "1091                                      6.0  \n",
       "1092                                      7.0  \n",
       "1093                                      8.0  \n",
       "\n",
       "[790 rows x 2 columns]"
      ]
     },
     "execution_count": 54,
     "metadata": {},
     "output_type": "execute_result"
    }
   ],
   "source": [
    "df_night = df_clean[df_clean[morning_vs_night_question] == \"Night\"]\n",
    "df_night"
   ]
  },
  {
   "cell_type": "code",
   "execution_count": 55,
   "metadata": {},
   "outputs": [
    {
     "name": "stdout",
     "output_type": "stream",
     "text": [
      "🎉 All tests passed! 🎉\n"
     ]
    }
   ],
   "source": [
    "## == CHECKPOINT TEST CASES ==\n",
    "# - This read-only cell contains test cases for your previous cell.\n",
    "# - If this cell runs without any errors, you PASSED all test cases!\n",
    "# - If this cell results in any errors, check your previous cell, make changes, and RE-RUN your code and then this cell.\n",
    "assert('df_morning' in vars()), \"Your new DataFrame should be named df_morning.\"\n",
    "assert('df_night' in vars()), \"Your new DataFrame should be named df_night.\"\n",
    "assert(len(df_morning) == 298), \"Double check that your bounds for df_morning is correct.\"\n",
    "assert(len(df_night) == 790), \"Double check that your bounds for df_night is correct.\"\n",
    "\n",
    "## == SUCCESS MESSAGE ==\n",
    "# You will only see this message (with the emoji showing) if you passed all test cases:\n",
    "tada = \"\\N{PARTY POPPER}\"\n",
    "print(f\"{tada} All tests passed! {tada}\")"
   ]
  },
  {
   "attachments": {},
   "cell_type": "markdown",
   "metadata": {},
   "source": [
    "## Puzzle 2.4: Conducting the Test\n",
    "Now we have the samples we need for our **two-sample z-test**.\n",
    "\n",
    "Now, let's run the our z-test! Using the cell below, call the `ztest()` function to conduct our z-test and store the results in the variable `morning_night_results`.\n",
    "\n",
    "- Hint: See the documentation on the z-test to see how to do a two sample z-test if you forgot! It's very similar to the one-sample z-tests we did in the previous puzzles!  https://www.statsmodels.org/dev/generated/statsmodels.stats.weightstats.ztest.html\n",
    "- When choosing the order of your lists and the `alternative` parameter for the `ztest()` function, know that your choice for the `alternative` parameter will be the relationship of your **first list** to your **second list**.\n",
    "\n",
    "❗ ❗ This is now on YOU as a Data Scientist ❗ ❗\n",
    "- In STAT 207, you will have no test cases, so we want to get you ready for being a data scientist without the reliance of test cases.\n",
    "- For this last piece of code, there is NO test case.\n",
    "- Instead, it's up to you to make certain your answer is reasonable (ex: verify the average value of the two datasets support your conclusion, etc).  As noted, your `alternative` parameter will differ depending on the order of your lists.\n"
   ]
  },
  {
   "cell_type": "code",
   "execution_count": null,
   "metadata": {},
   "outputs": [
    {
     "data": {
      "text/plain": [
       "(np.float64(-2.4635315914907157), np.float64(0.0068787885489767445))"
      ]
     },
     "execution_count": 60,
     "metadata": {},
     "output_type": "execute_result"
    }
   ],
   "source": [
    "morning_night_results = ztest(df_night[hours_of_sleep_question], df_morning[hours_of_sleep_question], alternative='smaller')\n",
    "morning_night_results"
   ]
  },
  {
   "attachments": {},
   "cell_type": "markdown",
   "metadata": {},
   "source": [
    "### Analysis: Interpretation \n",
    "**Q4: We have now calculated the p-value for our hypothesis test. Do we reject the null hypothesis? Why or why not? What does this mean in the context of our original statement that *\"night owls stay up very late (but still have to get up early for classes) and will get less sleep than morning people\"*.**\n",
    "\n",
    "Remember, our significance level is $0.05$.\n"
   ]
  },
  {
   "cell_type": "markdown",
   "metadata": {},
   "source": [
    "Given that we've calculated a **p-value** $=0.0069 < 0.05$, we may reject the null hypothesis. We have sufficient evidence to condlude that night owls get less sleep than morning people; they go to sleep later than morning people but still have to get up early for classes, and thus do not get more or the same sleep as morning people."
   ]
  },
  {
   "cell_type": "markdown",
   "metadata": {},
   "source": [
    "<hr style=\"color: #DD3403;\">"
   ]
  },
  {
   "cell_type": "markdown",
   "metadata": {},
   "source": [
    "## Puzzle 3: How many credit hours are DISCOVERY students taking?\n",
    "\n",
    "Let's explore another hypothesis test!\n",
    "\n",
    "One question you answered in ths Hello Survey is \"*How many credit hours are you taking?*\"  You know that the professors think that DISCOVERY students are usually in 16 credit hours, but you think students are actually in **MORE** credit hours than 16!"
   ]
  },
  {
   "cell_type": "markdown",
   "metadata": {},
   "source": [
    "### Defining Our Hypotheses\n",
    "**Q5: Define the null and alternative hypotheses using the cell below. Remember, we assume the average college student takes 16 credit hours each semester. You believe UIUC students may take *MORE*. Think about whether or not this is a one-sided or two-sided test.** "
   ]
  },
  {
   "cell_type": "markdown",
   "metadata": {},
   "source": [
    "Null hypothesis: The average number of credit hours taken by discovery students is 16 credit hours.\n",
    "\n",
    "$H_0$: $\\mu = 16$\n",
    "\n",
    "Alternative hypothesis: The average number of credit hours taken by discovery students is **more** than 16 credit hours.\n",
    "\n",
    "$H_a$: $\\mu > 16$"
   ]
  },
  {
   "cell_type": "markdown",
   "metadata": {},
   "source": [
    "## Puzzle 3.1: Find the Column \n",
    "\n",
    "Using the `credit_hours_question` provided below, access the column that contains the number of credit hours in the DataFrame.  Your answer should be a vertical list of all the responses for credit hours:"
   ]
  },
  {
   "cell_type": "code",
   "execution_count": 63,
   "metadata": {},
   "outputs": [
    {
     "data": {
      "text/plain": [
       "0        0.0\n",
       "1        NaN\n",
       "2       17.0\n",
       "3       12.0\n",
       "4       16.0\n",
       "        ... \n",
       "1089    17.0\n",
       "1090    18.0\n",
       "1091    17.0\n",
       "1092    13.0\n",
       "1093    18.0\n",
       "Name: How many credit hours are you taking?, Length: 1094, dtype: float64"
      ]
     },
     "execution_count": 63,
     "metadata": {},
     "output_type": "execute_result"
    }
   ],
   "source": [
    "# The question we asked on the Hello Survey:\n",
    "credit_hours_question = \"How many credit hours are you taking?\"\n",
    "\n",
    "# Using `credit_hours_question`, access the column that contains the number credit hours in the DataFrame:\n",
    "df_credit_hours = df_hello[credit_hours_question]\n",
    "df_credit_hours"
   ]
  },
  {
   "cell_type": "markdown",
   "metadata": {},
   "source": [
    "## Puzzle 3.2: Conducting the Hypothesis Test\n",
    "\n",
    "Now we have everything ready to conduct our **z-test**. \n",
    "\n",
    "Using the cell below, conduct the z-test to determine whether students at UIUC take **more than 16 credit hours per semester on average** and store the results in the variable `course_results`.\n",
    "\n",
    "- **Remember**, when doing the test, you'll want to use `df[\"column\"].dropna()` to make sure to not include any `NaN values` since this z-test requires that there are no missing values.\n",
    "- You will need to use the `ztest` function. You may need to refer to the documentation to find out how to specify the correct alternative parameter (https://www.statsmodels.org/dev/generated/statsmodels.stats.weightstats.ztest.html)."
   ]
  },
  {
   "cell_type": "code",
   "execution_count": 64,
   "metadata": {},
   "outputs": [
    {
     "data": {
      "text/plain": [
       "(np.float64(0.40006552505607174), np.float64(0.3445541277843334))"
      ]
     },
     "execution_count": 64,
     "metadata": {},
     "output_type": "execute_result"
    }
   ],
   "source": [
    "df_credit_hours = df_credit_hours.dropna()\n",
    "course_results =  ztest(df_credit_hours, value=16, alternative='larger')\n",
    "course_results"
   ]
  },
  {
   "cell_type": "markdown",
   "metadata": {},
   "source": [
    "### 🔬 Test Case Checkpoint 🔬"
   ]
  },
  {
   "cell_type": "code",
   "execution_count": 65,
   "metadata": {},
   "outputs": [
    {
     "name": "stdout",
     "output_type": "stream",
     "text": [
      "🎉 All tests passed! 🎉\n"
     ]
    }
   ],
   "source": [
    "## == CHECKPOINT TEST CASES ==\n",
    "# - This read-only cell contains test cases for your previous cell.\n",
    "# - If this cell runs without any errors, you PASSED all test cases!\n",
    "# - If this cell results in any errors, check your previous cell, make changes, and RE-RUN your code and then this cell.\n",
    "assert('course_results' in vars()), \"Double check your variable name for z-test result. It should be named 'course_results'.\"\n",
    "assert(math.isclose(course_results[0], 0.40006552505607174)), \"The z-stat of your z-test is incorrect.\"\n",
    "assert(math.isclose(course_results[1], 0.3445541277843334)), \"The p-value of your z-test is incorrect.\"\n",
    "\n",
    "## == SUCCESS MESSAGE ==\n",
    "# You will only see this message (with the emoji showing) if you passed all test cases:\n",
    "tada = \"\\N{PARTY POPPER}\"\n",
    "print(f\"{tada} All tests passed! {tada}\")"
   ]
  },
  {
   "cell_type": "markdown",
   "metadata": {},
   "source": [
    "### Analysis: Interpretation \n",
    "**Q6: We have now calculated the p-value for our hypothesis test. Do we reject the null hypothesis? Explain why or why not. Make sure to explain what this means in the context of our original question. Make sure you answer *all* parts of this question.** \n",
    "\n",
    "Remember, our significance level is $0.05$.\n",
    "\n"
   ]
  },
  {
   "cell_type": "markdown",
   "metadata": {},
   "source": [
    "z-stat: 0.40006552505607174\n",
    "\n",
    "p-value: 0.3445541277843334\n",
    "\n",
    "Since the p-value $=0.344 > 0.05$, we fail to reject the null hypothesis. We do not have enough evidence to conclude that the average amount of credit hours discovery students take is more than 16 hours.."
   ]
  },
  {
   "cell_type": "markdown",
   "metadata": {},
   "source": [
    "<hr style=\"color: #DD3403;\">"
   ]
  },
  {
   "cell_type": "markdown",
   "metadata": {},
   "source": [
    "# Submission\n",
    "\n",
    "You're almost done!  All you need to do is to commit your lab to GitHub:\n",
    "\n",
    "1.  ⚠️ **Make certain to save your work.** ⚠️ To do this, go to **File => Save All**\n",
    "\n",
    "2.  After you have saved, exit this notebook and follow the Canvas instructions to commit this lab to your Git repository!\n",
    "\n",
    "3. Your TA will grade your submission and provide you feedback after the lab is due. :)"
   ]
  }
 ],
 "metadata": {
  "kernelspec": {
   "display_name": "Python 3",
   "language": "python",
   "name": "python3"
  },
  "language_info": {
   "codemirror_mode": {
    "name": "ipython",
    "version": 3
   },
   "file_extension": ".py",
   "mimetype": "text/x-python",
   "name": "python",
   "nbconvert_exporter": "python",
   "pygments_lexer": "ipython3",
   "version": "3.9.6"
  }
 },
 "nbformat": 4,
 "nbformat_minor": 2
}

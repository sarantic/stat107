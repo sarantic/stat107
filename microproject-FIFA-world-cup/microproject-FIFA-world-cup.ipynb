{
 "cells": [
  {
   "attachments": {},
   "cell_type": "markdown",
   "metadata": {},
   "source": [
    "<h1 style=\"text-align: center\">\n",
    "<div style=\"color: #DD3403; font-size: 60%\">Data Science DISCOVERY MicroProject</div>\n",
    "<span style=\"\">MicroProject: FIFA World Cup</span>\n",
    "<div style=\"font-size: 60%;\"><a href=\"https://discovery.cs.illinois.edu/microproject/fifa-world-cup/\">https://discovery.cs.illinois.edu/microproject/fifa-world-cup/</a></div>\n",
    "</h1>\n",
    "\n",
    "<hr style=\"color: #DD3403;\">"
   ]
  },
  {
   "attachments": {},
   "cell_type": "markdown",
   "metadata": {},
   "source": [
    "## Data Source: International Soccer Match Data via GitHub\n",
    "\n",
    "\n",
    "The FIFA World Cup is a global football (soccer) competition contested by the senior men's national teams which occurs every 4 years. It is likely the most popular sporting event in the world, drawing billions of television viewers every tournament.\n",
    "\n",
    "This dataset includes over 45,000 results of international football matches starting from the very first official match in 1872. The matches range from FIFA World Cup to regular friendly matches. The matches are strictly men's full internationals and the data does not include Olympic Games or matches where at least one of the teams was the nation's B-team, U-23 or a league select team.\n",
    "\n",
    "You can view their Match Data GitHub repository here: [https://github.com/martj42/international_results](https://github.com/martj42/international_results).  You can find all the match results by navigating into the repository:\n",
    "\n",
    "- Click **results.csv**\n",
    "- Click the **View Raw** button to above the file contents to navigate to the raw CSV version of the file (without the GitHub interface)\n",
    "- Use the URL of the **raw data as your dataset** for this MicroProject.\n",
    "\n",
    "Use panda's `read_csv` function to read the dataset you found and create a DataFrame called `df` and drop all rows containing a NaN value:\n",
    "\n",
    "*Note: to learn more about the columns in the imported DataFrame navigate the the github page and read the README.md file.*"
   ]
  },
  {
   "cell_type": "code",
   "execution_count": 2,
   "metadata": {},
   "outputs": [
    {
     "data": {
      "text/html": [
       "<div>\n",
       "<style scoped>\n",
       "    .dataframe tbody tr th:only-of-type {\n",
       "        vertical-align: middle;\n",
       "    }\n",
       "\n",
       "    .dataframe tbody tr th {\n",
       "        vertical-align: top;\n",
       "    }\n",
       "\n",
       "    .dataframe thead th {\n",
       "        text-align: right;\n",
       "    }\n",
       "</style>\n",
       "<table border=\"1\" class=\"dataframe\">\n",
       "  <thead>\n",
       "    <tr style=\"text-align: right;\">\n",
       "      <th></th>\n",
       "      <th>date</th>\n",
       "      <th>home_team</th>\n",
       "      <th>away_team</th>\n",
       "      <th>home_score</th>\n",
       "      <th>away_score</th>\n",
       "      <th>tournament</th>\n",
       "      <th>city</th>\n",
       "      <th>country</th>\n",
       "      <th>neutral</th>\n",
       "    </tr>\n",
       "  </thead>\n",
       "  <tbody>\n",
       "    <tr>\n",
       "      <th>0</th>\n",
       "      <td>1872-11-30</td>\n",
       "      <td>Scotland</td>\n",
       "      <td>England</td>\n",
       "      <td>0</td>\n",
       "      <td>0</td>\n",
       "      <td>Friendly</td>\n",
       "      <td>Glasgow</td>\n",
       "      <td>Scotland</td>\n",
       "      <td>False</td>\n",
       "    </tr>\n",
       "    <tr>\n",
       "      <th>1</th>\n",
       "      <td>1873-03-08</td>\n",
       "      <td>England</td>\n",
       "      <td>Scotland</td>\n",
       "      <td>4</td>\n",
       "      <td>2</td>\n",
       "      <td>Friendly</td>\n",
       "      <td>London</td>\n",
       "      <td>England</td>\n",
       "      <td>False</td>\n",
       "    </tr>\n",
       "    <tr>\n",
       "      <th>2</th>\n",
       "      <td>1874-03-07</td>\n",
       "      <td>Scotland</td>\n",
       "      <td>England</td>\n",
       "      <td>2</td>\n",
       "      <td>1</td>\n",
       "      <td>Friendly</td>\n",
       "      <td>Glasgow</td>\n",
       "      <td>Scotland</td>\n",
       "      <td>False</td>\n",
       "    </tr>\n",
       "    <tr>\n",
       "      <th>3</th>\n",
       "      <td>1875-03-06</td>\n",
       "      <td>England</td>\n",
       "      <td>Scotland</td>\n",
       "      <td>2</td>\n",
       "      <td>2</td>\n",
       "      <td>Friendly</td>\n",
       "      <td>London</td>\n",
       "      <td>England</td>\n",
       "      <td>False</td>\n",
       "    </tr>\n",
       "    <tr>\n",
       "      <th>4</th>\n",
       "      <td>1876-03-04</td>\n",
       "      <td>Scotland</td>\n",
       "      <td>England</td>\n",
       "      <td>3</td>\n",
       "      <td>0</td>\n",
       "      <td>Friendly</td>\n",
       "      <td>Glasgow</td>\n",
       "      <td>Scotland</td>\n",
       "      <td>False</td>\n",
       "    </tr>\n",
       "    <tr>\n",
       "      <th>...</th>\n",
       "      <td>...</td>\n",
       "      <td>...</td>\n",
       "      <td>...</td>\n",
       "      <td>...</td>\n",
       "      <td>...</td>\n",
       "      <td>...</td>\n",
       "      <td>...</td>\n",
       "      <td>...</td>\n",
       "      <td>...</td>\n",
       "    </tr>\n",
       "    <tr>\n",
       "      <th>47593</th>\n",
       "      <td>2024-09-10</td>\n",
       "      <td>Kuwait</td>\n",
       "      <td>Iraq</td>\n",
       "      <td>0</td>\n",
       "      <td>0</td>\n",
       "      <td>FIFA World Cup qualification</td>\n",
       "      <td>Kuwait City</td>\n",
       "      <td>Kuwait</td>\n",
       "      <td>False</td>\n",
       "    </tr>\n",
       "    <tr>\n",
       "      <th>47594</th>\n",
       "      <td>2024-09-10</td>\n",
       "      <td>Palestine</td>\n",
       "      <td>Jordan</td>\n",
       "      <td>1</td>\n",
       "      <td>3</td>\n",
       "      <td>FIFA World Cup qualification</td>\n",
       "      <td>Kuala Lumpur</td>\n",
       "      <td>Malaysia</td>\n",
       "      <td>True</td>\n",
       "    </tr>\n",
       "    <tr>\n",
       "      <th>47595</th>\n",
       "      <td>2024-09-10</td>\n",
       "      <td>Bahrain</td>\n",
       "      <td>Japan</td>\n",
       "      <td>0</td>\n",
       "      <td>5</td>\n",
       "      <td>FIFA World Cup qualification</td>\n",
       "      <td>Riffa</td>\n",
       "      <td>Bahrain</td>\n",
       "      <td>False</td>\n",
       "    </tr>\n",
       "    <tr>\n",
       "      <th>47596</th>\n",
       "      <td>2024-09-10</td>\n",
       "      <td>Indonesia</td>\n",
       "      <td>Australia</td>\n",
       "      <td>0</td>\n",
       "      <td>0</td>\n",
       "      <td>FIFA World Cup qualification</td>\n",
       "      <td>Jakarta</td>\n",
       "      <td>Indonesia</td>\n",
       "      <td>False</td>\n",
       "    </tr>\n",
       "    <tr>\n",
       "      <th>47597</th>\n",
       "      <td>2024-09-10</td>\n",
       "      <td>China PR</td>\n",
       "      <td>Saudi Arabia</td>\n",
       "      <td>1</td>\n",
       "      <td>2</td>\n",
       "      <td>FIFA World Cup qualification</td>\n",
       "      <td>Dalian</td>\n",
       "      <td>China PR</td>\n",
       "      <td>False</td>\n",
       "    </tr>\n",
       "  </tbody>\n",
       "</table>\n",
       "<p>47598 rows × 9 columns</p>\n",
       "</div>"
      ],
      "text/plain": [
       "             date  home_team     away_team  home_score  away_score  \\\n",
       "0      1872-11-30   Scotland       England           0           0   \n",
       "1      1873-03-08    England      Scotland           4           2   \n",
       "2      1874-03-07   Scotland       England           2           1   \n",
       "3      1875-03-06    England      Scotland           2           2   \n",
       "4      1876-03-04   Scotland       England           3           0   \n",
       "...           ...        ...           ...         ...         ...   \n",
       "47593  2024-09-10     Kuwait          Iraq           0           0   \n",
       "47594  2024-09-10  Palestine        Jordan           1           3   \n",
       "47595  2024-09-10    Bahrain         Japan           0           5   \n",
       "47596  2024-09-10  Indonesia     Australia           0           0   \n",
       "47597  2024-09-10   China PR  Saudi Arabia           1           2   \n",
       "\n",
       "                         tournament          city    country  neutral  \n",
       "0                          Friendly       Glasgow   Scotland    False  \n",
       "1                          Friendly        London    England    False  \n",
       "2                          Friendly       Glasgow   Scotland    False  \n",
       "3                          Friendly        London    England    False  \n",
       "4                          Friendly       Glasgow   Scotland    False  \n",
       "...                             ...           ...        ...      ...  \n",
       "47593  FIFA World Cup qualification   Kuwait City     Kuwait    False  \n",
       "47594  FIFA World Cup qualification  Kuala Lumpur   Malaysia     True  \n",
       "47595  FIFA World Cup qualification         Riffa    Bahrain    False  \n",
       "47596  FIFA World Cup qualification       Jakarta  Indonesia    False  \n",
       "47597  FIFA World Cup qualification        Dalian   China PR    False  \n",
       "\n",
       "[47598 rows x 9 columns]"
      ]
     },
     "execution_count": 2,
     "metadata": {},
     "output_type": "execute_result"
    }
   ],
   "source": [
    "import pandas as pd\n",
    "df = pd.read_csv(\"https://raw.githubusercontent.com/martj42/international_results/refs/heads/master/results.csv\")\n",
    "df"
   ]
  },
  {
   "attachments": {},
   "cell_type": "markdown",
   "metadata": {},
   "source": [
    "Remove all rows containing `NaN` by using `df.dropna()` and save this data frame as `df`:"
   ]
  },
  {
   "cell_type": "code",
   "execution_count": 4,
   "metadata": {},
   "outputs": [
    {
     "data": {
      "text/html": [
       "<div>\n",
       "<style scoped>\n",
       "    .dataframe tbody tr th:only-of-type {\n",
       "        vertical-align: middle;\n",
       "    }\n",
       "\n",
       "    .dataframe tbody tr th {\n",
       "        vertical-align: top;\n",
       "    }\n",
       "\n",
       "    .dataframe thead th {\n",
       "        text-align: right;\n",
       "    }\n",
       "</style>\n",
       "<table border=\"1\" class=\"dataframe\">\n",
       "  <thead>\n",
       "    <tr style=\"text-align: right;\">\n",
       "      <th></th>\n",
       "      <th>date</th>\n",
       "      <th>home_team</th>\n",
       "      <th>away_team</th>\n",
       "      <th>home_score</th>\n",
       "      <th>away_score</th>\n",
       "      <th>tournament</th>\n",
       "      <th>city</th>\n",
       "      <th>country</th>\n",
       "      <th>neutral</th>\n",
       "    </tr>\n",
       "  </thead>\n",
       "  <tbody>\n",
       "    <tr>\n",
       "      <th>0</th>\n",
       "      <td>1872-11-30</td>\n",
       "      <td>Scotland</td>\n",
       "      <td>England</td>\n",
       "      <td>0</td>\n",
       "      <td>0</td>\n",
       "      <td>Friendly</td>\n",
       "      <td>Glasgow</td>\n",
       "      <td>Scotland</td>\n",
       "      <td>False</td>\n",
       "    </tr>\n",
       "    <tr>\n",
       "      <th>1</th>\n",
       "      <td>1873-03-08</td>\n",
       "      <td>England</td>\n",
       "      <td>Scotland</td>\n",
       "      <td>4</td>\n",
       "      <td>2</td>\n",
       "      <td>Friendly</td>\n",
       "      <td>London</td>\n",
       "      <td>England</td>\n",
       "      <td>False</td>\n",
       "    </tr>\n",
       "    <tr>\n",
       "      <th>2</th>\n",
       "      <td>1874-03-07</td>\n",
       "      <td>Scotland</td>\n",
       "      <td>England</td>\n",
       "      <td>2</td>\n",
       "      <td>1</td>\n",
       "      <td>Friendly</td>\n",
       "      <td>Glasgow</td>\n",
       "      <td>Scotland</td>\n",
       "      <td>False</td>\n",
       "    </tr>\n",
       "    <tr>\n",
       "      <th>3</th>\n",
       "      <td>1875-03-06</td>\n",
       "      <td>England</td>\n",
       "      <td>Scotland</td>\n",
       "      <td>2</td>\n",
       "      <td>2</td>\n",
       "      <td>Friendly</td>\n",
       "      <td>London</td>\n",
       "      <td>England</td>\n",
       "      <td>False</td>\n",
       "    </tr>\n",
       "    <tr>\n",
       "      <th>4</th>\n",
       "      <td>1876-03-04</td>\n",
       "      <td>Scotland</td>\n",
       "      <td>England</td>\n",
       "      <td>3</td>\n",
       "      <td>0</td>\n",
       "      <td>Friendly</td>\n",
       "      <td>Glasgow</td>\n",
       "      <td>Scotland</td>\n",
       "      <td>False</td>\n",
       "    </tr>\n",
       "    <tr>\n",
       "      <th>...</th>\n",
       "      <td>...</td>\n",
       "      <td>...</td>\n",
       "      <td>...</td>\n",
       "      <td>...</td>\n",
       "      <td>...</td>\n",
       "      <td>...</td>\n",
       "      <td>...</td>\n",
       "      <td>...</td>\n",
       "      <td>...</td>\n",
       "    </tr>\n",
       "    <tr>\n",
       "      <th>47593</th>\n",
       "      <td>2024-09-10</td>\n",
       "      <td>Kuwait</td>\n",
       "      <td>Iraq</td>\n",
       "      <td>0</td>\n",
       "      <td>0</td>\n",
       "      <td>FIFA World Cup qualification</td>\n",
       "      <td>Kuwait City</td>\n",
       "      <td>Kuwait</td>\n",
       "      <td>False</td>\n",
       "    </tr>\n",
       "    <tr>\n",
       "      <th>47594</th>\n",
       "      <td>2024-09-10</td>\n",
       "      <td>Palestine</td>\n",
       "      <td>Jordan</td>\n",
       "      <td>1</td>\n",
       "      <td>3</td>\n",
       "      <td>FIFA World Cup qualification</td>\n",
       "      <td>Kuala Lumpur</td>\n",
       "      <td>Malaysia</td>\n",
       "      <td>True</td>\n",
       "    </tr>\n",
       "    <tr>\n",
       "      <th>47595</th>\n",
       "      <td>2024-09-10</td>\n",
       "      <td>Bahrain</td>\n",
       "      <td>Japan</td>\n",
       "      <td>0</td>\n",
       "      <td>5</td>\n",
       "      <td>FIFA World Cup qualification</td>\n",
       "      <td>Riffa</td>\n",
       "      <td>Bahrain</td>\n",
       "      <td>False</td>\n",
       "    </tr>\n",
       "    <tr>\n",
       "      <th>47596</th>\n",
       "      <td>2024-09-10</td>\n",
       "      <td>Indonesia</td>\n",
       "      <td>Australia</td>\n",
       "      <td>0</td>\n",
       "      <td>0</td>\n",
       "      <td>FIFA World Cup qualification</td>\n",
       "      <td>Jakarta</td>\n",
       "      <td>Indonesia</td>\n",
       "      <td>False</td>\n",
       "    </tr>\n",
       "    <tr>\n",
       "      <th>47597</th>\n",
       "      <td>2024-09-10</td>\n",
       "      <td>China PR</td>\n",
       "      <td>Saudi Arabia</td>\n",
       "      <td>1</td>\n",
       "      <td>2</td>\n",
       "      <td>FIFA World Cup qualification</td>\n",
       "      <td>Dalian</td>\n",
       "      <td>China PR</td>\n",
       "      <td>False</td>\n",
       "    </tr>\n",
       "  </tbody>\n",
       "</table>\n",
       "<p>47598 rows × 9 columns</p>\n",
       "</div>"
      ],
      "text/plain": [
       "             date  home_team     away_team  home_score  away_score  \\\n",
       "0      1872-11-30   Scotland       England           0           0   \n",
       "1      1873-03-08    England      Scotland           4           2   \n",
       "2      1874-03-07   Scotland       England           2           1   \n",
       "3      1875-03-06    England      Scotland           2           2   \n",
       "4      1876-03-04   Scotland       England           3           0   \n",
       "...           ...        ...           ...         ...         ...   \n",
       "47593  2024-09-10     Kuwait          Iraq           0           0   \n",
       "47594  2024-09-10  Palestine        Jordan           1           3   \n",
       "47595  2024-09-10    Bahrain         Japan           0           5   \n",
       "47596  2024-09-10  Indonesia     Australia           0           0   \n",
       "47597  2024-09-10   China PR  Saudi Arabia           1           2   \n",
       "\n",
       "                         tournament          city    country  neutral  \n",
       "0                          Friendly       Glasgow   Scotland    False  \n",
       "1                          Friendly        London    England    False  \n",
       "2                          Friendly       Glasgow   Scotland    False  \n",
       "3                          Friendly        London    England    False  \n",
       "4                          Friendly       Glasgow   Scotland    False  \n",
       "...                             ...           ...        ...      ...  \n",
       "47593  FIFA World Cup qualification   Kuwait City     Kuwait    False  \n",
       "47594  FIFA World Cup qualification  Kuala Lumpur   Malaysia     True  \n",
       "47595  FIFA World Cup qualification         Riffa    Bahrain    False  \n",
       "47596  FIFA World Cup qualification       Jakarta  Indonesia    False  \n",
       "47597  FIFA World Cup qualification        Dalian   China PR    False  \n",
       "\n",
       "[47598 rows x 9 columns]"
      ]
     },
     "execution_count": 4,
     "metadata": {},
     "output_type": "execute_result"
    }
   ],
   "source": [
    "df = df.dropna()\n",
    "df"
   ]
  },
  {
   "attachments": {},
   "cell_type": "markdown",
   "metadata": {},
   "source": [
    "### 🔬 Checkpoint Tests 🔬"
   ]
  },
  {
   "cell_type": "code",
   "execution_count": 5,
   "metadata": {},
   "outputs": [
    {
     "name": "stdout",
     "output_type": "stream",
     "text": [
      "🎉 All Tests Passed! 🎉\n"
     ]
    }
   ],
   "source": [
    "### TEST CASE for Data Import\n",
    "# - This read-only cell contains a \"checkpoint\" for this section of the MicroProejct and verifies you are on the right track.\n",
    "# - If this cell results in a celebration message, you PASSED all test cases!\n",
    "# - If this cell results in any errors, check you previous cells, make changes, and RE-RUN your code and then this cell.\n",
    "\n",
    "tada = \"\\N{PARTY POPPER}\"\n",
    "\n",
    "assert(\"df\" in vars())\n",
    "assert(df.isna().sum().sum() == 0)\n",
    "assert(\"home_team\" in df)\n",
    "print(f\"{tada} All Tests Passed! {tada}\") "
   ]
  },
  {
   "attachments": {},
   "cell_type": "markdown",
   "metadata": {},
   "source": [
    "<hr style=\"color: #DD3403;\">"
   ]
  },
  {
   "attachments": {},
   "cell_type": "markdown",
   "metadata": {},
   "source": [
    "## Part 1: EDA\n",
    "\n",
    "The DataFrame currently has data about every match played, but it's often useful to view aggregated information about each country.\n",
    "\n",
    "Create a summary of in a new DataFrame, `df_home_goals`, that has the total goals **that each nation has scored** at home in descending order.  Specifically, your `df_home_goals` should:\n",
    "- Aggregate all of the rows with the same `home_team` together (ex: all the Brazil rows should be combined),\n",
    "- Find the **total number of home goals** across all of the games each `home_team` has played\n",
    "- Sort the DataFrame by the number of home goals in **descending order**, and\n",
    "- Remove all other columns except `home_team` and `home_score` from the final DataFrame so that `df_home_goals` has only those two columns.\n",
    "\n",
    "*(See the DISCOVERY lecture [\"Grouping Data in Python\"](https://discovery.cs.illinois.edu/learn/Exploratory-Data-Analysis/Grouping-Data-in-Python/) for a refresher on how to group data.)*"
   ]
  },
  {
   "cell_type": "code",
   "execution_count": 22,
   "metadata": {},
   "outputs": [
    {
     "data": {
      "text/html": [
       "<div>\n",
       "<style scoped>\n",
       "    .dataframe tbody tr th:only-of-type {\n",
       "        vertical-align: middle;\n",
       "    }\n",
       "\n",
       "    .dataframe tbody tr th {\n",
       "        vertical-align: top;\n",
       "    }\n",
       "\n",
       "    .dataframe thead th {\n",
       "        text-align: right;\n",
       "    }\n",
       "</style>\n",
       "<table border=\"1\" class=\"dataframe\">\n",
       "  <thead>\n",
       "    <tr style=\"text-align: right;\">\n",
       "      <th></th>\n",
       "      <th>home_team</th>\n",
       "      <th>home_score</th>\n",
       "    </tr>\n",
       "  </thead>\n",
       "  <tbody>\n",
       "    <tr>\n",
       "      <th>37</th>\n",
       "      <td>Brazil</td>\n",
       "      <td>1484</td>\n",
       "    </tr>\n",
       "    <tr>\n",
       "      <th>108</th>\n",
       "      <td>Germany</td>\n",
       "      <td>1337</td>\n",
       "    </tr>\n",
       "    <tr>\n",
       "      <th>12</th>\n",
       "      <td>Argentina</td>\n",
       "      <td>1321</td>\n",
       "    </tr>\n",
       "    <tr>\n",
       "      <th>88</th>\n",
       "      <td>England</td>\n",
       "      <td>1230</td>\n",
       "    </tr>\n",
       "    <tr>\n",
       "      <th>274</th>\n",
       "      <td>Sweden</td>\n",
       "      <td>1207</td>\n",
       "    </tr>\n",
       "    <tr>\n",
       "      <th>...</th>\n",
       "      <td>...</td>\n",
       "      <td>...</td>\n",
       "    </tr>\n",
       "    <tr>\n",
       "      <th>247</th>\n",
       "      <td>Sark</td>\n",
       "      <td>0</td>\n",
       "    </tr>\n",
       "    <tr>\n",
       "      <th>199</th>\n",
       "      <td>Niue</td>\n",
       "      <td>0</td>\n",
       "    </tr>\n",
       "    <tr>\n",
       "      <th>82</th>\n",
       "      <td>East Timor</td>\n",
       "      <td>0</td>\n",
       "    </tr>\n",
       "    <tr>\n",
       "      <th>75</th>\n",
       "      <td>Darfur</td>\n",
       "      <td>0</td>\n",
       "    </tr>\n",
       "    <tr>\n",
       "      <th>173</th>\n",
       "      <td>Manchukuo</td>\n",
       "      <td>0</td>\n",
       "    </tr>\n",
       "  </tbody>\n",
       "</table>\n",
       "<p>327 rows × 2 columns</p>\n",
       "</div>"
      ],
      "text/plain": [
       "      home_team  home_score\n",
       "37       Brazil        1484\n",
       "108     Germany        1337\n",
       "12    Argentina        1321\n",
       "88      England        1230\n",
       "274      Sweden        1207\n",
       "..          ...         ...\n",
       "247        Sark           0\n",
       "199        Niue           0\n",
       "82   East Timor           0\n",
       "75       Darfur           0\n",
       "173   Manchukuo           0\n",
       "\n",
       "[327 rows x 2 columns]"
      ]
     },
     "execution_count": 22,
     "metadata": {},
     "output_type": "execute_result"
    }
   ],
   "source": [
    "df_home_goals = df.groupby(\"home_team\")[\"home_score\"].sum().reset_index()\n",
    "df_home_goals = df_home_goals[['home_team', 'home_score']]\n",
    "df_home_goals = df_home_goals.sort_values('home_score', ascending=False)\n",
    "df_home_goals"
   ]
  },
  {
   "attachments": {},
   "cell_type": "markdown",
   "metadata": {},
   "source": [
    "### Away Team and Away Goals\n",
    "\n",
    "How about for away_goals?  Do the same thing, but for `away_team` and `away_score`.  Call this DataFrame `df_away_goals`:"
   ]
  },
  {
   "cell_type": "code",
   "execution_count": 23,
   "metadata": {},
   "outputs": [
    {
     "data": {
      "text/html": [
       "<div>\n",
       "<style scoped>\n",
       "    .dataframe tbody tr th:only-of-type {\n",
       "        vertical-align: middle;\n",
       "    }\n",
       "\n",
       "    .dataframe tbody tr th {\n",
       "        vertical-align: top;\n",
       "    }\n",
       "\n",
       "    .dataframe thead th {\n",
       "        text-align: right;\n",
       "    }\n",
       "</style>\n",
       "<table border=\"1\" class=\"dataframe\">\n",
       "  <thead>\n",
       "    <tr style=\"text-align: right;\">\n",
       "      <th></th>\n",
       "      <th>away_team</th>\n",
       "      <th>away_score</th>\n",
       "    </tr>\n",
       "  </thead>\n",
       "  <tbody>\n",
       "    <tr>\n",
       "      <th>89</th>\n",
       "      <td>England</td>\n",
       "      <td>1108</td>\n",
       "    </tr>\n",
       "    <tr>\n",
       "      <th>109</th>\n",
       "      <td>Germany</td>\n",
       "      <td>920</td>\n",
       "    </tr>\n",
       "    <tr>\n",
       "      <th>268</th>\n",
       "      <td>Sweden</td>\n",
       "      <td>910</td>\n",
       "    </tr>\n",
       "    <tr>\n",
       "      <th>129</th>\n",
       "      <td>Hungary</td>\n",
       "      <td>866</td>\n",
       "    </tr>\n",
       "    <tr>\n",
       "      <th>298</th>\n",
       "      <td>Uruguay</td>\n",
       "      <td>825</td>\n",
       "    </tr>\n",
       "    <tr>\n",
       "      <th>...</th>\n",
       "      <td>...</td>\n",
       "      <td>...</td>\n",
       "    </tr>\n",
       "    <tr>\n",
       "      <th>84</th>\n",
       "      <td>East Timor</td>\n",
       "      <td>0</td>\n",
       "    </tr>\n",
       "    <tr>\n",
       "      <th>242</th>\n",
       "      <td>Sark</td>\n",
       "      <td>0</td>\n",
       "    </tr>\n",
       "    <tr>\n",
       "      <th>215</th>\n",
       "      <td>Parishes of Jersey</td>\n",
       "      <td>0</td>\n",
       "    </tr>\n",
       "    <tr>\n",
       "      <th>25</th>\n",
       "      <td>Barawa</td>\n",
       "      <td>0</td>\n",
       "    </tr>\n",
       "    <tr>\n",
       "      <th>62</th>\n",
       "      <td>Cilento</td>\n",
       "      <td>0</td>\n",
       "    </tr>\n",
       "  </tbody>\n",
       "</table>\n",
       "<p>321 rows × 2 columns</p>\n",
       "</div>"
      ],
      "text/plain": [
       "              away_team  away_score\n",
       "89              England        1108\n",
       "109             Germany         920\n",
       "268              Sweden         910\n",
       "129             Hungary         866\n",
       "298             Uruguay         825\n",
       "..                  ...         ...\n",
       "84           East Timor           0\n",
       "242                Sark           0\n",
       "215  Parishes of Jersey           0\n",
       "25               Barawa           0\n",
       "62              Cilento           0\n",
       "\n",
       "[321 rows x 2 columns]"
      ]
     },
     "execution_count": 23,
     "metadata": {},
     "output_type": "execute_result"
    }
   ],
   "source": [
    "\n",
    "df_away_goals = df.groupby(\"away_team\")[\"away_score\"].sum().reset_index()\n",
    "df_away_goals = df_away_goals[['away_team', 'away_score']]\n",
    "df_away_goals = df_away_goals.sort_values('away_score', ascending=False)\n",
    "df_away_goals"
   ]
  },
  {
   "attachments": {},
   "cell_type": "markdown",
   "metadata": {},
   "source": [
    "### 🔬 Checkpoint Tests 🔬"
   ]
  },
  {
   "cell_type": "code",
   "execution_count": 24,
   "metadata": {},
   "outputs": [
    {
     "name": "stdout",
     "output_type": "stream",
     "text": [
      "🎉 All Tests Passed! 🎉\n"
     ]
    }
   ],
   "source": [
    "### TEST CASE for Part 1: EDA\n",
    "tada = \"\\N{PARTY POPPER}\"\n",
    "\n",
    "assert(\"df_home_goals\" in vars())\n",
    "assert(\"df_away_goals\" in vars())\n",
    "\n",
    "assert(len(df_home_goals.columns) == 2)\n",
    "assert(\"home_score\" in df_home_goals)\n",
    "assert(\"home_team\" in df_home_goals)\n",
    "\n",
    "assert(len(df_away_goals.columns) == 2)\n",
    "assert(\"away_score\" in df_away_goals)\n",
    "assert(\"away_team\" in df_away_goals)\n",
    "\n",
    "assert(df_home_goals.iloc[20][\"home_score\"] < df_home_goals.iloc[0][\"home_score\"]), \"Make sure to sort the dataframe\"\n",
    "assert(df_home_goals.iloc[56][\"home_score\"] < df_home_goals.iloc[0][\"home_score\"])\n",
    "assert(df_home_goals.iloc[56][\"home_score\"] < df_home_goals.iloc[20][\"home_score\"])\n",
    "\n",
    "assert(df_away_goals.iloc[20][\"away_score\"] < df_away_goals.iloc[0][\"away_score\"]), \"Make sure to sort the dataframe\"\n",
    "assert(df_away_goals.iloc[56][\"away_score\"] < df_away_goals.iloc[0][\"away_score\"])\n",
    "assert(df_away_goals.iloc[56][\"away_score\"] < df_away_goals.iloc[20][\"away_score\"])\n",
    "\n",
    "\n",
    "print(f\"{tada} All Tests Passed! {tada}\") "
   ]
  },
  {
   "attachments": {},
   "cell_type": "markdown",
   "metadata": {},
   "source": [
    "<hr style=\"color: #DD3403;\">"
   ]
  },
  {
   "attachments": {},
   "cell_type": "markdown",
   "metadata": {},
   "source": [
    "## Part 2: World Cup\n",
    "\n",
    "In the DataSet, the `tournament` column provides the tournament where the game was played.\n",
    "\n",
    "World Cup games were the only international matches played on Nov. 30, 2022 (`2022-11-30`).  Find the `tournament` string used for games during the World Cup by looking at games with that `date` during the world cup."
   ]
  },
  {
   "cell_type": "code",
   "execution_count": 28,
   "metadata": {},
   "outputs": [
    {
     "data": {
      "text/html": [
       "<div>\n",
       "<style scoped>\n",
       "    .dataframe tbody tr th:only-of-type {\n",
       "        vertical-align: middle;\n",
       "    }\n",
       "\n",
       "    .dataframe tbody tr th {\n",
       "        vertical-align: top;\n",
       "    }\n",
       "\n",
       "    .dataframe thead th {\n",
       "        text-align: right;\n",
       "    }\n",
       "</style>\n",
       "<table border=\"1\" class=\"dataframe\">\n",
       "  <thead>\n",
       "    <tr style=\"text-align: right;\">\n",
       "      <th></th>\n",
       "      <th>date</th>\n",
       "      <th>home_team</th>\n",
       "      <th>away_team</th>\n",
       "      <th>home_score</th>\n",
       "      <th>away_score</th>\n",
       "      <th>tournament</th>\n",
       "      <th>city</th>\n",
       "      <th>country</th>\n",
       "      <th>neutral</th>\n",
       "    </tr>\n",
       "  </thead>\n",
       "  <tbody>\n",
       "    <tr>\n",
       "      <th>45685</th>\n",
       "      <td>2022-11-30</td>\n",
       "      <td>Poland</td>\n",
       "      <td>Argentina</td>\n",
       "      <td>0</td>\n",
       "      <td>2</td>\n",
       "      <td>FIFA World Cup</td>\n",
       "      <td>Doha</td>\n",
       "      <td>Qatar</td>\n",
       "      <td>True</td>\n",
       "    </tr>\n",
       "    <tr>\n",
       "      <th>45686</th>\n",
       "      <td>2022-11-30</td>\n",
       "      <td>Saudi Arabia</td>\n",
       "      <td>Mexico</td>\n",
       "      <td>1</td>\n",
       "      <td>2</td>\n",
       "      <td>FIFA World Cup</td>\n",
       "      <td>Lusail</td>\n",
       "      <td>Qatar</td>\n",
       "      <td>True</td>\n",
       "    </tr>\n",
       "    <tr>\n",
       "      <th>45687</th>\n",
       "      <td>2022-11-30</td>\n",
       "      <td>Australia</td>\n",
       "      <td>Denmark</td>\n",
       "      <td>1</td>\n",
       "      <td>0</td>\n",
       "      <td>FIFA World Cup</td>\n",
       "      <td>Al Wakrah</td>\n",
       "      <td>Qatar</td>\n",
       "      <td>True</td>\n",
       "    </tr>\n",
       "    <tr>\n",
       "      <th>45688</th>\n",
       "      <td>2022-11-30</td>\n",
       "      <td>Tunisia</td>\n",
       "      <td>France</td>\n",
       "      <td>1</td>\n",
       "      <td>0</td>\n",
       "      <td>FIFA World Cup</td>\n",
       "      <td>Al Rayyan</td>\n",
       "      <td>Qatar</td>\n",
       "      <td>True</td>\n",
       "    </tr>\n",
       "  </tbody>\n",
       "</table>\n",
       "</div>"
      ],
      "text/plain": [
       "             date     home_team  away_team  home_score  away_score  \\\n",
       "45685  2022-11-30        Poland  Argentina           0           2   \n",
       "45686  2022-11-30  Saudi Arabia     Mexico           1           2   \n",
       "45687  2022-11-30     Australia    Denmark           1           0   \n",
       "45688  2022-11-30       Tunisia     France           1           0   \n",
       "\n",
       "           tournament       city country  neutral  \n",
       "45685  FIFA World Cup       Doha   Qatar     True  \n",
       "45686  FIFA World Cup     Lusail   Qatar     True  \n",
       "45687  FIFA World Cup  Al Wakrah   Qatar     True  \n",
       "45688  FIFA World Cup  Al Rayyan   Qatar     True  "
      ]
     },
     "execution_count": 28,
     "metadata": {},
     "output_type": "execute_result"
    }
   ],
   "source": [
    "df[df.date == \"2022-11-30\"]"
   ]
  },
  {
   "attachments": {},
   "cell_type": "markdown",
   "metadata": {},
   "source": [
    "Knowing how the World Cup games are labeled, create a new DataFrame `df_worldcup` that contains all World Cup games played in the dataset:"
   ]
  },
  {
   "cell_type": "code",
   "execution_count": 29,
   "metadata": {},
   "outputs": [
    {
     "data": {
      "text/html": [
       "<div>\n",
       "<style scoped>\n",
       "    .dataframe tbody tr th:only-of-type {\n",
       "        vertical-align: middle;\n",
       "    }\n",
       "\n",
       "    .dataframe tbody tr th {\n",
       "        vertical-align: top;\n",
       "    }\n",
       "\n",
       "    .dataframe thead th {\n",
       "        text-align: right;\n",
       "    }\n",
       "</style>\n",
       "<table border=\"1\" class=\"dataframe\">\n",
       "  <thead>\n",
       "    <tr style=\"text-align: right;\">\n",
       "      <th></th>\n",
       "      <th>date</th>\n",
       "      <th>home_team</th>\n",
       "      <th>away_team</th>\n",
       "      <th>home_score</th>\n",
       "      <th>away_score</th>\n",
       "      <th>tournament</th>\n",
       "      <th>city</th>\n",
       "      <th>country</th>\n",
       "      <th>neutral</th>\n",
       "    </tr>\n",
       "  </thead>\n",
       "  <tbody>\n",
       "    <tr>\n",
       "      <th>1444</th>\n",
       "      <td>1930-07-13</td>\n",
       "      <td>Belgium</td>\n",
       "      <td>United States</td>\n",
       "      <td>0</td>\n",
       "      <td>3</td>\n",
       "      <td>FIFA World Cup</td>\n",
       "      <td>Montevideo</td>\n",
       "      <td>Uruguay</td>\n",
       "      <td>True</td>\n",
       "    </tr>\n",
       "    <tr>\n",
       "      <th>1445</th>\n",
       "      <td>1930-07-13</td>\n",
       "      <td>France</td>\n",
       "      <td>Mexico</td>\n",
       "      <td>4</td>\n",
       "      <td>1</td>\n",
       "      <td>FIFA World Cup</td>\n",
       "      <td>Montevideo</td>\n",
       "      <td>Uruguay</td>\n",
       "      <td>True</td>\n",
       "    </tr>\n",
       "    <tr>\n",
       "      <th>1446</th>\n",
       "      <td>1930-07-14</td>\n",
       "      <td>Brazil</td>\n",
       "      <td>Yugoslavia</td>\n",
       "      <td>1</td>\n",
       "      <td>2</td>\n",
       "      <td>FIFA World Cup</td>\n",
       "      <td>Montevideo</td>\n",
       "      <td>Uruguay</td>\n",
       "      <td>True</td>\n",
       "    </tr>\n",
       "    <tr>\n",
       "      <th>1447</th>\n",
       "      <td>1930-07-14</td>\n",
       "      <td>Peru</td>\n",
       "      <td>Romania</td>\n",
       "      <td>1</td>\n",
       "      <td>3</td>\n",
       "      <td>FIFA World Cup</td>\n",
       "      <td>Montevideo</td>\n",
       "      <td>Uruguay</td>\n",
       "      <td>True</td>\n",
       "    </tr>\n",
       "    <tr>\n",
       "      <th>1448</th>\n",
       "      <td>1930-07-15</td>\n",
       "      <td>Argentina</td>\n",
       "      <td>France</td>\n",
       "      <td>1</td>\n",
       "      <td>0</td>\n",
       "      <td>FIFA World Cup</td>\n",
       "      <td>Montevideo</td>\n",
       "      <td>Uruguay</td>\n",
       "      <td>True</td>\n",
       "    </tr>\n",
       "    <tr>\n",
       "      <th>...</th>\n",
       "      <td>...</td>\n",
       "      <td>...</td>\n",
       "      <td>...</td>\n",
       "      <td>...</td>\n",
       "      <td>...</td>\n",
       "      <td>...</td>\n",
       "      <td>...</td>\n",
       "      <td>...</td>\n",
       "      <td>...</td>\n",
       "    </tr>\n",
       "    <tr>\n",
       "      <th>45709</th>\n",
       "      <td>2022-12-10</td>\n",
       "      <td>England</td>\n",
       "      <td>France</td>\n",
       "      <td>1</td>\n",
       "      <td>2</td>\n",
       "      <td>FIFA World Cup</td>\n",
       "      <td>Al Khor</td>\n",
       "      <td>Qatar</td>\n",
       "      <td>True</td>\n",
       "    </tr>\n",
       "    <tr>\n",
       "      <th>45711</th>\n",
       "      <td>2022-12-13</td>\n",
       "      <td>Argentina</td>\n",
       "      <td>Croatia</td>\n",
       "      <td>3</td>\n",
       "      <td>0</td>\n",
       "      <td>FIFA World Cup</td>\n",
       "      <td>Lusail</td>\n",
       "      <td>Qatar</td>\n",
       "      <td>True</td>\n",
       "    </tr>\n",
       "    <tr>\n",
       "      <th>45712</th>\n",
       "      <td>2022-12-14</td>\n",
       "      <td>France</td>\n",
       "      <td>Morocco</td>\n",
       "      <td>2</td>\n",
       "      <td>0</td>\n",
       "      <td>FIFA World Cup</td>\n",
       "      <td>Al Khor</td>\n",
       "      <td>Qatar</td>\n",
       "      <td>True</td>\n",
       "    </tr>\n",
       "    <tr>\n",
       "      <th>45716</th>\n",
       "      <td>2022-12-17</td>\n",
       "      <td>Croatia</td>\n",
       "      <td>Morocco</td>\n",
       "      <td>2</td>\n",
       "      <td>1</td>\n",
       "      <td>FIFA World Cup</td>\n",
       "      <td>Al Rayyan</td>\n",
       "      <td>Qatar</td>\n",
       "      <td>True</td>\n",
       "    </tr>\n",
       "    <tr>\n",
       "      <th>45718</th>\n",
       "      <td>2022-12-18</td>\n",
       "      <td>Argentina</td>\n",
       "      <td>France</td>\n",
       "      <td>3</td>\n",
       "      <td>3</td>\n",
       "      <td>FIFA World Cup</td>\n",
       "      <td>Lusail</td>\n",
       "      <td>Qatar</td>\n",
       "      <td>True</td>\n",
       "    </tr>\n",
       "  </tbody>\n",
       "</table>\n",
       "<p>964 rows × 9 columns</p>\n",
       "</div>"
      ],
      "text/plain": [
       "             date  home_team      away_team  home_score  away_score  \\\n",
       "1444   1930-07-13    Belgium  United States           0           3   \n",
       "1445   1930-07-13     France         Mexico           4           1   \n",
       "1446   1930-07-14     Brazil     Yugoslavia           1           2   \n",
       "1447   1930-07-14       Peru        Romania           1           3   \n",
       "1448   1930-07-15  Argentina         France           1           0   \n",
       "...           ...        ...            ...         ...         ...   \n",
       "45709  2022-12-10    England         France           1           2   \n",
       "45711  2022-12-13  Argentina        Croatia           3           0   \n",
       "45712  2022-12-14     France        Morocco           2           0   \n",
       "45716  2022-12-17    Croatia        Morocco           2           1   \n",
       "45718  2022-12-18  Argentina         France           3           3   \n",
       "\n",
       "           tournament        city  country  neutral  \n",
       "1444   FIFA World Cup  Montevideo  Uruguay     True  \n",
       "1445   FIFA World Cup  Montevideo  Uruguay     True  \n",
       "1446   FIFA World Cup  Montevideo  Uruguay     True  \n",
       "1447   FIFA World Cup  Montevideo  Uruguay     True  \n",
       "1448   FIFA World Cup  Montevideo  Uruguay     True  \n",
       "...               ...         ...      ...      ...  \n",
       "45709  FIFA World Cup     Al Khor    Qatar     True  \n",
       "45711  FIFA World Cup      Lusail    Qatar     True  \n",
       "45712  FIFA World Cup     Al Khor    Qatar     True  \n",
       "45716  FIFA World Cup   Al Rayyan    Qatar     True  \n",
       "45718  FIFA World Cup      Lusail    Qatar     True  \n",
       "\n",
       "[964 rows x 9 columns]"
      ]
     },
     "execution_count": 29,
     "metadata": {},
     "output_type": "execute_result"
    }
   ],
   "source": [
    "df_worldcup = df[df.tournament == \"FIFA World Cup\"]\n",
    "df_worldcup"
   ]
  },
  {
   "attachments": {},
   "cell_type": "markdown",
   "metadata": {},
   "source": [
    "### 🔬 Checkpoint Tests 🔬"
   ]
  },
  {
   "cell_type": "code",
   "execution_count": 30,
   "metadata": {},
   "outputs": [
    {
     "name": "stdout",
     "output_type": "stream",
     "text": [
      "🎉 All Tests Passed! 🎉\n"
     ]
    }
   ],
   "source": [
    "### TEST CASE for Part 2.1: World Cup Games\n",
    "\n",
    "tada = \"\\N{PARTY POPPER}\"\n",
    "\n",
    "assert(\"df_worldcup\" in vars())\n",
    "\n",
    "assert(len(df_worldcup) > 960)\n",
    "assert(len(df_worldcup[\"tournament\"].unique()) == 1)\n",
    "assert(\"World Cup\" in df_worldcup[\"tournament\"].unique()[0])\n",
    "\n",
    "print(f\"{tada} All Tests Passed! {tada}\") "
   ]
  },
  {
   "attachments": {},
   "cell_type": "markdown",
   "metadata": {},
   "source": [
    "## Total Points Scored at The World Cup\n",
    "\n",
    "Calculate the number of goals scored in **ALL** World Cup matches and store that value in `total_WC_goals`.  The variable `total_WC_goals` should be a single number of the total goals scored (not a DataFrame or a row).\n",
    "\n",
    "- Each game has two teams -- make sure you are adding **both** `home_score` and `away_score` in World Cup games to find the total number of points scored."
   ]
  },
  {
   "cell_type": "code",
   "execution_count": 31,
   "metadata": {},
   "outputs": [
    {
     "data": {
      "text/plain": [
       "np.int64(2720)"
      ]
     },
     "execution_count": 31,
     "metadata": {},
     "output_type": "execute_result"
    }
   ],
   "source": [
    "total_WC_goals = df_worldcup['home_score'].sum() + df_worldcup['away_score'].sum()\n",
    "total_WC_goals"
   ]
  },
  {
   "attachments": {},
   "cell_type": "markdown",
   "metadata": {},
   "source": [
    "### 🔬 Checkpoint Tests 🔬"
   ]
  },
  {
   "cell_type": "code",
   "execution_count": 32,
   "metadata": {},
   "outputs": [
    {
     "name": "stdout",
     "output_type": "stream",
     "text": [
      "🎉 All Tests Passed! 🎉\n"
     ]
    }
   ],
   "source": [
    "### TEST CASE for Part 2.2: Total Points Scored at The World Cup\n",
    "tada = \"\\N{PARTY POPPER}\"\n",
    "assert(df[df[\"tournament\"] == \"FIFA World Cup\"].sum().iloc[3] + df[df[\"tournament\"] == \"FIFA World Cup\"].sum().iloc[4] == total_WC_goals)\n",
    "print(f\"{tada} All Tests Passed! {tada}\") "
   ]
  },
  {
   "attachments": {},
   "cell_type": "markdown",
   "metadata": {},
   "source": [
    "<hr style=\"color: #DD3403;\">"
   ]
  },
  {
   "attachments": {},
   "cell_type": "markdown",
   "metadata": {},
   "source": [
    "## Part 3: United States Win Percentage\n",
    "\n",
    "Our dataset contains a `home_team` and an `away_team` column along with a home_score and away_score. Using these columns find the number of wins, losses, and ties the United States has: "
   ]
  },
  {
   "attachments": {},
   "cell_type": "markdown",
   "metadata": {},
   "source": [
    "First, find `US_wins`, the number of games the United States has won the match:"
   ]
  },
  {
   "cell_type": "code",
   "execution_count": 64,
   "metadata": {},
   "outputs": [
    {
     "data": {
      "text/plain": [
       "336"
      ]
     },
     "execution_count": 64,
     "metadata": {},
     "output_type": "execute_result"
    }
   ],
   "source": [
    "US_home_wins = len(df[(df.home_team == \"United States\") & (df.home_score > df.away_score)])\n",
    "US_away_wins = len(df[(df.away_team == \"United States\") & (df.away_score > df.home_score)])\n",
    "US_wins = US_home_wins + US_away_wins\n",
    "US_wins\n"
   ]
  },
  {
   "attachments": {},
   "cell_type": "markdown",
   "metadata": {},
   "source": [
    "Next, find `US_loss`, the number of times the United States has loss the match:"
   ]
  },
  {
   "cell_type": "code",
   "execution_count": 73,
   "metadata": {},
   "outputs": [
    {
     "data": {
      "text/plain": [
       "265"
      ]
     },
     "execution_count": 73,
     "metadata": {},
     "output_type": "execute_result"
    }
   ],
   "source": [
    "US_home_loss = len(df[(df.home_team == \"United States\") & (df.home_score < df.away_score)])\n",
    "US_away_loss = len(df[(df.away_team == \"United States\") & (df.away_score < df.home_score)])\n",
    "US_loss = US_home_loss + US_away_loss\n",
    "US_loss"
   ]
  },
  {
   "attachments": {},
   "cell_type": "markdown",
   "metadata": {},
   "source": [
    "Finally, find `US_draw`, the number of times the United States has a draw in the match:"
   ]
  },
  {
   "cell_type": "code",
   "execution_count": 74,
   "metadata": {},
   "outputs": [
    {
     "data": {
      "text/plain": [
       "159"
      ]
     },
     "execution_count": 74,
     "metadata": {},
     "output_type": "execute_result"
    }
   ],
   "source": [
    "US_draw = len(df[((df.home_team == \"United States\") | (df.away_team == \"United States\")) & (df.home_score == df.away_score)])\n",
    "US_draw\n"
   ]
  },
  {
   "attachments": {},
   "cell_type": "markdown",
   "metadata": {},
   "source": [
    "### Calculate the Win Percentage of the United States\n",
    "\n",
    "Now, calculate the \"Win Percentage\" of the United States.  In football(soccer), \"Win Percentage\" considers a win to be a win and a draw to be **half** of a win.\n",
    "\n",
    "Save this result as `US_WinPercent`"
   ]
  },
  {
   "cell_type": "code",
   "execution_count": 75,
   "metadata": {},
   "outputs": [
    {
     "data": {
      "text/plain": [
       "0.5467105263157894"
      ]
     },
     "execution_count": 75,
     "metadata": {},
     "output_type": "execute_result"
    }
   ],
   "source": [
    "US_WinPercent = (US_wins + (0.5)*US_draw) / (US_wins + US_draw + US_loss)\n",
    "US_WinPercent"
   ]
  },
  {
   "cell_type": "code",
   "execution_count": 83,
   "metadata": {},
   "outputs": [
    {
     "data": {
      "text/plain": [
       "760"
      ]
     },
     "execution_count": 83,
     "metadata": {},
     "output_type": "execute_result"
    }
   ],
   "source": [
    "# for myself: checking to see if wins + losses + draws = total number of games where U.S played\n",
    "US_wins + US_loss + US_draw"
   ]
  },
  {
   "cell_type": "code",
   "execution_count": 82,
   "metadata": {},
   "outputs": [
    {
     "data": {
      "text/plain": [
       "760"
      ]
     },
     "execution_count": 82,
     "metadata": {},
     "output_type": "execute_result"
    }
   ],
   "source": [
    "len(df[(df.home_team == \"United States\") | (df.away_team == \"United States\")])"
   ]
  },
  {
   "attachments": {},
   "cell_type": "markdown",
   "metadata": {},
   "source": [
    "### 🔬 Checkpoint Tests 🔬"
   ]
  },
  {
   "cell_type": "code",
   "execution_count": 84,
   "metadata": {},
   "outputs": [
    {
     "name": "stdout",
     "output_type": "stream",
     "text": [
      "🎉 All Tests Passed! 🎉\n"
     ]
    }
   ],
   "source": [
    "### TEST CASE for Part 3: United States Win Percentage\n",
    "\n",
    "tada = \"\\N{PARTY POPPER}\"\n",
    "\n",
    "assert(\"US_wins\" in vars())\n",
    "assert(\"US_loss\" in vars())\n",
    "assert(\"US_draw\" in vars())\n",
    "assert(\"US_WinPercent\" in vars())\n",
    "\n",
    "assert(len(df[((df.iloc[:, 1] == df.iloc[41, 1])&(df.iloc[:,3] > df.iloc[:,4])) | (df.iloc[:, 2] == df.iloc[41, 1])&(df.iloc[:,3] < df.iloc[:,4])])\n",
    " == US_wins)\n",
    "assert(len(df[((df.iloc[:, 1] == df.iloc[41, 1])&(df.iloc[:,3] < df.iloc[:,4])) | (df.iloc[:, 2] == df.iloc[41, 1])&(df.iloc[:,3] > df.iloc[:,4])])\n",
    " == US_loss)\n",
    "assert(len(df[((df.iloc[:, 1] == df.iloc[41, 1])&(df.iloc[:,3] == df.iloc[:,4])) | (df.iloc[:, 2] == df.iloc[41, 1])&(df.iloc[:,3] == df.iloc[:,4])])\n",
    " == US_draw)\n",
    "\n",
    "assert((US_wins + .5*US_draw) / (US_draw+US_loss+US_wins) == US_WinPercent) \n",
    "print(f\"{tada} All Tests Passed! {tada}\") "
   ]
  },
  {
   "attachments": {},
   "cell_type": "markdown",
   "metadata": {},
   "source": [
    "<hr style=\"color: #DD3403;\">"
   ]
  },
  {
   "attachments": {},
   "cell_type": "markdown",
   "metadata": {},
   "source": [
    "## Submission\n",
    "\n",
    "You're almost done!  All you need to do is to commit your lab to GitHub and run the GitHub Actions Grader:\n",
    "\n",
    "1.  ⚠️ **Make certain to save your work.** ⚠️ To do this, go to **File => Save All**\n",
    "\n",
    "2.  After you have saved, exit this notebook and return to https://discovery.cs.illinois.edu/microproject/fifa-world-cup/ and complete the section **\"Commit and Grade Your Notebook\"**.\n",
    "\n",
    "3. If you see a 100% grade result on your GitHub Action, you've completed this MicroProject! 🎉"
   ]
  }
 ],
 "metadata": {
  "kernelspec": {
   "display_name": "Python 3",
   "language": "python",
   "name": "python3"
  },
  "language_info": {
   "codemirror_mode": {
    "name": "ipython",
    "version": 3
   },
   "file_extension": ".py",
   "mimetype": "text/x-python",
   "name": "python",
   "nbconvert_exporter": "python",
   "pygments_lexer": "ipython3",
   "version": "3.9.6"
  }
 },
 "nbformat": 4,
 "nbformat_minor": 2
}
